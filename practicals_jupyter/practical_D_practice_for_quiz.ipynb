{
 "cells": [
  {
   "cell_type": "markdown",
   "metadata": {},
   "source": [
    "# [MATH2504 Programming of Simulation, Analysis, and Learning Systems at The University of Queensland](https://courses.smp.uq.edu.au/MATH2504/)\n",
    "\n",
    "## Semester 2, 2025\n",
    "\n",
    "# Practical D: Practice for Quiz\n",
    "\n",
    "In this practical we prepare for the quiz. The focus is on 2021 practice Quiz but please also use the 2021, 2022, and 2023 actual Quizes (and solutions). Consult with the tutors about solutions to these Quizes."
   ]
  },
  {
   "cell_type": "markdown",
   "metadata": {},
   "source": [
    "**Task 1:** See the (2021) [practice quiz](https://courses.smp.uq.edu.au/MATH2504/2025/quiz/practice_quiz_2021.pdf)\n",
    "\n",
    "**Sub-Task:** Make sure you read the instructions on the first page. The same instructions will be used for the first quiz."
   ]
  },
  {
   "cell_type": "markdown",
   "metadata": {},
   "source": [
    "**Sub-Task:** Consider question 1. The solutions are:"
   ]
  },
  {
   "cell_type": "code",
   "execution_count": 1,
   "metadata": {},
   "outputs": [
    {
     "name": "stdout",
     "output_type": "stream",
     "text": [
      "338350\n"
     ]
    }
   ],
   "source": [
    "s = sum([i^2 for i in 1:100])\n",
    "println(s)"
   ]
  },
  {
   "cell_type": "code",
   "execution_count": 3,
   "metadata": {},
   "outputs": [
    {
     "name": "stdout",
     "output_type": "stream",
     "text": [
      "338350\n"
     ]
    }
   ],
   "source": [
    "s = 0\n",
    "for i in 1:100  #Solution of Q1a\n",
    "    s += i^2    #Solution of Q1a\n",
    "end\n",
    "println(s)"
   ]
  },
  {
   "cell_type": "code",
   "execution_count": 6,
   "metadata": {},
   "outputs": [
    {
     "name": "stdout",
     "output_type": "stream",
     "text": [
      "338350\n"
     ]
    }
   ],
   "source": [
    "s, i = 0, 1\n",
    "while true\n",
    "    s += i^2\n",
    "    i == 100 ? break : i += 1 #Solution of Q1b\n",
    "end\n",
    "println(s)"
   ]
  },
  {
   "cell_type": "code",
   "execution_count": 9,
   "metadata": {},
   "outputs": [
    {
     "name": "stdout",
     "output_type": "stream",
     "text": [
      "338350\n"
     ]
    }
   ],
   "source": [
    "function f(s,i)\n",
    "    if i == 0\n",
    "        return s, 0\n",
    "    else\n",
    "        return f(s + i^2, i-1)  #Solution of Q1c\n",
    "    end\n",
    "end\n",
    "s, _ = f(0,100)\n",
    "println(s)"
   ]
  },
  {
   "cell_type": "markdown",
   "metadata": {},
   "source": [
    "**Sub-Task:** Consider question 2. "
   ]
  },
  {
   "cell_type": "code",
   "execution_count": 10,
   "metadata": {},
   "outputs": [
    {
     "data": {
      "text/plain": [
       "to_value (generic function with 1 method)"
      ]
     },
     "execution_count": 10,
     "metadata": {},
     "output_type": "execute_result"
    }
   ],
   "source": [
    "function to_value(x::UInt8)\n",
    "    n = x >> 3\n",
    "    R = x & 0b111\n",
    "    @assert R<=5\n",
    "    (n == 0 ? 0 : UInt128(10)^n) + R\n",
    "end"
   ]
  },
  {
   "cell_type": "markdown",
   "metadata": {},
   "source": [
    "The solutions are:"
   ]
  },
  {
   "cell_type": "markdown",
   "metadata": {},
   "source": [
    "**Solution for Q2a:** `0xFF` is a byte with all bits set to 1. This means that `n=31` and `R=7`. Hence we will get an assertion error."
   ]
  },
  {
   "cell_type": "code",
   "execution_count": 11,
   "metadata": {},
   "outputs": [
    {
     "ename": "LoadError",
     "evalue": "AssertionError: R <= 5",
     "output_type": "error",
     "traceback": [
      "AssertionError: R <= 5",
      "",
      "Stacktrace:",
      " [1] to_value(x::UInt8)",
      "   @ Main ./In[10]:4",
      " [2] top-level scope",
      "   @ In[11]:1",
      " [3] eval",
      "   @ ./boot.jl:360 [inlined]",
      " [4] include_string(mapexpr::typeof(REPL.softscope), mod::Module, code::String, filename::String)",
      "   @ Base ./loading.jl:1094"
     ]
    }
   ],
   "source": [
    "to_value(0xFF)"
   ]
  },
  {
   "cell_type": "markdown",
   "metadata": {},
   "source": [
    "**Solution for Q2b:** The largest value without an error would have bits `11111qqq` where `qqq` are set to a value of decimal 5, or `qqq = 101`. That is the largest value is `11111101 = 0xFD` because `1101` in binary is `D` in hex."
   ]
  },
  {
   "cell_type": "code",
   "execution_count": 16,
   "metadata": {},
   "outputs": [
    {
     "data": {
      "text/plain": [
       "0x0000007e37be2022c0914b2680000005"
      ]
     },
     "execution_count": 16,
     "metadata": {},
     "output_type": "execute_result"
    }
   ],
   "source": [
    "to_value(0xFD)"
   ]
  },
  {
   "cell_type": "code",
   "execution_count": 18,
   "metadata": {},
   "outputs": [],
   "source": [
    "#Try to_value(0xFE) #(too large)"
   ]
  },
  {
   "cell_type": "markdown",
   "metadata": {},
   "source": [
    "**Solution for Q2c:** \n",
    "The line `R = x & 0b111` zeroes out the 5 top bits of `x` and puts the remaining values in `R`. This can also be done via, `R = (x << 5) >> 5`."
   ]
  },
  {
   "cell_type": "code",
   "execution_count": 25,
   "metadata": {},
   "outputs": [
    {
     "data": {
      "text/plain": [
       "to_value2 (generic function with 1 method)"
      ]
     },
     "execution_count": 25,
     "metadata": {},
     "output_type": "execute_result"
    }
   ],
   "source": [
    "function to_value2(x::UInt8)\n",
    "    n = x >> 3\n",
    "    R = (x << 5) >> 5\n",
    "    @assert R<=5\n",
    "    (n == 0 ? 0 : UInt128(10)^n) + R\n",
    "end"
   ]
  },
  {
   "cell_type": "code",
   "execution_count": 26,
   "metadata": {},
   "outputs": [
    {
     "data": {
      "text/plain": [
       "(0x0000007e37be2022c0914b2680000005, 0x0000007e37be2022c0914b2680000005)"
      ]
     },
     "execution_count": 26,
     "metadata": {},
     "output_type": "execute_result"
    }
   ],
   "source": [
    "to_value(0xFD), to_value2(0xFD)"
   ]
  },
  {
   "cell_type": "markdown",
   "metadata": {},
   "source": [
    "**Sub-Task:** Consider question 3."
   ]
  },
  {
   "cell_type": "markdown",
   "metadata": {},
   "source": [
    "Quiz question 3a:"
   ]
  },
  {
   "cell_type": "code",
   "execution_count": 35,
   "metadata": {},
   "outputs": [
    {
     "data": {
      "text/plain": [
       "is_sort (generic function with 1 method)"
      ]
     },
     "execution_count": 35,
     "metadata": {},
     "output_type": "execute_result"
    }
   ],
   "source": [
    "function is_sort(a)\n",
    "    n = length(a)\n",
    "    n == 1 && return true #The ??? should be true (solution to 3a)\n",
    "    m = n ÷ 2\n",
    "    return is_sort(a[1:m]) && is_sort(a[(m+1):n]) && a[m] <= a[m+1]\n",
    "end"
   ]
  },
  {
   "cell_type": "code",
   "execution_count": 36,
   "metadata": {},
   "outputs": [
    {
     "data": {
      "text/plain": [
       "true"
      ]
     },
     "execution_count": 36,
     "metadata": {},
     "output_type": "execute_result"
    }
   ],
   "source": [
    "is_sort([1,2,3])"
   ]
  },
  {
   "cell_type": "code",
   "execution_count": 37,
   "metadata": {},
   "outputs": [
    {
     "data": {
      "text/plain": [
       "false"
      ]
     },
     "execution_count": 37,
     "metadata": {},
     "output_type": "execute_result"
    }
   ],
   "source": [
    "is_sort([1,3,2])"
   ]
  },
  {
   "cell_type": "markdown",
   "metadata": {},
   "source": [
    "Quiz question 3b:"
   ]
  },
  {
   "cell_type": "code",
   "execution_count": 39,
   "metadata": {},
   "outputs": [
    {
     "data": {
      "text/plain": [
       "false"
      ]
     },
     "execution_count": 39,
     "metadata": {},
     "output_type": "execute_result"
    }
   ],
   "source": [
    "is_sort([1,2,4,3,10,7])"
   ]
  },
  {
   "cell_type": "markdown",
   "metadata": {},
   "source": [
    "On first call (**1**) we have `n=6` and hence `m=3`. We then call the function on `[1,2,4]` (call **2**) and again on `[3,10,7]` (call **3**)."
   ]
  },
  {
   "cell_type": "markdown",
   "metadata": {},
   "source": [
    "On call to `[1,2,4]` we have `n=3` and hence `m=1`. We then call the function on `[1]` (call **4**), and `[2,4]` (call **5**)."
   ]
  },
  {
   "cell_type": "markdown",
   "metadata": {},
   "source": [
    "On call to `[1]` we return `true`. Then on call to `[2,4]` we have `n=2` and hence `m=1`. We then call on `[2]` (call **6**) and again on `[4]` (call **7**). Each of these returns true."
   ]
  },
  {
   "cell_type": "markdown",
   "metadata": {},
   "source": [
    "Now the call to `[3,10,7]` operates similarly to the call on `[1,2,4]`. It has calls **8**, **9**, **10**, and **11**."
   ]
  },
  {
   "cell_type": "markdown",
   "metadata": {},
   "source": [
    "Hence in total there are 11 calls in total."
   ]
  },
  {
   "cell_type": "code",
   "execution_count": 46,
   "metadata": {},
   "outputs": [
    {
     "name": "stdout",
     "output_type": "stream",
     "text": [
      "call_counter = 1\n",
      "call_counter = 2\n",
      "call_counter = 3\n",
      "call_counter = 4\n",
      "call_counter = 5\n",
      "call_counter = 6\n",
      "call_counter = 7\n",
      "call_counter = 8\n",
      "call_counter = 9\n",
      "call_counter = 10\n",
      "call_counter = 11\n"
     ]
    },
    {
     "data": {
      "text/plain": [
       "false"
      ]
     },
     "execution_count": 46,
     "metadata": {},
     "output_type": "execute_result"
    }
   ],
   "source": [
    "#Here is a profiling demonstration of this\n",
    "call_counter = 0\n",
    "function is_sort_profile(a)\n",
    "    global call_counter += 1\n",
    "    @show call_counter\n",
    "    n = length(a)\n",
    "    n == 1 && return true #The ??? should be true (solution to 3a)\n",
    "    m = n ÷ 2\n",
    "    return is_sort_profile(a[1:m]) && is_sort_profile(a[(m+1):n]) && a[m] <= a[m+1]\n",
    "end\n",
    "is_sort_profile([1,2,4,3,10,7])"
   ]
  },
  {
   "cell_type": "markdown",
   "metadata": {},
   "source": [
    "Quiz question 3c:"
   ]
  },
  {
   "cell_type": "markdown",
   "metadata": {},
   "source": [
    "If we Switch the order of evaluation in the last line of the function then in certain cases we won't need to sort sublists due to short-circuting and evaluation. Here we demonstrate it on the profiling version:"
   ]
  },
  {
   "cell_type": "code",
   "execution_count": 51,
   "metadata": {},
   "outputs": [],
   "source": [
    "#Here is a profiling demonstration of this\n",
    "call_counter = 0\n",
    "function is_sort_profile2(a)\n",
    "    global call_counter += 1\n",
    "    @show call_counter\n",
    "    n = length(a)\n",
    "    n == 1 && return true #The ??? should be true (solution to 3a)\n",
    "    m = n ÷ 2\n",
    "    return a[m] <= a[m+1] && is_sort_profile2(a[1:m]) && is_sort_profile2(a[(m+1):n])\n",
    "end;"
   ]
  },
  {
   "cell_type": "code",
   "execution_count": 52,
   "metadata": {},
   "outputs": [
    {
     "name": "stdout",
     "output_type": "stream",
     "text": [
      "call_counter = 1\n"
     ]
    },
    {
     "data": {
      "text/plain": [
       "false"
      ]
     },
     "execution_count": 52,
     "metadata": {},
     "output_type": "execute_result"
    }
   ],
   "source": [
    "call_counter = 0\n",
    "is_sort_profile([1,2,4,3,10,7])"
   ]
  },
  {
   "cell_type": "markdown",
   "metadata": {},
   "source": [
    "## Task 2: Additional short questions"
   ]
  },
  {
   "cell_type": "markdown",
   "metadata": {},
   "source": [
    "**2a:** Consider this code taken from [Unit 1](https://courses.smp.uq.edu.au/MATH2504/lectures_html/lecture-unit-1.html):"
   ]
  },
  {
   "cell_type": "code",
   "execution_count": 61,
   "metadata": {},
   "outputs": [
    {
     "data": {
      "text/plain": [
       "1"
      ]
     },
     "execution_count": 61,
     "metadata": {},
     "output_type": "execute_result"
    }
   ],
   "source": [
    "half_adder(a::T, b::T) where {T <: Bool} = (xor(a,b), a & b)\n",
    " \n",
    "function full_adder(a::T, b::T, carry::T) where {T<:Bool}\n",
    "    (s, carry_a) = half_adder(carry, a)\n",
    "    (s, carry_b) = half_adder(s, b)\n",
    "    return (s, carry_a | carry_b)\n",
    "end\n",
    "\n",
    "function add_n_digits(a::T, b::T, n) where {T <: Int}\n",
    "    #calculate y = a + b using array indexing and logic operations\n",
    "    #convert to a vector of booleans\n",
    "    a_bool = digits(Bool, a, base = 2, pad = n)\n",
    "    b_bool = digits(Bool, b, base = 2, pad = n)\n",
    "    y_bool = fill(Bool(0), n)\n",
    "    carry = false\n",
    "    for i = 1 : n\n",
    "        (y_bool[i], carry) = full_adder(a_bool[i], b_bool[i], carry)\n",
    "    end\n",
    "    return y_bool, a_bool, b_bool\n",
    "end\n",
    "\n",
    "#turn boolean array back into a string\n",
    "display_bool_array(y) = join(reverse(Int.(y)), \"\")\n",
    "\n",
    "a = 1\n",
    "b = 1\n",
    "\n",
    "y_bool, a_bool, b_bool = add_n_digits(a, b, 16)\n",
    "\n",
    "println(\"adding $a + $b\")\n",
    "println(\"a = $(display_bool_array(a_bool))\")\n",
    "println(\"b = $(display_bool_array(b_bool))\")\n",
    "println(\"y = $(display_bool_array(y_bool))\", \"\\n\")\n",
    "\n",
    "a = 1\n",
    "b = 2^16 - 1 #biggest 16 bit UInt\n",
    "\n",
    "y_bool, a_bool, b_bool = add_n_digits(a, b, 16)\n",
    "\n",
    "println(\"adding $a + $b\")\n",
    "println(\"a = $(display_bool_array(a_bool))\")\n",
    "println(\"b = $(display_bool_array(b_bool))\")\n",
    "println(\"y = $(display_bool_array(y_bool))\", \"\\n\")\n",
    "a"
   ]
  },
  {
   "cell_type": "markdown",
   "metadata": {},
   "source": [
    "Implement code similar to it for subtraction."
   ]
  },
  {
   "cell_type": "markdown",
   "metadata": {},
   "source": [
    "### Finding a value in a sorted array"
   ]
  },
  {
   "cell_type": "markdown",
   "metadata": {},
   "source": [
    "**2b**: Assume you have numbers in a sorted array with $n$ entries. You then wish to implement a function which will check if a given number is in the array.\n",
    "\n",
    "**2b-i:** What is the time complexity of this operation if you search through the entries sequentially, starting at index $1$, moving onto index $2$, and until index $n$.\n",
    "\n",
    "The operation can be imporved by searching via a bisection search: "
   ]
  },
  {
   "cell_type": "code",
   "execution_count": 7,
   "metadata": {},
   "outputs": [
    {
     "data": {
      "text/plain": [
       "in_sorted_array (generic function with 1 method)"
      ]
     },
     "execution_count": 7,
     "metadata": {},
     "output_type": "execute_result"
    }
   ],
   "source": [
    "function in_sorted_array(a::Vector{T}, x::T) where T<:Real\n",
    "    n = length(a)\n",
    "    n == 0 && return false\n",
    "    m = n ÷ 2 + 1\n",
    "    x == a[m] && return true\n",
    "    x < a[m] && return in_sorted_array(a[1:m-1], x)\n",
    "    return in_sorted_array(a[(m+1):end], x)\n",
    "end"
   ]
  },
  {
   "cell_type": "code",
   "execution_count": 14,
   "metadata": {},
   "outputs": [
    {
     "data": {
      "text/plain": [
       "true"
      ]
     },
     "execution_count": 14,
     "metadata": {},
     "output_type": "execute_result"
    }
   ],
   "source": [
    "#Example\n",
    "using Random; Random.seed!(0)\n",
    "data = rand(Int,20)\n",
    "data[17] = 1001\n",
    "sort!(data)\n",
    "\n",
    "in_sorted_array(data,1001)"
   ]
  },
  {
   "cell_type": "markdown",
   "metadata": {},
   "source": [
    "**2b-ii:** Determine the complexity of this sorting operation and argue your result. Ignore the fact that the current implemintation above copies the arrays on each recursive call."
   ]
  },
  {
   "cell_type": "markdown",
   "metadata": {},
   "source": [
    "**2b-iii:** Implement the same algorithm without using recursion. "
   ]
  },
  {
   "cell_type": "markdown",
   "metadata": {},
   "source": [
    "**2c:** Floating point numbers"
   ]
  },
  {
   "cell_type": "markdown",
   "metadata": {},
   "source": [
    "Assume a hypothetical floating point number with $d=3$ bits for the significant, $2$ bits for the exponent, and a sign bit. Determine the range of values that can be represented via this 6 bit floating point number."
   ]
  }
 ],
 "metadata": {
  "kernelspec": {
   "display_name": "Julia 1.11.6",
   "language": "julia",
   "name": "julia-1.11"
  },
  "language_info": {
   "file_extension": ".jl",
   "mimetype": "application/julia",
   "name": "julia",
   "version": "1.11.6"
  }
 },
 "nbformat": 4,
 "nbformat_minor": 4
}
