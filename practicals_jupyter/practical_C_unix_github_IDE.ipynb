{
 "cells": [
  {
   "cell_type": "markdown",
   "metadata": {},
   "source": [
    "# [MATH2504 Programming of Simulation, Analysis, and Learning Systems at The University of Queensland](https://courses.smp.uq.edu.au/MATH2504/)\n",
    "\n",
    "## Semester 2, 2025\n",
    "\n",
    "# Practical C: Unix, GitHub and IDE\n",
    "\n",
    "In this practical we work on using using git, GitHub, Unix commands for file manipulation and git, and basic IDE usage (Visual Studio Code)."
   ]
  },
  {
   "cell_type": "markdown",
   "metadata": {},
   "source": [
    "**Before the practical**:\n",
    "* Setup a [GitHub](https://github.com/) account.\n",
    "* Setup a connection to GitHub via SSH. Or, setup a personal access token for for your account. If you need help with these steps, the tutors can help.\n",
    "* For Windows users, it is highly recommended to have [GitBash](https://gitforwindows.org/) or [Windows Terminal](https://apps.microsoft.com/detail/9n0dx20hk701?hl=en-us&gl=AU) installed. When you install, use the default options and give the app permissions it asks for.\n",
    "* For Mac or Linux users, it is highly recommended to [install Git](https://git-scm.com/book/en/v2/Getting-Started-Installing-Git) prior.\n",
    "* Install [VS-Code](https://code.visualstudio.com/) if you haven't prior.\n",
    "* Install [Julia for VS-Code](https://www.julia-vscode.org/) and get it running (create a `hello-world.jl` file and see you can run it in VS-Code. "
   ]
  },
  {
   "cell_type": "markdown",
   "metadata": {},
   "source": [
    "### Resources for setting up SSH GitHub/Git:\n",
    "\n",
    "* Follow these instructions: [Generating a new SSH key and adding it to the ssh-agent](https://docs.github.com/en/authentication/connecting-to-github-with-ssh/generating-a-new-ssh-key-and-adding-it-to-the-ssh-agent).\n",
    "* [Personal access tokens](https://docs.github.com/en/authentication/keeping-your-account-and-data-secure/managing-your-personal-access-tokens), this is an alternative to setting up SSH and is NOT the recommended option.\n",
    "* [git config](https://docs.github.com/en/get-started/getting-started-with-git/setting-your-username-in-git)."
   ]
  },
  {
   "cell_type": "markdown",
   "metadata": {},
   "source": [
    "### Basic Unix Commands"
   ]
  },
  {
   "cell_type": "markdown",
   "metadata": {},
   "source": [
    "1. Open your terminal (Linux/Mac) or GitBash (Windows).\n",
    "1. Change to your home directory with `cd ~`.\n",
    "1. Make a directory `prac_c_work` with `mkdir prac_c_work`.\n",
    "1. Go into that directory using `cd prac_c_work`.\n",
    "1. Now you will make a directory tree which will have a parent directory `Australia`, and inside it, you'll have `NSW`, `QLD`, `NT`, `ACT`, `SA`, `WA`, `TAS` directories. Try to create these directories with two mkdir commands, and without changing directory. One way to do so on BASH is:\n",
    "```\n",
    "mkdir Australia\n",
    "mkdir Australia/{NSW,QLD,NT,ACT,SA,WA,TAS}\n",
    "```\n",
    "1. Now create 6 files, each named as `capital.txt`, and each residing in the respective sub-directory of the state. The content of each file should be the name of the respective capital. For example, \n",
    "```\n",
    "echo \"Brisbane\" > Australia/QLD\n",
    "```\n",
    "For some of the capitals use output via `echo` with redirection (`>`) as above, and for others use VS-code and save the file in the respective place. As you create these files, use `ls` (also with the flags `-a`, `-R`, and `-l` to insepect the contents of the directories.\n",
    "1. Now change directory into `~/Australia/ACT` and use `pwd` just to double check that it is your current directory.\n",
    "1. From this location do the following:\n",
    "\n",
    "* Using `rm`, delete the capital file in the Queensland directory using an absolute path.\n",
    "\n",
    "* Delete the capital file in the New South Wales directory using a relative path (from where you are).\n",
    "\n",
    "* Change the name of the South Australia capital file to `Capital.txt` (upper case first letter), use a relative path.\n",
    "\n",
    "* Append \"` is very far west`\" to the contents of the Western Australia capital file using `>>` and echo.\n",
    "\n",
    "9. Now change back to your home directory using `cd` or `cd ~`. Then use `cp` to copy the file from the Western Australia directory into your current directory. \n",
    "\n",
    "10. Use `history` to see the history of commands you used.\n",
    "11. Use `history | grep mkdir` to see the lines of commands that included \"`mkdir`\". The `|` character is a pipe directing the output of the history command into the input of the `grep` command."
   ]
  },
  {
   "cell_type": "markdown",
   "metadata": {},
   "source": [
    "Note that the above is only a taste of basic Unix command line usage. There is a bit more in HW2, and you can experiment much more by yourself. You will now use it with **git**."
   ]
  },
  {
   "cell_type": "markdown",
   "metadata": {},
   "source": [
    "### Working with Git and GitHub"
   ]
  },
  {
   "cell_type": "markdown",
   "metadata": {},
   "source": [
    "#### Creating a repo via GitHub and cloning it to a local copy:\n",
    "\n",
    "1. Go to GitHub.com (login if needed) and click the \"New\" green button to create a new repository. \n",
    "* Call it `prac_C_test_<<XYZ>>` where `<<XYZ>>` is some arbitrary 3 digit number of your choice.\n",
    "* Give it a short description.\n",
    "* Choose if to make it public or private. \n",
    "* Add a README (select box).\n",
    "* Add a .gitignore file (e.g. Julia).\n",
    "* Choose a licencse (e.g. MIT).\n",
    "\n",
    "2. In your shell/terminal/GitBash change directory to `~/prac_c_work`. Then run,\n",
    "```\n",
    "git clone <<REPO URL>>\n",
    "```\n",
    "where `<<REPO URL>>` is copied from the GitHub repo under \"Code -> Clone -> HTTPS tab\".\n",
    "\n",
    "This will create a folder with the name of your repo e.g. `prac_C_test_123`.\n",
    "\n",
    "3. Now change directory so that your current working direcotry is `prac_C_test_123` (or whatever name your repository has).\n",
    "\n",
    "4. Run `git status` to see the status of the repository."
   ]
  },
  {
   "cell_type": "markdown",
   "metadata": {},
   "source": [
    "#### Making local changes, comitting locally, pushing\n",
    "\n",
    "Now that you have a local repository, let's make some changes. "
   ]
  },
  {
   "cell_type": "markdown",
   "metadata": {},
   "source": [
    "1. Create a `src` directory using `mkdir`.\n",
    "1. Now run `code .`. This starts VS-code on the working directory. If VS-Code is not in your search path on the terminal, then run it via other means and then in VS-Code choose `File->Add Folder to Workspace`.\n",
    "1. Create a file `hello.jl` in the `src` folder. Have one or two lines in the files that create basic output (e.g. \"hello world\"). After you save the file it will be \"pretty formatted\" for Julia (assuming \"Julia for VS-code\" is installed). Now hit `[SHIFT] + [ENTER]` to run the file.\n",
    "1. Now go back to the shell and run `git status`. You'll see the `src` folder in red as \"untracked\n",
    "1. Then run `git add .` and afterwards again `git status`. You'll see `src/hello.jl` in green (the staging area).\n",
    "1. Now run `git commit -m \"hello\"`. This adds a commit message `\"hello\"` to the commit and commits the change to the repository.\n",
    "1. Now run `git status` again.\n",
    "1. Now `git push` - you will may need to use your personal access token."
   ]
  },
  {
   "cell_type": "markdown",
   "metadata": {},
   "source": [
    "### Working with Visual Studio Code"
   ]
  },
  {
   "cell_type": "markdown",
   "metadata": {},
   "source": [
    "See https://www.julia-vscode.org/docs/stable/"
   ]
  },
  {
   "cell_type": "markdown",
   "metadata": {},
   "source": [
    "#### Debugging\n",
    "\n",
    "Remember from elementary probability that, if $A$ and $B$ are events, then the probability of the union event $A \\cup B$ (or simply the probability that either $A$ or $B$ occur) is given by\n",
    "$$\n",
    "    \\mathbb{P}(A \\cup B)\n",
    "    = \\mathbb{P}(A) + \\mathbb{P}(B) - \\mathbb{P}(A \\cap B).\n",
    "$$\n",
    "This is a special case of the inclusion-exclusion principle (see, for insance, [here](https://en.wikipedia.org/wiki/Inclusion%E2%80%93exclusion_principle#In_probability)), which can be generalised to an arbitrary collection of events $A_1, A_2, \\ldots, A_n$. Here, we will assume that these events $A_1, A_2, \\ldots, A_n$ are mutually independent, meaning that\n",
    "$$\n",
    "    \\mathbb{P}\\bigg(\\bigcap_{i \\in I} A_i\\bigg)\n",
    "    = \\prod_{i \\in I} \\mathbb{P}(A_i).\n",
    "$$\n",
    "for any $I \\subseteq \\{1, 2, \\ldots, n\\}$.\n",
    "\n",
    "The following program attempts to recurrsively compute $\\mathbb{P}(\\cup_{i = 1}^n A_i)$, but it doesn't work! We'll use the debugging tool inside the Julia VS-Code extension to find the problem."
   ]
  },
  {
   "cell_type": "code",
   "execution_count": null,
   "metadata": {},
   "outputs": [],
   "source": [
    "\"\"\"\n",
    "    inclusion_exclusion(P)\n",
    "\n",
    "Return ℙ(∪ᵢAᵢ) where the `i`th entry in `P` stores ℙ(Aᵢ).\n",
    "\n",
    "Assumes that A₁, A₂, …, Aₙ are mutually independent events.\n",
    "\"\"\"\n",
    "function inclusion_exclusion(P::Vector{Float64})\n",
    "    @assert length(P) != 0\n",
    "\n",
    "    if length(P) == 1\n",
    "        return P[1]\n",
    "    end\n",
    "\n",
    "    m = length(P) ÷ 2\n",
    "    first_half = P[1:m]\n",
    "    second_half = P[m:end]\n",
    "\n",
    "    p = inclusion_exclusion(first_half)\n",
    "    q = inclusion_exclusion(second_half)\n",
    "    return p + q - p * q\n",
    "end\n",
    "\n",
    "inclusion_exclusion([0.1, 0.25, 0.5])"
   ]
  },
  {
   "cell_type": "markdown",
   "metadata": {},
   "source": [
    "1. What is the correct value of $\\mathbb{P}(A_1 \\cup A_2 \\cup A_3)$ when $\\mathbb{P}(A_1) = 0.1$, $\\mathbb{P}(A_2) = 0.25$, and $\\mathbb{P}(A_3) = 0.5$?\n",
    "\n",
    "2. Create a new file called `inclusion_exclusion.jl`, open it inside VSCode, and copy-paste the above program into it. Attempt to run the program with `[SHIFT] + [ENTER]`, what error do you get?\n",
    "\n",
    "3. Now, inside the Julia REPL (either in VS-Code or your terminal) enter help mode by typing \"?\" and enter the name of the error. Does this give us a hint as to what might be going wrong?\n",
    "\n",
    "The VS-Code Julia debugger allows us to step through the function and inspect the variables' values. You can read more about the debugger [here](https://www.julia-vscode.org/docs/stable/userguide/debugging/). This is a useful tool to practice using because it helps you find and squash bugs in your code!\n",
    "\n",
    "4. Let's run `inclusion_exclusion.jl` using the debugger by either navigating to `Run -> Start Debugging` or hitting `[F5]`. The debugger ran through your code and encountered the same error... not very useful.\n",
    "\n",
    "5. We need to tell the debugger to stop during the execution of our function by setting a breakpoint. So, to put a breakpoint on Line 6 (`m = length(P) ÷ 2`), either navigate to `Run -> Toggle Breakpoint` or hit `[F9]`. A red dot should appear next to the line where your breakpoint was inserted.\n",
    "\n",
    "6. Again, after running the debugger, notice that it highlights and pauses on Line 6. This tells us that Line 6 will be run next. Under the top-left variables pane, you should see that the local variables include `P: [0.1, 0.25, 0.5]`.\n",
    "\n",
    "7. We can advance through a single line by navigating to `Run -> Step Over`, pressing the \"Step Over\" button in the navigation panel, or hitting `[F10]`. This runs the currently highlighted line. Have any new local variables been defined?\n",
    "\n",
    "8. Next, after running both Line 7 and Line 8, you should see that `first_half` and `second_half` are now defined. Can you spot the mistake? Try to fix the function and compare your answer with what we expected.\n",
    "\n",
    "**Note:** The debugging tool has many other features, including additional ways to step through the execution of your code. You should try out \"Step Over\", \"Step Into\", \"Step Out\", and \"Continue\" on your own code."
   ]
  },
  {
   "cell_type": "markdown",
   "metadata": {},
   "source": [
    "#### Plotting\n",
    "\n",
    "The VS-Code editor has an embedded plot gallery that integrates with the `Plots` package. If you don't already have this package installed, then you should install it with `using Pkg; Pkg.add(\"Plots\")` or with the Julia REPL-based package manager."
   ]
  },
  {
   "cell_type": "markdown",
   "metadata": {},
   "source": [
    "The following task deals with the [Collatz conjecture](https://en.wikipedia.org/wiki/Collatz_conjecture). This conjecture claims that, for any positive integer $n \\in \\mathbb{Z}^+$, repeated application of the following function\n",
    "$$\n",
    "    f(n)\n",
    "    = \\begin{cases}\n",
    "        \\frac{n}{2}, & n \\text{ is even}, \\\\\n",
    "        3 n + 1, & n \\text{ is odd},\n",
    "    \\end{cases}\n",
    "$$\n",
    "eventually reaches one. For example, since $f(6) = 3$, $f(3) = 10$, $f(10) = 5$, $f(5) = 16$, $f(16) = 8$, $f(8) = 4$, $f(4) = 2$, and $f(2) = 1$, we know that one can be reached by repeatedly applying $f$ to $6$. Although the conjecture is unproven, it has been verified for every $n \\le 2^{68}$.\n",
    "\n",
    "1. Create a new file called `collatz.jl`, open it inside VS-Code, and copy-paste the following snippet:"
   ]
  },
  {
   "cell_type": "code",
   "execution_count": null,
   "metadata": {},
   "outputs": [],
   "source": [
    "using Plots\n",
    "\n",
    "function f(n::Integer)\n",
    "    @assert n > 0\n",
    "    return n % 2 == 0 ? n ÷ 2 : 3 * n + 1\n",
    "end\n",
    "\n",
    "\"\"\"\n",
    "    stopping_time(n)\n",
    "\n",
    "Get the number of times `f` needs to be applied to `n` until reaching one.\n",
    "\n",
    "Warning: Not guaranteed to stop for sufficiently large `n`!\n",
    "\"\"\"\n",
    "function stopping_time(n::Integer)\n",
    "    count = 0\n",
    "    while n != 1 \n",
    "        n = f(n)\n",
    "        count += 1\n",
    "    end\n",
    "\n",
    "    return count\n",
    "end\n",
    "\n",
    "x = 1:100\n",
    "y = stopping_time.(x)\n",
    "\n",
    "plot(x, y)"
   ]
  },
  {
   "cell_type": "markdown",
   "metadata": {},
   "source": [
    "2. Run the code snippet from within VS-Code and find where it is shown in the in-built plot viewer.\n",
    "\n",
    "3. Add an appropriate title, x-axis label, y-axis label, and legend to this plot. You can refer to the `Plots` documentation and, in particular, the plot attributes section in the [tutorial](https://docs.juliaplots.org/latest/tutorial/).\n",
    "\n",
    "4. Now, define a new function `max_height(n)` that returns the largest number reached during the repeated application of `f` to `n`. For instance, `max_height(6)` should return `16`.\n",
    "\n",
    "5. Create a plot that shows the value of `max_height(n)` for each `n` between 1 and 100. Again, customise your plot by giving it a title, x-axis label, y-axis label, and legend.\n",
    "\n",
    "**Note:** The `Plots` package is actually an interface for several different plotting libraries. So, if you aren't happy with the way your plots are looking, you can always change the plotting backend, or the library being used behind-the-scenes to generate your plots.\n",
    "\n",
    "6. Tell `Plots` to use the `PlotlyJS` library by calling the function `plotlyjs()` after `using Plots`. You might need to install the `PlotlyJS` package with `using Pkg; Pkg.add(\"PlotlyJS\")`."
   ]
  }
 ],
 "metadata": {
  "@webio": {
   "lastCommId": null,
   "lastKernelId": null
  },
  "kernelspec": {
   "display_name": "Julia 1.11.6",
   "language": "julia",
   "name": "julia-1.11"
  },
  "language_info": {
   "file_extension": ".jl",
   "mimetype": "application/julia",
   "name": "julia",
   "version": "1.11.6"
  }
 },
 "nbformat": 4,
 "nbformat_minor": 4
}
