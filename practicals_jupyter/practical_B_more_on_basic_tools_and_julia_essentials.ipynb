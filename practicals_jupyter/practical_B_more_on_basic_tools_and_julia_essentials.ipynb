{
 "cells": [
  {
   "cell_type": "markdown",
   "metadata": {},
   "source": [
    "# [MATH2504 Programming of Simulation, Analysis, and Learning Systems at The University of Queensland](https://courses.smp.uq.edu.au/MATH2504/)\n",
    "\n",
    "## Semester 2, 2025\n",
    "\n",
    "# Practical B: More on basic tools and Julia essentials:\n",
    "\n",
    "In this practical we first briefly explore Markdown and LaTex. We then get onto Julia where we work on variables, logical statements, conditional statements, loops, generic functions, scope, arrays, input/output, and a few more Julia essentials.\n",
    "\n",
    "There are 7 tasks (0-6). It is best to review these tasks prior to the start of the practical so that you can ask questions during the practicals."
   ]
  },
  {
   "cell_type": "markdown",
   "metadata": {},
   "source": [
    "### Markdown"
   ]
  },
  {
   "cell_type": "markdown",
   "metadata": {},
   "source": [
    "Go over the [Markdown Cheatsheet](https://github.com/adam-p/markdown-here/wiki/Markdown-Cheatsheet) and try major options. Important to try\n",
    "* Using hyperlinks\n",
    "* Adding an image\n",
    "* Adding an image which is an hyperlink.\n",
    "\n",
    "![Jupyter](https://4.bp.blogspot.com/-BD3ZGiGy9Ms/WuJdYMbSh3I/AAAAAAACPrc/jePCk-BAX_g3_BED91p_zFgqDBJ4lR_JQCLcBGAs/s1600/jupyter.png)"
   ]
  },
  {
   "cell_type": "markdown",
   "metadata": {},
   "source": [
    "### Basic LaTeX"
   ]
  },
  {
   "cell_type": "markdown",
   "metadata": {},
   "source": [
    "Create your favorite mathematical formula. See for example this [reference](http://tug.ctan.org/info/undergradmath/undergradmath.pdf).\n",
    "\n",
    "Here is for example a formula for $e^x$:\n",
    "\n",
    "$$\n",
    "e^x = \\sum_{k=0}^\\infty \\frac{x^k}{k!}.\n",
    "$$"
   ]
  },
  {
   "cell_type": "markdown",
   "metadata": {},
   "source": [
    "### Task 0:\n",
    "Try to determine the output (for a variety of language features)."
   ]
  },
  {
   "cell_type": "markdown",
   "metadata": {},
   "source": [
    "### Task 0a:"
   ]
  },
  {
   "cell_type": "code",
   "execution_count": null,
   "metadata": {},
   "outputs": [],
   "source": [
    "log2(16), log10(100), log(1/MathConstants.e), cos(π)  #π via \\pi + [TAB]"
   ]
  },
  {
   "cell_type": "markdown",
   "metadata": {},
   "source": [
    "### Task 0b:"
   ]
  },
  {
   "cell_type": "code",
   "execution_count": null,
   "metadata": {},
   "outputs": [],
   "source": [
    "v = 1/√2 + (1/√2)im #√ via \\sqrt + [TAB]\n",
    "v^8"
   ]
  },
  {
   "cell_type": "markdown",
   "metadata": {},
   "source": [
    "### Task 0c:"
   ]
  },
  {
   "cell_type": "code",
   "execution_count": null,
   "metadata": {},
   "outputs": [],
   "source": [
    "sum([(-1)^n for n in 1:2rand(1:100)])"
   ]
  },
  {
   "cell_type": "markdown",
   "metadata": {},
   "source": [
    "### Task 0d: "
   ]
  },
  {
   "cell_type": "code",
   "execution_count": null,
   "metadata": {},
   "outputs": [],
   "source": [
    "a = collect(1:5)\n",
    "println(a[3:end])\n",
    "println(a[3:end-1])\n",
    "println(a[:])"
   ]
  },
  {
   "cell_type": "markdown",
   "metadata": {},
   "source": [
    "### Task 0e: "
   ]
  },
  {
   "cell_type": "code",
   "execution_count": null,
   "metadata": {},
   "outputs": [],
   "source": [
    "a = [i+j for i in 1:5, j in 1:5]\n",
    "display(a)\n",
    "display(a[2:4,4:end])\n",
    "display(a[1,:])\n",
    "display(a[:,end])\n",
    "println( (min(a...), minimum(a), maximum(a), max(a...)) ) #Note the splat operator ..."
   ]
  },
  {
   "cell_type": "markdown",
   "metadata": {},
   "source": [
    "## Simple tasks with arrays"
   ]
  },
  {
   "cell_type": "markdown",
   "metadata": {},
   "source": [
    "Assume we have a one dimensional array (vector) of arbitrary elements. For example,\n",
    "\n",
    "```\n",
    "a = [\"hello\", \"man\", \"hello\", \"dog\", \"hello\", \"hello\", \"hello\", \"fish\"]\n",
    "```\n",
    "\n",
    "Here the function, `longest_streak()` determines the length of the longest subsequence in the array that has the same element. For example in the case above, `longest_streak(a)` would return `3` because `\"hello\"` appears for 3 consequative spots and that is more than any other element."
   ]
  },
  {
   "cell_type": "code",
   "execution_count": 34,
   "metadata": {},
   "outputs": [
    {
     "data": {
      "text/plain": [
       "longest_streak (generic function with 1 method)"
      ]
     },
     "execution_count": 34,
     "metadata": {},
     "output_type": "execute_result"
    }
   ],
   "source": [
    "function longest_streak(a) #a is assumed to be an array\n",
    "    n = length(a)\n",
    "    if n == 1\n",
    "        return 1 #arrays of length 1 have a longest streak of 1\n",
    "    end\n",
    "    \n",
    "    current_value = a[1]\n",
    "    cs = 1 #current streak\n",
    "    ls = 1 #longest streak\n",
    "    for i in 2:n\n",
    "        if a[i] == current_value\n",
    "            cs +=1\n",
    "        else\n",
    "            current_value = a[i]\n",
    "            cs = 1\n",
    "        end\n",
    "        if cs > ls\n",
    "            ls = cs\n",
    "        end\n",
    "    end\n",
    "    return ls\n",
    "end"
   ]
  },
  {
   "cell_type": "code",
   "execution_count": 35,
   "metadata": {},
   "outputs": [
    {
     "data": {
      "text/plain": [
       "3"
      ]
     },
     "execution_count": 35,
     "metadata": {},
     "output_type": "execute_result"
    }
   ],
   "source": [
    "#Testing longest_streak() on the simple example above\n",
    "a = [\"hello\", \"man\", \"hello\", \"dog\", \"hello\", \"hello\", \"hello\", \"fish\"]\n",
    "longest_streak(a)"
   ]
  },
  {
   "cell_type": "markdown",
   "metadata": {},
   "source": [
    "### Task 1 (Code understanding):\n",
    "Explain to a peer and/or have them explain to you how the function works. What is the logic in each of the lines."
   ]
  },
  {
   "cell_type": "markdown",
   "metadata": {},
   "source": [
    "Another example of using the function:"
   ]
  },
  {
   "cell_type": "code",
   "execution_count": 36,
   "metadata": {
    "scrolled": true
   },
   "outputs": [
    {
     "name": "stdout",
     "output_type": "stream",
     "text": [
      "a = [:x, :y, :y, :x, :x, :x, :x, :x, :x, :y, :x, :x, :y, :x, :x, :y, :x, :x, :y, :x]\n"
     ]
    },
    {
     "data": {
      "text/plain": [
       "6"
      ]
     },
     "execution_count": 36,
     "metadata": {},
     "output_type": "execute_result"
    }
   ],
   "source": [
    "#Testing longest_streak() on a slightly longer example\n",
    "using Random; Random.seed!(2)\n",
    "\n",
    "a = rand([:x,:y], 20) #This is an array of symbols. :x and :y are symbols\n",
    "@show a\n",
    "longest_streak(a)"
   ]
  },
  {
   "cell_type": "markdown",
   "metadata": {},
   "source": [
    "### Task 2 (code manipulaton):\n",
    "Copy the code of `longest_streak()` to the cell below and carry out the following modifications. After each modification test the code on the (same) pseudo-random sequence of length 20 from above. \n",
    "\n",
    "### Task 2a:\n",
    "In Julia we can take two (or more) lines of the form,\n",
    "```\n",
    "x = 3\n",
    "y = 7\n",
    "```\n",
    "and write them as\n",
    "``\n",
    "x, y = 3, 7\n",
    "``\n",
    "Do this for lines 7, 8, and 9 in the original code which set values for `current_value`, `cs` and `ls`.\n",
    "\n",
    "### Task 2b:\n",
    "In Julia it is sometimes common to use [Short-Circuit Evaluation](https://docs.julialang.org/en/v1/manual/control-flow/#Short-Circuit-Evaluation) and transform statements of the form\n",
    "```\n",
    "if condition\n",
    "    do-one-line-action\n",
    "end\n",
    "```\n",
    "to the form\n",
    "```\n",
    "(condition) && (do-one-line-action)\n",
    "```\n",
    "Do this in two conditional statments of `longest_streak()`.\n",
    "\n",
    "### Task 2c:\n",
    "It turns out the first test for `length(a) == 1` is redundent because if the length if 1 the `for` loop won't run at all. Argue if this is the case and if so remove the lines associated with this test. Similarly, remove the variable `n` and use `length(a)` direction in the line of the `for` loop. "
   ]
  },
  {
   "cell_type": "code",
   "execution_count": null,
   "metadata": {},
   "outputs": [],
   "source": [
    "#copy longest_streak code here and manipulate it...\n"
   ]
  },
  {
   "cell_type": "code",
   "execution_count": null,
   "metadata": {},
   "outputs": [],
   "source": [
    "# Test that each time you still get a longest_streak of 6\n",
    "longest_streak(a)"
   ]
  },
  {
   "cell_type": "markdown",
   "metadata": {},
   "source": [
    "### Task 3 (Timing):\n",
    "\n",
    "Here is timing of `longest_streak()` on an array of random digits (`1` or `2`) of length $10^7$. Fix the seed at `0` for repeatability (longest streak should be 24)."
   ]
  },
  {
   "cell_type": "code",
   "execution_count": null,
   "metadata": {},
   "outputs": [],
   "source": [
    "using Random; Random.seed!(0) ; a = rand([1,2], 10^7) ; \n",
    "\n",
    "@time begin \n",
    "    longest_streak(a)\n",
    "end"
   ]
  },
  {
   "cell_type": "markdown",
   "metadata": {},
   "source": [
    "Experiment with the array length ranging for $10^6$ to $10^9$ to get a rough feel for the timing. Note that it is generally better to wrap the timing inside a function (see examples in Unit 2), but don't worry about that now."
   ]
  },
  {
   "cell_type": "markdown",
   "metadata": {},
   "source": [
    "### Task 4 (Alternative implementation - only skim through during the prac - self work at home):\n",
    "It turns out that using the built in function `accumulate()` and the `mode()` function from the package `StatsBase.jl`, you can have a much shorter function that does the same thing. Here it is called `longest_streak2()`. However it is harder to understand how it operates and it also runs slower.\n"
   ]
  },
  {
   "cell_type": "code",
   "execution_count": null,
   "metadata": {},
   "outputs": [],
   "source": [
    "using StatsBase #You may need to install StatsBase: using Pkg; Pkg.add(\"StatsBase\")  (or via the package manager in the REPL)\n",
    "function longest_streak2(a)\n",
    "    temp = accumulate(+,a[1:end-1] .!= a[2:end])\n",
    "    sum(temp .== mode(temp))\n",
    "end"
   ]
  },
  {
   "cell_type": "code",
   "execution_count": null,
   "metadata": {},
   "outputs": [],
   "source": [
    "using Random; Random.seed!(0) ; a = rand([:x,:y,:z], 10^7) ; longest_streak(a)"
   ]
  },
  {
   "cell_type": "markdown",
   "metadata": {},
   "source": [
    "### Task 4a:\n",
    "Check it and time it."
   ]
  },
  {
   "cell_type": "code",
   "execution_count": null,
   "metadata": {},
   "outputs": [],
   "source": [
    "using Random; Random.seed!(0) ; a = rand([1,2], 10^7) ; \n",
    "\n",
    "@time begin \n",
    "    longest_streak2(a)\n",
    "end"
   ]
  },
  {
   "cell_type": "markdown",
   "metadata": {},
   "source": [
    "### Task 4b:\n",
    "Explain it. How does `longest_streak2` work? Do this by dissecting the code into individual components and experimenting. "
   ]
  },
  {
   "cell_type": "markdown",
   "metadata": {},
   "source": [
    "# Different ways of collecting lists of results"
   ]
  },
  {
   "cell_type": "markdown",
   "metadata": {},
   "source": [
    "Say we want to study the distributions (particularly the mean) of the longest streaks when considering arrays of two values where each entry is either `\"a\"` or `\"b\"` independently with probability $1/2$. \n",
    "\n",
    "So for array length $n = 2^k$ with $k=1,20$ we repeat the sampling, say each time sampoing $N=100$ times.\n",
    "\n",
    "There are multiple ways of recording the results of such experiments. You'll now see a few of these ways."
   ]
  },
  {
   "cell_type": "markdown",
   "metadata": {},
   "source": [
    "### Task 5: Determine how each of these methods works - understand the different data formats that arise.\n",
    "\n",
    "* `compute_results_v1` - uses an array of arrays of `Any` values.\n",
    "* `compute_results_v2` - uses a preallocated array of preallocated arrays of `Int64`\n",
    "* `compute_results_v3` - uses a `Matrix`\n",
    "* `compute_results_v4` - uses a `Dict`"
   ]
  },
  {
   "cell_type": "code",
   "execution_count": 37,
   "metadata": {},
   "outputs": [],
   "source": [
    "using Random, Statistics\n",
    "function compute_results_v1(max_k;N = 10^2)\n",
    "    Random.seed!(0)\n",
    "    results = []  #Here we keep the results in an arbitrary array\n",
    "    for k in 1:max_k\n",
    "        n = 2^k\n",
    "        results_for_k = []\n",
    "        for _ in 1:N #Do Monte Carlo repetitions\n",
    "            a = rand([\"a\",\"b\"],n)\n",
    "            result = longest_streak(a)\n",
    "            push!(results_for_k,result)\n",
    "        end\n",
    "        push!(results,results_for_k)\n",
    "    end\n",
    "    return results\n",
    "end;"
   ]
  },
  {
   "cell_type": "code",
   "execution_count": 38,
   "metadata": {},
   "outputs": [
    {
     "data": {
      "text/plain": [
       "20-element Vector{Any}:\n",
       " Any[1, 1, 1, 1, 1, 1, 1, 2, 1, 2  …  2, 2, 1, 1, 1, 2, 1, 2, 1, 2]\n",
       " Any[2, 2, 3, 2, 1, 2, 4, 3, 2, 2  …  2, 3, 2, 2, 2, 2, 1, 3, 2, 2]\n",
       " Any[4, 2, 4, 4, 3, 3, 3, 2, 3, 4  …  2, 3, 4, 3, 2, 3, 2, 2, 2, 4]\n",
       " Any[3, 4, 7, 6, 4, 3, 3, 2, 5, 4  …  8, 3, 4, 3, 3, 7, 3, 5, 2, 4]\n",
       " Any[3, 4, 5, 4, 5, 5, 5, 6, 10, 7  …  5, 4, 5, 5, 3, 5, 6, 6, 4, 5]\n",
       " Any[7, 11, 7, 7, 6, 9, 6, 6, 5, 5  …  8, 5, 7, 5, 7, 8, 5, 7, 7, 5]\n",
       " Any[7, 6, 6, 5, 6, 10, 9, 8, 6, 5  …  5, 13, 5, 5, 5, 5, 8, 6, 7, 10]\n",
       " Any[8, 8, 8, 8, 15, 7, 9, 9, 8, 9  …  11, 9, 7, 10, 12, 6, 15, 7, 6, 7]\n",
       " Any[6, 12, 12, 7, 11, 8, 9, 8, 8, 10  …  7, 7, 9, 7, 10, 9, 9, 8, 9, 7]\n",
       " Any[12, 8, 10, 8, 12, 7, 13, 9, 8, 10  …  7, 11, 10, 9, 13, 9, 8, 11, 9, 9]\n",
       " Any[9, 10, 11, 11, 11, 9, 10, 10, 13, 14  …  14, 11, 16, 14, 12, 11, 14, 12, 13, 10]\n",
       " Any[12, 12, 12, 11, 10, 14, 12, 10, 14, 11  …  12, 12, 12, 13, 12, 12, 15, 11, 13, 11]\n",
       " Any[14, 18, 12, 13, 15, 12, 11, 11, 16, 12  …  16, 15, 12, 15, 14, 20, 12, 14, 10, 11]\n",
       " Any[13, 12, 13, 13, 14, 13, 18, 18, 13, 11  …  17, 16, 15, 15, 17, 13, 13, 15, 16, 13]\n",
       " Any[16, 15, 16, 15, 17, 14, 15, 13, 16, 17  …  19, 17, 14, 17, 13, 16, 19, 16, 15, 15]\n",
       " Any[19, 17, 15, 16, 14, 16, 16, 18, 15, 17  …  17, 18, 20, 17, 14, 16, 13, 16, 15, 15]\n",
       " Any[17, 19, 16, 16, 18, 18, 16, 16, 19, 16  …  14, 15, 18, 17, 17, 17, 21, 16, 17, 16]\n",
       " Any[18, 17, 17, 18, 20, 20, 17, 17, 21, 20  …  19, 17, 19, 21, 17, 16, 16, 17, 18, 19]\n",
       " Any[16, 18, 20, 19, 19, 17, 24, 18, 18, 20  …  23, 17, 17, 20, 18, 21, 17, 20, 20, 17]\n",
       " Any[22, 19, 21, 17, 18, 21, 18, 21, 22, 19  …  20, 25, 20, 22, 18, 22, 21, 19, 23, 19]"
      ]
     },
     "execution_count": 38,
     "metadata": {},
     "output_type": "execute_result"
    }
   ],
   "source": [
    "results1 = compute_results_v1(20)"
   ]
  },
  {
   "cell_type": "code",
   "execution_count": 39,
   "metadata": {},
   "outputs": [
    {
     "name": "stdout",
     "output_type": "stream",
     "text": [
      "[1.54, 2.24, 3.12, 4.4, 5.27, 6.61, 7.34, 8.29, 9.08, 10.02, 11.48, 12.31, 13.54, 14.4, 15.23, 16.44, 17.05, 18.31, 19.17, 20.29]\n"
     ]
    }
   ],
   "source": [
    "means1 = mean.(results1);\n",
    "println(means1)"
   ]
  },
  {
   "cell_type": "code",
   "execution_count": 40,
   "metadata": {},
   "outputs": [
    {
     "data": {
      "image/svg+xml": [
       "<?xml version=\"1.0\" encoding=\"utf-8\"?>\n",
       "<svg xmlns=\"http://www.w3.org/2000/svg\" xmlns:xlink=\"http://www.w3.org/1999/xlink\" width=\"600\" height=\"400\" viewBox=\"0 0 2400 1600\">\n",
       "<defs>\n",
       "  <clipPath id=\"clip080\">\n",
       "    <rect x=\"0\" y=\"0\" width=\"2400\" height=\"1600\"/>\n",
       "  </clipPath>\n",
       "</defs>\n",
       "<path clip-path=\"url(#clip080)\" d=\"\n",
       "M0 1600 L2400 1600 L2400 0 L0 0  Z\n",
       "  \" fill=\"#ffffff\" fill-rule=\"evenodd\" fill-opacity=\"1\"/>\n",
       "<defs>\n",
       "  <clipPath id=\"clip081\">\n",
       "    <rect x=\"480\" y=\"0\" width=\"1681\" height=\"1600\"/>\n",
       "  </clipPath>\n",
       "</defs>\n",
       "<path clip-path=\"url(#clip080)\" d=\"\n",
       "M203.964 1410.9 L2352.76 1410.9 L2352.76 47.2441 L203.964 47.2441  Z\n",
       "  \" fill=\"#ffffff\" fill-rule=\"evenodd\" fill-opacity=\"1\"/>\n",
       "<defs>\n",
       "  <clipPath id=\"clip082\">\n",
       "    <rect x=\"203\" y=\"47\" width=\"2150\" height=\"1365\"/>\n",
       "  </clipPath>\n",
       "</defs>\n",
       "<polyline clip-path=\"url(#clip082)\" style=\"stroke:#000000; stroke-linecap:butt; stroke-linejoin:round; stroke-width:2; stroke-opacity:0.1; fill:none\" points=\"\n",
       "  264.775,1410.9 264.775,47.2441 \n",
       "  \"/>\n",
       "<polyline clip-path=\"url(#clip082)\" style=\"stroke:#000000; stroke-linecap:butt; stroke-linejoin:round; stroke-width:2; stroke-opacity:0.1; fill:none\" points=\"\n",
       "  748.089,1410.9 748.089,47.2441 \n",
       "  \"/>\n",
       "<polyline clip-path=\"url(#clip082)\" style=\"stroke:#000000; stroke-linecap:butt; stroke-linejoin:round; stroke-width:2; stroke-opacity:0.1; fill:none\" points=\"\n",
       "  1231.4,1410.9 1231.4,47.2441 \n",
       "  \"/>\n",
       "<polyline clip-path=\"url(#clip082)\" style=\"stroke:#000000; stroke-linecap:butt; stroke-linejoin:round; stroke-width:2; stroke-opacity:0.1; fill:none\" points=\"\n",
       "  1714.72,1410.9 1714.72,47.2441 \n",
       "  \"/>\n",
       "<polyline clip-path=\"url(#clip082)\" style=\"stroke:#000000; stroke-linecap:butt; stroke-linejoin:round; stroke-width:2; stroke-opacity:0.1; fill:none\" points=\"\n",
       "  2198.03,1410.9 2198.03,47.2441 \n",
       "  \"/>\n",
       "<polyline clip-path=\"url(#clip080)\" style=\"stroke:#000000; stroke-linecap:butt; stroke-linejoin:round; stroke-width:4; stroke-opacity:1; fill:none\" points=\"\n",
       "  203.964,1410.9 2352.76,1410.9 \n",
       "  \"/>\n",
       "<polyline clip-path=\"url(#clip080)\" style=\"stroke:#000000; stroke-linecap:butt; stroke-linejoin:round; stroke-width:4; stroke-opacity:1; fill:none\" points=\"\n",
       "  264.775,1410.9 264.775,1392 \n",
       "  \"/>\n",
       "<polyline clip-path=\"url(#clip080)\" style=\"stroke:#000000; stroke-linecap:butt; stroke-linejoin:round; stroke-width:4; stroke-opacity:1; fill:none\" points=\"\n",
       "  748.089,1410.9 748.089,1392 \n",
       "  \"/>\n",
       "<polyline clip-path=\"url(#clip080)\" style=\"stroke:#000000; stroke-linecap:butt; stroke-linejoin:round; stroke-width:4; stroke-opacity:1; fill:none\" points=\"\n",
       "  1231.4,1410.9 1231.4,1392 \n",
       "  \"/>\n",
       "<polyline clip-path=\"url(#clip080)\" style=\"stroke:#000000; stroke-linecap:butt; stroke-linejoin:round; stroke-width:4; stroke-opacity:1; fill:none\" points=\"\n",
       "  1714.72,1410.9 1714.72,1392 \n",
       "  \"/>\n",
       "<polyline clip-path=\"url(#clip080)\" style=\"stroke:#000000; stroke-linecap:butt; stroke-linejoin:round; stroke-width:4; stroke-opacity:1; fill:none\" points=\"\n",
       "  2198.03,1410.9 2198.03,1392 \n",
       "  \"/>\n",
       "<path clip-path=\"url(#clip080)\" d=\"M264.775 1440.09 Q261.163 1440.09 259.335 1443.65 Q257.529 1447.19 257.529 1454.32 Q257.529 1461.43 259.335 1464.99 Q261.163 1468.54 264.775 1468.54 Q268.409 1468.54 270.214 1464.99 Q272.043 1461.43 272.043 1454.32 Q272.043 1447.19 270.214 1443.65 Q268.409 1440.09 264.775 1440.09 M264.775 1436.38 Q270.585 1436.38 273.64 1440.99 Q276.719 1445.57 276.719 1454.32 Q276.719 1463.05 273.64 1467.66 Q270.585 1472.24 264.775 1472.24 Q258.964 1472.24 255.886 1467.66 Q252.83 1463.05 252.83 1454.32 Q252.83 1445.57 255.886 1440.99 Q258.964 1436.38 264.775 1436.38 Z\" fill=\"#000000\" fill-rule=\"evenodd\" fill-opacity=\"1\" /><path clip-path=\"url(#clip080)\" d=\"M645.139 1489.17 L661.459 1489.17 L661.459 1493.1 L639.514 1493.1 L639.514 1489.17 Q642.176 1486.41 646.76 1481.78 Q651.366 1477.13 652.547 1475.79 Q654.792 1473.27 655.672 1471.53 Q656.574 1469.77 656.574 1468.08 Q656.574 1465.33 654.63 1463.59 Q652.709 1461.85 649.607 1461.85 Q647.408 1461.85 644.954 1462.62 Q642.524 1463.38 639.746 1464.93 L639.746 1460.21 Q642.57 1459.08 645.024 1458.5 Q647.477 1457.92 649.514 1457.92 Q654.885 1457.92 658.079 1460.6 Q661.274 1463.29 661.274 1467.78 Q661.274 1469.91 660.463 1471.83 Q659.676 1473.73 657.57 1476.32 Q656.991 1476.99 653.889 1480.21 Q650.787 1483.4 645.139 1489.17 Z\" fill=\"#000000\" fill-rule=\"evenodd\" fill-opacity=\"1\" /><path clip-path=\"url(#clip080)\" d=\"M671.273 1487.22 L676.158 1487.22 L676.158 1493.1 L671.273 1493.1 L671.273 1487.22 Z\" fill=\"#000000\" fill-rule=\"evenodd\" fill-opacity=\"1\" /><path clip-path=\"url(#clip080)\" d=\"M686.389 1458.54 L704.745 1458.54 L704.745 1462.48 L690.672 1462.48 L690.672 1470.95 Q691.69 1470.6 692.709 1470.44 Q693.727 1470.26 694.746 1470.26 Q700.533 1470.26 703.912 1473.43 Q707.292 1476.6 707.292 1482.02 Q707.292 1487.59 703.82 1490.7 Q700.347 1493.78 694.028 1493.78 Q691.852 1493.78 689.584 1493.4 Q687.338 1493.03 684.931 1492.29 L684.931 1487.59 Q687.014 1488.73 689.236 1489.28 Q691.459 1489.84 693.935 1489.84 Q697.94 1489.84 700.278 1487.73 Q702.616 1485.63 702.616 1482.02 Q702.616 1478.4 700.278 1476.3 Q697.94 1474.19 693.935 1474.19 Q692.06 1474.19 690.185 1474.61 Q688.334 1475.03 686.389 1475.9 L686.389 1458.54 Z\" fill=\"#000000\" fill-rule=\"evenodd\" fill-opacity=\"1\" /><path clip-path=\"url(#clip080)\" d=\"M726.505 1461.62 Q722.894 1461.62 721.065 1465.19 Q719.259 1468.73 719.259 1475.86 Q719.259 1482.97 721.065 1486.53 Q722.894 1490.07 726.505 1490.07 Q730.139 1490.07 731.944 1486.53 Q733.773 1482.97 733.773 1475.86 Q733.773 1468.73 731.944 1465.19 Q730.139 1461.62 726.505 1461.62 M726.505 1457.92 Q732.315 1457.92 735.37 1462.53 Q738.449 1467.11 738.449 1475.86 Q738.449 1484.59 735.37 1489.19 Q732.315 1493.78 726.505 1493.78 Q720.694 1493.78 717.616 1489.19 Q714.56 1484.59 714.56 1475.86 Q714.56 1467.11 717.616 1462.53 Q720.694 1457.92 726.505 1457.92 Z\" fill=\"#000000\" fill-rule=\"evenodd\" fill-opacity=\"1\" /><path clip-path=\"url(#clip080)\" d=\"M774.838 1467.64 L764.259 1478.27 L774.838 1488.84 L772.083 1491.65 L761.458 1481.02 L750.833 1491.65 L748.102 1488.84 L758.657 1478.27 L748.102 1467.64 L750.833 1464.84 L761.458 1475.47 L772.083 1464.84 L774.838 1467.64 Z\" fill=\"#000000\" fill-rule=\"evenodd\" fill-opacity=\"1\" /><path clip-path=\"url(#clip080)\" d=\"M787.199 1489.17 L794.838 1489.17 L794.838 1462.8 L786.527 1464.47 L786.527 1460.21 L794.791 1458.54 L799.467 1458.54 L799.467 1489.17 L807.106 1489.17 L807.106 1493.1 L787.199 1493.1 L787.199 1489.17 Z\" fill=\"#000000\" fill-rule=\"evenodd\" fill-opacity=\"1\" /><path clip-path=\"url(#clip080)\" d=\"M826.55 1461.62 Q822.939 1461.62 821.111 1465.19 Q819.305 1468.73 819.305 1475.86 Q819.305 1482.97 821.111 1486.53 Q822.939 1490.07 826.55 1490.07 Q830.185 1490.07 831.99 1486.53 Q833.819 1482.97 833.819 1475.86 Q833.819 1468.73 831.99 1465.19 Q830.185 1461.62 826.55 1461.62 M826.55 1457.92 Q832.361 1457.92 835.416 1462.53 Q838.495 1467.11 838.495 1475.86 Q838.495 1484.59 835.416 1489.19 Q832.361 1493.78 826.55 1493.78 Q820.74 1493.78 817.662 1489.19 Q814.606 1484.59 814.606 1475.86 Q814.606 1467.11 817.662 1462.53 Q820.74 1457.92 826.55 1457.92 Z\" fill=\"#000000\" fill-rule=\"evenodd\" fill-opacity=\"1\" /><path clip-path=\"url(#clip080)\" d=\"M839.68 1437.61 L854.594 1437.61 L854.594 1440.81 L843.159 1440.81 L843.159 1447.69 Q843.987 1447.41 844.814 1447.28 Q845.642 1447.13 846.469 1447.13 Q851.171 1447.13 853.917 1449.71 Q856.663 1452.28 856.663 1456.68 Q856.663 1461.22 853.842 1463.74 Q851.021 1466.24 845.886 1466.24 Q844.118 1466.24 842.275 1465.94 Q840.451 1465.64 838.495 1465.04 L838.495 1461.22 Q840.187 1462.14 841.993 1462.59 Q843.799 1463.04 845.811 1463.04 Q849.065 1463.04 850.964 1461.33 Q852.864 1459.62 852.864 1456.68 Q852.864 1453.75 850.964 1452.04 Q849.065 1450.33 845.811 1450.33 Q844.288 1450.33 842.764 1450.67 Q841.26 1451 839.68 1451.72 L839.68 1437.61 Z\" fill=\"#000000\" fill-rule=\"evenodd\" fill-opacity=\"1\" /><path clip-path=\"url(#clip080)\" d=\"M1124.38 1458.54 L1142.74 1458.54 L1142.74 1462.48 L1128.66 1462.48 L1128.66 1470.95 Q1129.68 1470.6 1130.7 1470.44 Q1131.72 1470.26 1132.74 1470.26 Q1138.52 1470.26 1141.9 1473.43 Q1145.28 1476.6 1145.28 1482.02 Q1145.28 1487.59 1141.81 1490.7 Q1138.34 1493.78 1132.02 1493.78 Q1129.84 1493.78 1127.57 1493.4 Q1125.33 1493.03 1122.92 1492.29 L1122.92 1487.59 Q1125 1488.73 1127.23 1489.28 Q1129.45 1489.84 1131.93 1489.84 Q1135.93 1489.84 1138.27 1487.73 Q1140.61 1485.63 1140.61 1482.02 Q1140.61 1478.4 1138.27 1476.3 Q1135.93 1474.19 1131.93 1474.19 Q1130.05 1474.19 1128.18 1474.61 Q1126.32 1475.03 1124.38 1475.9 L1124.38 1458.54 Z\" fill=\"#000000\" fill-rule=\"evenodd\" fill-opacity=\"1\" /><path clip-path=\"url(#clip080)\" d=\"M1154.5 1487.22 L1159.38 1487.22 L1159.38 1493.1 L1154.5 1493.1 L1154.5 1487.22 Z\" fill=\"#000000\" fill-rule=\"evenodd\" fill-opacity=\"1\" /><path clip-path=\"url(#clip080)\" d=\"M1179.56 1461.62 Q1175.95 1461.62 1174.12 1465.19 Q1172.32 1468.73 1172.32 1475.86 Q1172.32 1482.97 1174.12 1486.53 Q1175.95 1490.07 1179.56 1490.07 Q1183.2 1490.07 1185 1486.53 Q1186.83 1482.97 1186.83 1475.86 Q1186.83 1468.73 1185 1465.19 Q1183.2 1461.62 1179.56 1461.62 M1179.56 1457.92 Q1185.37 1457.92 1188.43 1462.53 Q1191.51 1467.11 1191.51 1475.86 Q1191.51 1484.59 1188.43 1489.19 Q1185.37 1493.78 1179.56 1493.78 Q1173.75 1493.78 1170.68 1489.19 Q1167.62 1484.59 1167.62 1475.86 Q1167.62 1467.11 1170.68 1462.53 Q1173.75 1457.92 1179.56 1457.92 Z\" fill=\"#000000\" fill-rule=\"evenodd\" fill-opacity=\"1\" /><path clip-path=\"url(#clip080)\" d=\"M1209.73 1461.62 Q1206.12 1461.62 1204.29 1465.19 Q1202.48 1468.73 1202.48 1475.86 Q1202.48 1482.97 1204.29 1486.53 Q1206.12 1490.07 1209.73 1490.07 Q1213.36 1490.07 1215.17 1486.53 Q1216.99 1482.97 1216.99 1475.86 Q1216.99 1468.73 1215.17 1465.19 Q1213.36 1461.62 1209.73 1461.62 M1209.73 1457.92 Q1215.54 1457.92 1218.59 1462.53 Q1221.67 1467.11 1221.67 1475.86 Q1221.67 1484.59 1218.59 1489.19 Q1215.54 1493.78 1209.73 1493.78 Q1203.92 1493.78 1200.84 1489.19 Q1197.78 1484.59 1197.78 1475.86 Q1197.78 1467.11 1200.84 1462.53 Q1203.92 1457.92 1209.73 1457.92 Z\" fill=\"#000000\" fill-rule=\"evenodd\" fill-opacity=\"1\" /><path clip-path=\"url(#clip080)\" d=\"M1258.06 1467.64 L1247.48 1478.27 L1258.06 1488.84 L1255.3 1491.65 L1244.68 1481.02 L1234.05 1491.65 L1231.32 1488.84 L1241.88 1478.27 L1231.32 1467.64 L1234.05 1464.84 L1244.68 1475.47 L1255.3 1464.84 L1258.06 1467.64 Z\" fill=\"#000000\" fill-rule=\"evenodd\" fill-opacity=\"1\" /><path clip-path=\"url(#clip080)\" d=\"M1270.42 1489.17 L1278.06 1489.17 L1278.06 1462.8 L1269.75 1464.47 L1269.75 1460.21 L1278.01 1458.54 L1282.69 1458.54 L1282.69 1489.17 L1290.33 1489.17 L1290.33 1493.1 L1270.42 1493.1 L1270.42 1489.17 Z\" fill=\"#000000\" fill-rule=\"evenodd\" fill-opacity=\"1\" /><path clip-path=\"url(#clip080)\" d=\"M1309.77 1461.62 Q1306.16 1461.62 1304.33 1465.19 Q1302.53 1468.73 1302.53 1475.86 Q1302.53 1482.97 1304.33 1486.53 Q1306.16 1490.07 1309.77 1490.07 Q1313.41 1490.07 1315.21 1486.53 Q1317.04 1482.97 1317.04 1475.86 Q1317.04 1468.73 1315.21 1465.19 Q1313.41 1461.62 1309.77 1461.62 M1309.77 1457.92 Q1315.58 1457.92 1318.64 1462.53 Q1321.72 1467.11 1321.72 1475.86 Q1321.72 1484.59 1318.64 1489.19 Q1315.58 1493.78 1309.77 1493.78 Q1303.96 1493.78 1300.88 1489.19 Q1297.83 1484.59 1297.83 1475.86 Q1297.83 1467.11 1300.88 1462.53 Q1303.96 1457.92 1309.77 1457.92 Z\" fill=\"#000000\" fill-rule=\"evenodd\" fill-opacity=\"1\" /><path clip-path=\"url(#clip080)\" d=\"M1322.9 1437.61 L1337.82 1437.61 L1337.82 1440.81 L1326.38 1440.81 L1326.38 1447.69 Q1327.21 1447.41 1328.04 1447.28 Q1328.86 1447.13 1329.69 1447.13 Q1334.39 1447.13 1337.14 1449.71 Q1339.88 1452.28 1339.88 1456.68 Q1339.88 1461.22 1337.06 1463.74 Q1334.24 1466.24 1329.11 1466.24 Q1327.34 1466.24 1325.5 1465.94 Q1323.67 1465.64 1321.72 1465.04 L1321.72 1461.22 Q1323.41 1462.14 1325.21 1462.59 Q1327.02 1463.04 1329.03 1463.04 Q1332.29 1463.04 1334.19 1461.33 Q1336.09 1459.62 1336.09 1456.68 Q1336.09 1453.75 1334.19 1452.04 Q1332.29 1450.33 1329.03 1450.33 Q1327.51 1450.33 1325.99 1450.67 Q1324.48 1451 1322.9 1451.72 L1322.9 1437.61 Z\" fill=\"#000000\" fill-rule=\"evenodd\" fill-opacity=\"1\" /><path clip-path=\"url(#clip080)\" d=\"M1606.35 1458.54 L1628.57 1458.54 L1628.57 1460.53 L1616.03 1493.1 L1611.14 1493.1 L1622.95 1462.48 L1606.35 1462.48 L1606.35 1458.54 Z\" fill=\"#000000\" fill-rule=\"evenodd\" fill-opacity=\"1\" /><path clip-path=\"url(#clip080)\" d=\"M1637.69 1487.22 L1642.58 1487.22 L1642.58 1493.1 L1637.69 1493.1 L1637.69 1487.22 Z\" fill=\"#000000\" fill-rule=\"evenodd\" fill-opacity=\"1\" /><path clip-path=\"url(#clip080)\" d=\"M1652.81 1458.54 L1671.17 1458.54 L1671.17 1462.48 L1657.09 1462.48 L1657.09 1470.95 Q1658.11 1470.6 1659.13 1470.44 Q1660.15 1470.26 1661.17 1470.26 Q1666.95 1470.26 1670.33 1473.43 Q1673.71 1476.6 1673.71 1482.02 Q1673.71 1487.59 1670.24 1490.7 Q1666.77 1493.78 1660.45 1493.78 Q1658.27 1493.78 1656 1493.4 Q1653.76 1493.03 1651.35 1492.29 L1651.35 1487.59 Q1653.43 1488.73 1655.66 1489.28 Q1657.88 1489.84 1660.36 1489.84 Q1664.36 1489.84 1666.7 1487.73 Q1669.04 1485.63 1669.04 1482.02 Q1669.04 1478.4 1666.7 1476.3 Q1664.36 1474.19 1660.36 1474.19 Q1658.48 1474.19 1656.61 1474.61 Q1654.75 1475.03 1652.81 1475.9 L1652.81 1458.54 Z\" fill=\"#000000\" fill-rule=\"evenodd\" fill-opacity=\"1\" /><path clip-path=\"url(#clip080)\" d=\"M1692.92 1461.62 Q1689.31 1461.62 1687.48 1465.19 Q1685.68 1468.73 1685.68 1475.86 Q1685.68 1482.97 1687.48 1486.53 Q1689.31 1490.07 1692.92 1490.07 Q1696.56 1490.07 1698.36 1486.53 Q1700.19 1482.97 1700.19 1475.86 Q1700.19 1468.73 1698.36 1465.19 Q1696.56 1461.62 1692.92 1461.62 M1692.92 1457.92 Q1698.73 1457.92 1701.79 1462.53 Q1704.87 1467.11 1704.87 1475.86 Q1704.87 1484.59 1701.79 1489.19 Q1698.73 1493.78 1692.92 1493.78 Q1687.11 1493.78 1684.04 1489.19 Q1680.98 1484.59 1680.98 1475.86 Q1680.98 1467.11 1684.04 1462.53 Q1687.11 1457.92 1692.92 1457.92 Z\" fill=\"#000000\" fill-rule=\"evenodd\" fill-opacity=\"1\" /><path clip-path=\"url(#clip080)\" d=\"M1741.26 1467.64 L1730.68 1478.27 L1741.26 1488.84 L1738.5 1491.65 L1727.88 1481.02 L1717.25 1491.65 L1714.52 1488.84 L1725.08 1478.27 L1714.52 1467.64 L1717.25 1464.84 L1727.88 1475.47 L1738.5 1464.84 L1741.26 1467.64 Z\" fill=\"#000000\" fill-rule=\"evenodd\" fill-opacity=\"1\" /><path clip-path=\"url(#clip080)\" d=\"M1753.62 1489.17 L1761.26 1489.17 L1761.26 1462.8 L1752.95 1464.47 L1752.95 1460.21 L1761.21 1458.54 L1765.89 1458.54 L1765.89 1489.17 L1773.53 1489.17 L1773.53 1493.1 L1753.62 1493.1 L1753.62 1489.17 Z\" fill=\"#000000\" fill-rule=\"evenodd\" fill-opacity=\"1\" /><path clip-path=\"url(#clip080)\" d=\"M1792.97 1461.62 Q1789.36 1461.62 1787.53 1465.19 Q1785.73 1468.73 1785.73 1475.86 Q1785.73 1482.97 1787.53 1486.53 Q1789.36 1490.07 1792.97 1490.07 Q1796.6 1490.07 1798.41 1486.53 Q1800.24 1482.97 1800.24 1475.86 Q1800.24 1468.73 1798.41 1465.19 Q1796.6 1461.62 1792.97 1461.62 M1792.97 1457.92 Q1798.78 1457.92 1801.84 1462.53 Q1804.91 1467.11 1804.91 1475.86 Q1804.91 1484.59 1801.84 1489.19 Q1798.78 1493.78 1792.97 1493.78 Q1787.16 1493.78 1784.08 1489.19 Q1781.03 1484.59 1781.03 1475.86 Q1781.03 1467.11 1784.08 1462.53 Q1787.16 1457.92 1792.97 1457.92 Z\" fill=\"#000000\" fill-rule=\"evenodd\" fill-opacity=\"1\" /><path clip-path=\"url(#clip080)\" d=\"M1806.1 1437.61 L1821.01 1437.61 L1821.01 1440.81 L1809.58 1440.81 L1809.58 1447.69 Q1810.41 1447.41 1811.23 1447.28 Q1812.06 1447.13 1812.89 1447.13 Q1817.59 1447.13 1820.34 1449.71 Q1823.08 1452.28 1823.08 1456.68 Q1823.08 1461.22 1820.26 1463.74 Q1817.44 1466.24 1812.31 1466.24 Q1810.54 1466.24 1808.7 1465.94 Q1806.87 1465.64 1804.91 1465.04 L1804.91 1461.22 Q1806.61 1462.14 1808.41 1462.59 Q1810.22 1463.04 1812.23 1463.04 Q1815.48 1463.04 1817.38 1461.33 Q1819.28 1459.62 1819.28 1456.68 Q1819.28 1453.75 1817.38 1452.04 Q1815.48 1450.33 1812.23 1450.33 Q1810.71 1450.33 1809.18 1450.67 Q1807.68 1451 1806.1 1451.72 L1806.1 1437.61 Z\" fill=\"#000000\" fill-rule=\"evenodd\" fill-opacity=\"1\" /><path clip-path=\"url(#clip080)\" d=\"M2090.38 1489.17 L2098.02 1489.17 L2098.02 1462.8 L2089.71 1464.47 L2089.71 1460.21 L2097.98 1458.54 L2102.65 1458.54 L2102.65 1489.17 L2110.29 1489.17 L2110.29 1493.1 L2090.38 1493.1 L2090.38 1489.17 Z\" fill=\"#000000\" fill-rule=\"evenodd\" fill-opacity=\"1\" /><path clip-path=\"url(#clip080)\" d=\"M2119.74 1487.22 L2124.62 1487.22 L2124.62 1493.1 L2119.74 1493.1 L2119.74 1487.22 Z\" fill=\"#000000\" fill-rule=\"evenodd\" fill-opacity=\"1\" /><path clip-path=\"url(#clip080)\" d=\"M2144.81 1461.62 Q2141.19 1461.62 2139.37 1465.19 Q2137.56 1468.73 2137.56 1475.86 Q2137.56 1482.97 2139.37 1486.53 Q2141.19 1490.07 2144.81 1490.07 Q2148.44 1490.07 2150.25 1486.53 Q2152.07 1482.97 2152.07 1475.86 Q2152.07 1468.73 2150.25 1465.19 Q2148.44 1461.62 2144.81 1461.62 M2144.81 1457.92 Q2150.62 1457.92 2153.67 1462.53 Q2156.75 1467.11 2156.75 1475.86 Q2156.75 1484.59 2153.67 1489.19 Q2150.62 1493.78 2144.81 1493.78 Q2139 1493.78 2135.92 1489.19 Q2132.86 1484.59 2132.86 1475.86 Q2132.86 1467.11 2135.92 1462.53 Q2139 1457.92 2144.81 1457.92 Z\" fill=\"#000000\" fill-rule=\"evenodd\" fill-opacity=\"1\" /><path clip-path=\"url(#clip080)\" d=\"M2174.97 1461.62 Q2171.36 1461.62 2169.53 1465.19 Q2167.72 1468.73 2167.72 1475.86 Q2167.72 1482.97 2169.53 1486.53 Q2171.36 1490.07 2174.97 1490.07 Q2178.6 1490.07 2180.41 1486.53 Q2182.24 1482.97 2182.24 1475.86 Q2182.24 1468.73 2180.41 1465.19 Q2178.6 1461.62 2174.97 1461.62 M2174.97 1457.92 Q2180.78 1457.92 2183.83 1462.53 Q2186.91 1467.11 2186.91 1475.86 Q2186.91 1484.59 2183.83 1489.19 Q2180.78 1493.78 2174.97 1493.78 Q2169.16 1493.78 2166.08 1489.19 Q2163.02 1484.59 2163.02 1475.86 Q2163.02 1467.11 2166.08 1462.53 Q2169.16 1457.92 2174.97 1457.92 Z\" fill=\"#000000\" fill-rule=\"evenodd\" fill-opacity=\"1\" /><path clip-path=\"url(#clip080)\" d=\"M2223.3 1467.64 L2212.72 1478.27 L2223.3 1488.84 L2220.55 1491.65 L2209.92 1481.02 L2199.3 1491.65 L2196.56 1488.84 L2207.12 1478.27 L2196.56 1467.64 L2199.3 1464.84 L2209.92 1475.47 L2220.55 1464.84 L2223.3 1467.64 Z\" fill=\"#000000\" fill-rule=\"evenodd\" fill-opacity=\"1\" /><path clip-path=\"url(#clip080)\" d=\"M2235.66 1489.17 L2243.3 1489.17 L2243.3 1462.8 L2234.99 1464.47 L2234.99 1460.21 L2243.25 1458.54 L2247.93 1458.54 L2247.93 1489.17 L2255.57 1489.17 L2255.57 1493.1 L2235.66 1493.1 L2235.66 1489.17 Z\" fill=\"#000000\" fill-rule=\"evenodd\" fill-opacity=\"1\" /><path clip-path=\"url(#clip080)\" d=\"M2275.01 1461.62 Q2271.4 1461.62 2269.57 1465.19 Q2267.77 1468.73 2267.77 1475.86 Q2267.77 1482.97 2269.57 1486.53 Q2271.4 1490.07 2275.01 1490.07 Q2278.65 1490.07 2280.45 1486.53 Q2282.28 1482.97 2282.28 1475.86 Q2282.28 1468.73 2280.45 1465.19 Q2278.65 1461.62 2275.01 1461.62 M2275.01 1457.92 Q2280.82 1457.92 2283.88 1462.53 Q2286.96 1467.11 2286.96 1475.86 Q2286.96 1484.59 2283.88 1489.19 Q2280.82 1493.78 2275.01 1493.78 Q2269.2 1493.78 2266.12 1489.19 Q2263.07 1484.59 2263.07 1475.86 Q2263.07 1467.11 2266.12 1462.53 Q2269.2 1457.92 2275.01 1457.92 Z\" fill=\"#000000\" fill-rule=\"evenodd\" fill-opacity=\"1\" /><path clip-path=\"url(#clip080)\" d=\"M2296.98 1450.14 Q2294.42 1450.14 2292.92 1451.89 Q2291.43 1453.64 2291.43 1456.68 Q2291.43 1459.71 2292.92 1461.48 Q2294.42 1463.23 2296.98 1463.23 Q2299.54 1463.23 2301.03 1461.48 Q2302.53 1459.71 2302.53 1456.68 Q2302.53 1453.64 2301.03 1451.89 Q2299.54 1450.14 2296.98 1450.14 M2304.52 1438.23 L2304.52 1441.69 Q2303.09 1441.02 2301.63 1440.66 Q2300.18 1440.3 2298.75 1440.3 Q2294.99 1440.3 2293 1442.84 Q2291.02 1445.38 2290.74 1450.52 Q2291.85 1448.88 2293.52 1448.01 Q2295.2 1447.13 2297.21 1447.13 Q2301.44 1447.13 2303.88 1449.71 Q2306.35 1452.26 2306.35 1456.68 Q2306.35 1461.01 2303.79 1463.62 Q2301.23 1466.24 2296.98 1466.24 Q2292.11 1466.24 2289.53 1462.51 Q2286.96 1458.77 2286.96 1451.68 Q2286.96 1445.02 2290.12 1441.07 Q2293.28 1437.11 2298.6 1437.11 Q2300.03 1437.11 2301.48 1437.39 Q2302.94 1437.67 2304.52 1438.23 Z\" fill=\"#000000\" fill-rule=\"evenodd\" fill-opacity=\"1\" /><path clip-path=\"url(#clip080)\" d=\"M1293.29 1552.67 L1293.29 1574.19 L1287.43 1574.19 L1287.43 1552.86 Q1287.43 1547.8 1285.46 1545.29 Q1283.48 1542.77 1279.54 1542.77 Q1274.79 1542.77 1272.06 1545.79 Q1269.32 1548.82 1269.32 1554.04 L1269.32 1574.19 L1263.43 1574.19 L1263.43 1538.54 L1269.32 1538.54 L1269.32 1544.08 Q1271.42 1540.86 1274.25 1539.27 Q1277.12 1537.68 1280.84 1537.68 Q1286.99 1537.68 1290.14 1541.5 Q1293.29 1545.29 1293.29 1552.67 Z\" fill=\"#000000\" fill-rule=\"evenodd\" fill-opacity=\"1\" /><polyline clip-path=\"url(#clip082)\" style=\"stroke:#000000; stroke-linecap:butt; stroke-linejoin:round; stroke-width:2; stroke-opacity:0.1; fill:none\" points=\"\n",
       "  203.964,1134.91 2352.76,1134.91 \n",
       "  \"/>\n",
       "<polyline clip-path=\"url(#clip082)\" style=\"stroke:#000000; stroke-linecap:butt; stroke-linejoin:round; stroke-width:2; stroke-opacity:0.1; fill:none\" points=\"\n",
       "  203.964,791.85 2352.76,791.85 \n",
       "  \"/>\n",
       "<polyline clip-path=\"url(#clip082)\" style=\"stroke:#000000; stroke-linecap:butt; stroke-linejoin:round; stroke-width:2; stroke-opacity:0.1; fill:none\" points=\"\n",
       "  203.964,448.793 2352.76,448.793 \n",
       "  \"/>\n",
       "<polyline clip-path=\"url(#clip082)\" style=\"stroke:#000000; stroke-linecap:butt; stroke-linejoin:round; stroke-width:2; stroke-opacity:0.1; fill:none\" points=\"\n",
       "  203.964,105.735 2352.76,105.735 \n",
       "  \"/>\n",
       "<polyline clip-path=\"url(#clip080)\" style=\"stroke:#000000; stroke-linecap:butt; stroke-linejoin:round; stroke-width:4; stroke-opacity:1; fill:none\" points=\"\n",
       "  203.964,1410.9 203.964,47.2441 \n",
       "  \"/>\n",
       "<polyline clip-path=\"url(#clip080)\" style=\"stroke:#000000; stroke-linecap:butt; stroke-linejoin:round; stroke-width:4; stroke-opacity:1; fill:none\" points=\"\n",
       "  203.964,1134.91 222.861,1134.91 \n",
       "  \"/>\n",
       "<polyline clip-path=\"url(#clip080)\" style=\"stroke:#000000; stroke-linecap:butt; stroke-linejoin:round; stroke-width:4; stroke-opacity:1; fill:none\" points=\"\n",
       "  203.964,791.85 222.861,791.85 \n",
       "  \"/>\n",
       "<polyline clip-path=\"url(#clip080)\" style=\"stroke:#000000; stroke-linecap:butt; stroke-linejoin:round; stroke-width:4; stroke-opacity:1; fill:none\" points=\"\n",
       "  203.964,448.793 222.861,448.793 \n",
       "  \"/>\n",
       "<polyline clip-path=\"url(#clip080)\" style=\"stroke:#000000; stroke-linecap:butt; stroke-linejoin:round; stroke-width:4; stroke-opacity:1; fill:none\" points=\"\n",
       "  203.964,105.735 222.861,105.735 \n",
       "  \"/>\n",
       "<path clip-path=\"url(#clip080)\" d=\"M147.061 1117.63 L165.417 1117.63 L165.417 1121.56 L151.343 1121.56 L151.343 1130.03 Q152.362 1129.69 153.38 1129.53 Q154.399 1129.34 155.417 1129.34 Q161.204 1129.34 164.584 1132.51 Q167.964 1135.68 167.964 1141.1 Q167.964 1146.68 164.491 1149.78 Q161.019 1152.86 154.7 1152.86 Q152.524 1152.86 150.255 1152.49 Q148.01 1152.12 145.603 1151.38 L145.603 1146.68 Q147.686 1147.81 149.908 1148.37 Q152.13 1148.92 154.607 1148.92 Q158.612 1148.92 160.95 1146.82 Q163.288 1144.71 163.288 1141.1 Q163.288 1137.49 160.95 1135.38 Q158.612 1133.28 154.607 1133.28 Q152.732 1133.28 150.857 1133.69 Q149.005 1134.11 147.061 1134.99 L147.061 1117.63 Z\" fill=\"#000000\" fill-rule=\"evenodd\" fill-opacity=\"1\" /><path clip-path=\"url(#clip080)\" d=\"M116.668 805.195 L124.306 805.195 L124.306 778.829 L115.996 780.496 L115.996 776.237 L124.26 774.57 L128.936 774.57 L128.936 805.195 L136.575 805.195 L136.575 809.13 L116.668 809.13 L116.668 805.195 Z\" fill=\"#000000\" fill-rule=\"evenodd\" fill-opacity=\"1\" /><path clip-path=\"url(#clip080)\" d=\"M156.019 777.649 Q152.408 777.649 150.579 781.213 Q148.774 784.755 148.774 791.885 Q148.774 798.991 150.579 802.556 Q152.408 806.097 156.019 806.097 Q159.653 806.097 161.459 802.556 Q163.288 798.991 163.288 791.885 Q163.288 784.755 161.459 781.213 Q159.653 777.649 156.019 777.649 M156.019 773.945 Q161.829 773.945 164.885 778.551 Q167.964 783.135 167.964 791.885 Q167.964 800.611 164.885 805.218 Q161.829 809.801 156.019 809.801 Q150.209 809.801 147.13 805.218 Q144.075 800.611 144.075 791.885 Q144.075 783.135 147.13 778.551 Q150.209 773.945 156.019 773.945 Z\" fill=\"#000000\" fill-rule=\"evenodd\" fill-opacity=\"1\" /><path clip-path=\"url(#clip080)\" d=\"M117.663 462.137 L125.302 462.137 L125.302 435.772 L116.992 437.438 L116.992 433.179 L125.255 431.513 L129.931 431.513 L129.931 462.137 L137.57 462.137 L137.57 466.073 L117.663 466.073 L117.663 462.137 Z\" fill=\"#000000\" fill-rule=\"evenodd\" fill-opacity=\"1\" /><path clip-path=\"url(#clip080)\" d=\"M147.061 431.513 L165.417 431.513 L165.417 435.448 L151.343 435.448 L151.343 443.92 Q152.362 443.573 153.38 443.411 Q154.399 443.225 155.417 443.225 Q161.204 443.225 164.584 446.397 Q167.964 449.568 167.964 454.985 Q167.964 460.563 164.491 463.665 Q161.019 466.744 154.7 466.744 Q152.524 466.744 150.255 466.374 Q148.01 466.003 145.603 465.262 L145.603 460.563 Q147.686 461.698 149.908 462.253 Q152.13 462.809 154.607 462.809 Q158.612 462.809 160.95 460.702 Q163.288 458.596 163.288 454.985 Q163.288 451.374 160.95 449.267 Q158.612 447.161 154.607 447.161 Q152.732 447.161 150.857 447.577 Q149.005 447.994 147.061 448.874 L147.061 431.513 Z\" fill=\"#000000\" fill-rule=\"evenodd\" fill-opacity=\"1\" /><path clip-path=\"url(#clip080)\" d=\"M119.885 119.08 L136.204 119.08 L136.204 123.015 L114.26 123.015 L114.26 119.08 Q116.922 116.326 121.505 111.696 Q126.112 107.043 127.292 105.701 Q129.538 103.177 130.417 101.441 Q131.32 99.6821 131.32 97.9923 Q131.32 95.2377 129.376 93.5016 Q127.455 91.7655 124.353 91.7655 Q122.154 91.7655 119.7 92.5294 Q117.269 93.2933 114.492 94.8442 L114.492 90.122 Q117.316 88.9878 119.769 88.4091 Q122.223 87.8304 124.26 87.8304 Q129.63 87.8304 132.825 90.5155 Q136.019 93.2007 136.019 97.6914 Q136.019 99.821 135.209 101.742 Q134.422 103.64 132.316 106.233 Q131.737 106.904 128.635 110.122 Q125.533 113.316 119.885 119.08 Z\" fill=\"#000000\" fill-rule=\"evenodd\" fill-opacity=\"1\" /><path clip-path=\"url(#clip080)\" d=\"M156.019 91.534 Q152.408 91.534 150.579 95.0988 Q148.774 98.6405 148.774 105.77 Q148.774 112.877 150.579 116.441 Q152.408 119.983 156.019 119.983 Q159.653 119.983 161.459 116.441 Q163.288 112.877 163.288 105.77 Q163.288 98.6405 161.459 95.0988 Q159.653 91.534 156.019 91.534 M156.019 87.8304 Q161.829 87.8304 164.885 92.4368 Q167.964 97.0201 167.964 105.77 Q167.964 114.497 164.885 119.103 Q161.829 123.687 156.019 123.687 Q150.209 123.687 147.13 119.103 Q144.075 114.497 144.075 105.77 Q144.075 97.0201 147.13 92.4368 Q150.209 87.8304 156.019 87.8304 Z\" fill=\"#000000\" fill-rule=\"evenodd\" fill-opacity=\"1\" /><path clip-path=\"url(#clip080)\" d=\"M35.1993 787.794 Q31.2526 785.598 29.3747 782.542 Q27.4968 779.487 27.4968 775.349 Q27.4968 769.779 31.4117 766.755 Q35.2948 763.732 42.4881 763.732 L64.0042 763.732 L64.0042 769.62 L42.679 769.62 Q37.5546 769.62 35.072 771.434 Q32.5894 773.248 32.5894 776.972 Q32.5894 781.524 35.6131 784.166 Q38.6368 786.807 43.8567 786.807 L64.0042 786.807 L64.0042 792.696 L42.679 792.696 Q37.5228 792.696 35.072 794.51 Q32.5894 796.324 32.5894 800.112 Q32.5894 804.599 35.6449 807.241 Q38.6686 809.883 43.8567 809.883 L64.0042 809.883 L64.0042 815.771 L28.3562 815.771 L28.3562 809.883 L33.8944 809.883 Q30.616 807.878 29.0564 805.077 Q27.4968 802.276 27.4968 798.425 Q27.4968 794.542 29.4702 791.836 Q31.4436 789.099 35.1993 787.794 Z\" fill=\"#000000\" fill-rule=\"evenodd\" fill-opacity=\"1\" /><path clip-path=\"url(#clip080)\" d=\"M44.7161 721.559 L47.5806 721.559 L47.5806 748.486 Q53.6281 748.104 56.8109 744.857 Q59.9619 741.579 59.9619 735.754 Q59.9619 732.381 59.1344 729.23 Q58.3069 726.047 56.6518 722.927 L62.1899 722.927 Q63.5267 726.078 64.227 729.389 Q64.9272 732.699 64.9272 736.104 Q64.9272 744.635 59.9619 749.632 Q54.9967 754.597 46.5303 754.597 Q37.7774 754.597 32.6531 749.886 Q27.4968 745.144 27.4968 737.123 Q27.4968 729.93 32.1438 725.76 Q36.7589 721.559 44.7161 721.559 M42.9973 727.415 Q38.1912 727.479 35.3266 730.121 Q32.4621 732.731 32.4621 737.059 Q32.4621 741.961 35.2312 744.921 Q38.0002 747.849 43.0292 748.295 L42.9973 727.415 Z\" fill=\"#000000\" fill-rule=\"evenodd\" fill-opacity=\"1\" /><path clip-path=\"url(#clip080)\" d=\"M46.0847 695.746 Q46.0847 702.844 47.7079 705.581 Q49.3312 708.318 53.2461 708.318 Q56.3653 708.318 58.2114 706.281 Q60.0256 704.212 60.0256 700.679 Q60.0256 695.81 56.5881 692.881 Q53.1188 689.921 47.3897 689.921 L46.0847 689.921 L46.0847 695.746 M43.6657 684.065 L64.0042 684.065 L64.0042 689.921 L58.5933 689.921 Q61.8398 691.926 63.3994 694.918 Q64.9272 697.91 64.9272 702.239 Q64.9272 707.713 61.8716 710.96 Q58.7843 714.175 53.6281 714.175 Q47.6125 714.175 44.5569 710.164 Q41.5014 706.122 41.5014 698.133 L41.5014 689.921 L40.9285 689.921 Q36.8862 689.921 34.6901 692.595 Q32.4621 695.237 32.4621 700.043 Q32.4621 703.098 33.1941 705.995 Q33.9262 708.891 35.3903 711.565 L29.9795 711.565 Q28.7381 708.35 28.1334 705.326 Q27.4968 702.303 27.4968 699.438 Q27.4968 691.704 31.5072 687.884 Q35.5176 684.065 43.6657 684.065 Z\" fill=\"#000000\" fill-rule=\"evenodd\" fill-opacity=\"1\" /><path clip-path=\"url(#clip080)\" d=\"M42.4881 642.369 L64.0042 642.369 L64.0042 648.226 L42.679 648.226 Q37.6183 648.226 35.1038 650.199 Q32.5894 652.173 32.5894 656.119 Q32.5894 660.862 35.6131 663.599 Q38.6368 666.336 43.8567 666.336 L64.0042 666.336 L64.0042 672.225 L28.3562 672.225 L28.3562 666.336 L33.8944 666.336 Q30.6797 664.236 29.0883 661.403 Q27.4968 658.538 27.4968 654.814 Q27.4968 648.671 31.3163 645.52 Q35.1038 642.369 42.4881 642.369 Z\" fill=\"#000000\" fill-rule=\"evenodd\" fill-opacity=\"1\" /><polyline clip-path=\"url(#clip082)\" style=\"stroke:#009af9; stroke-linecap:butt; stroke-linejoin:round; stroke-width:4; stroke-opacity:1; fill:none\" points=\"\n",
       "  264.778,1372.3 264.782,1324.27 264.79,1263.9 264.806,1176.07 264.836,1116.38 264.898,1024.44 265.022,974.356 265.269,909.175 265.764,854.972 266.754,790.478 \n",
       "  268.734,690.305 272.693,633.357 280.612,548.965 296.449,489.959 328.124,433.012 391.472,349.992 518.17,308.139 771.566,221.689 1278.36,162.683 2291.94,85.838 \n",
       "  \n",
       "  \"/>\n",
       "<path clip-path=\"url(#clip082)\" d=\"M248.778 1356.3 L248.778 1388.3 L280.778 1388.3 L280.778 1356.3 L248.778 1356.3 Z\" fill=\"#009af9\" fill-rule=\"evenodd\" fill-opacity=\"1\" stroke=\"#000000\" stroke-opacity=\"1\" stroke-width=\"3.2\"/>\n",
       "<path clip-path=\"url(#clip082)\" d=\"M248.782 1308.27 L248.782 1340.27 L280.782 1340.27 L280.782 1308.27 L248.782 1308.27 Z\" fill=\"#009af9\" fill-rule=\"evenodd\" fill-opacity=\"1\" stroke=\"#000000\" stroke-opacity=\"1\" stroke-width=\"3.2\"/>\n",
       "<path clip-path=\"url(#clip082)\" d=\"M248.79 1247.9 L248.79 1279.9 L280.79 1279.9 L280.79 1247.9 L248.79 1247.9 Z\" fill=\"#009af9\" fill-rule=\"evenodd\" fill-opacity=\"1\" stroke=\"#000000\" stroke-opacity=\"1\" stroke-width=\"3.2\"/>\n",
       "<path clip-path=\"url(#clip082)\" d=\"M248.806 1160.07 L248.806 1192.07 L280.806 1192.07 L280.806 1160.07 L248.806 1160.07 Z\" fill=\"#009af9\" fill-rule=\"evenodd\" fill-opacity=\"1\" stroke=\"#000000\" stroke-opacity=\"1\" stroke-width=\"3.2\"/>\n",
       "<path clip-path=\"url(#clip082)\" d=\"M248.836 1100.38 L248.836 1132.38 L280.836 1132.38 L280.836 1100.38 L248.836 1100.38 Z\" fill=\"#009af9\" fill-rule=\"evenodd\" fill-opacity=\"1\" stroke=\"#000000\" stroke-opacity=\"1\" stroke-width=\"3.2\"/>\n",
       "<path clip-path=\"url(#clip082)\" d=\"M248.898 1008.44 L248.898 1040.44 L280.898 1040.44 L280.898 1008.44 L248.898 1008.44 Z\" fill=\"#009af9\" fill-rule=\"evenodd\" fill-opacity=\"1\" stroke=\"#000000\" stroke-opacity=\"1\" stroke-width=\"3.2\"/>\n",
       "<path clip-path=\"url(#clip082)\" d=\"M249.022 958.356 L249.022 990.356 L281.022 990.356 L281.022 958.356 L249.022 958.356 Z\" fill=\"#009af9\" fill-rule=\"evenodd\" fill-opacity=\"1\" stroke=\"#000000\" stroke-opacity=\"1\" stroke-width=\"3.2\"/>\n",
       "<path clip-path=\"url(#clip082)\" d=\"M249.269 893.175 L249.269 925.175 L281.269 925.175 L281.269 893.175 L249.269 893.175 Z\" fill=\"#009af9\" fill-rule=\"evenodd\" fill-opacity=\"1\" stroke=\"#000000\" stroke-opacity=\"1\" stroke-width=\"3.2\"/>\n",
       "<path clip-path=\"url(#clip082)\" d=\"M249.764 838.972 L249.764 870.972 L281.764 870.972 L281.764 838.972 L249.764 838.972 Z\" fill=\"#009af9\" fill-rule=\"evenodd\" fill-opacity=\"1\" stroke=\"#000000\" stroke-opacity=\"1\" stroke-width=\"3.2\"/>\n",
       "<path clip-path=\"url(#clip082)\" d=\"M250.754 774.478 L250.754 806.478 L282.754 806.478 L282.754 774.478 L250.754 774.478 Z\" fill=\"#009af9\" fill-rule=\"evenodd\" fill-opacity=\"1\" stroke=\"#000000\" stroke-opacity=\"1\" stroke-width=\"3.2\"/>\n",
       "<path clip-path=\"url(#clip082)\" d=\"M252.734 674.305 L252.734 706.305 L284.734 706.305 L284.734 674.305 L252.734 674.305 Z\" fill=\"#009af9\" fill-rule=\"evenodd\" fill-opacity=\"1\" stroke=\"#000000\" stroke-opacity=\"1\" stroke-width=\"3.2\"/>\n",
       "<path clip-path=\"url(#clip082)\" d=\"M256.693 617.357 L256.693 649.357 L288.693 649.357 L288.693 617.357 L256.693 617.357 Z\" fill=\"#009af9\" fill-rule=\"evenodd\" fill-opacity=\"1\" stroke=\"#000000\" stroke-opacity=\"1\" stroke-width=\"3.2\"/>\n",
       "<path clip-path=\"url(#clip082)\" d=\"M264.612 532.965 L264.612 564.965 L296.612 564.965 L296.612 532.965 L264.612 532.965 Z\" fill=\"#009af9\" fill-rule=\"evenodd\" fill-opacity=\"1\" stroke=\"#000000\" stroke-opacity=\"1\" stroke-width=\"3.2\"/>\n",
       "<path clip-path=\"url(#clip082)\" d=\"M280.449 473.959 L280.449 505.959 L312.449 505.959 L312.449 473.959 L280.449 473.959 Z\" fill=\"#009af9\" fill-rule=\"evenodd\" fill-opacity=\"1\" stroke=\"#000000\" stroke-opacity=\"1\" stroke-width=\"3.2\"/>\n",
       "<path clip-path=\"url(#clip082)\" d=\"M312.124 417.012 L312.124 449.012 L344.124 449.012 L344.124 417.012 L312.124 417.012 Z\" fill=\"#009af9\" fill-rule=\"evenodd\" fill-opacity=\"1\" stroke=\"#000000\" stroke-opacity=\"1\" stroke-width=\"3.2\"/>\n",
       "<path clip-path=\"url(#clip082)\" d=\"M375.472 333.992 L375.472 365.992 L407.472 365.992 L407.472 333.992 L375.472 333.992 Z\" fill=\"#009af9\" fill-rule=\"evenodd\" fill-opacity=\"1\" stroke=\"#000000\" stroke-opacity=\"1\" stroke-width=\"3.2\"/>\n",
       "<path clip-path=\"url(#clip082)\" d=\"M502.17 292.139 L502.17 324.139 L534.17 324.139 L534.17 292.139 L502.17 292.139 Z\" fill=\"#009af9\" fill-rule=\"evenodd\" fill-opacity=\"1\" stroke=\"#000000\" stroke-opacity=\"1\" stroke-width=\"3.2\"/>\n",
       "<path clip-path=\"url(#clip082)\" d=\"M755.566 205.689 L755.566 237.689 L787.566 237.689 L787.566 205.689 L755.566 205.689 Z\" fill=\"#009af9\" fill-rule=\"evenodd\" fill-opacity=\"1\" stroke=\"#000000\" stroke-opacity=\"1\" stroke-width=\"3.2\"/>\n",
       "<path clip-path=\"url(#clip082)\" d=\"M1262.36 146.683 L1262.36 178.683 L1294.36 178.683 L1294.36 146.683 L1262.36 146.683 Z\" fill=\"#009af9\" fill-rule=\"evenodd\" fill-opacity=\"1\" stroke=\"#000000\" stroke-opacity=\"1\" stroke-width=\"3.2\"/>\n",
       "<path clip-path=\"url(#clip082)\" d=\"M2275.94 69.838 L2275.94 101.838 L2307.94 101.838 L2307.94 69.838 L2275.94 69.838 Z\" fill=\"#009af9\" fill-rule=\"evenodd\" fill-opacity=\"1\" stroke=\"#000000\" stroke-opacity=\"1\" stroke-width=\"3.2\"/>\n",
       "</svg>\n"
      ]
     },
     "execution_count": 40,
     "metadata": {},
     "output_type": "execute_result"
    }
   ],
   "source": [
    "using Plots\n",
    "plot(2 .^(1:20),means1,label=false,xlabel=\"n\",ylabel=\"mean\",shape=:square)"
   ]
  },
  {
   "cell_type": "code",
   "execution_count": 41,
   "metadata": {},
   "outputs": [],
   "source": [
    "function compute_results_v2(max_k;N = 10^2)\n",
    "    Random.seed!(0)\n",
    "    results = Vector{Vector{Int64}}(undef,max_k) #This is now a pre-allocated array (for arrays)\n",
    "    for k in 1:max_k\n",
    "        n = 2^k\n",
    "        results_for_k = Vector{Int64}(undef,N) #This is a pre-allocated \"child vector\"\n",
    "        for i in 1:N\n",
    "            a = rand([\"a\",\"b\"],n)\n",
    "            results_for_k[i] = longest_streak(a) #No need for push!() like above\n",
    "        end\n",
    "        results[k] = results_for_k\n",
    "    end\n",
    "    return results\n",
    "end;"
   ]
  },
  {
   "cell_type": "code",
   "execution_count": 42,
   "metadata": {},
   "outputs": [
    {
     "data": {
      "text/plain": [
       "20-element Vector{Vector{Int64}}:\n",
       " [1, 1, 1, 1, 1, 1, 1, 2, 1, 2  …  2, 2, 1, 1, 1, 2, 1, 2, 1, 2]\n",
       " [2, 2, 3, 2, 1, 2, 4, 3, 2, 2  …  2, 3, 2, 2, 2, 2, 1, 3, 2, 2]\n",
       " [4, 2, 4, 4, 3, 3, 3, 2, 3, 4  …  2, 3, 4, 3, 2, 3, 2, 2, 2, 4]\n",
       " [3, 4, 7, 6, 4, 3, 3, 2, 5, 4  …  8, 3, 4, 3, 3, 7, 3, 5, 2, 4]\n",
       " [3, 4, 5, 4, 5, 5, 5, 6, 10, 7  …  5, 4, 5, 5, 3, 5, 6, 6, 4, 5]\n",
       " [7, 11, 7, 7, 6, 9, 6, 6, 5, 5  …  8, 5, 7, 5, 7, 8, 5, 7, 7, 5]\n",
       " [7, 6, 6, 5, 6, 10, 9, 8, 6, 5  …  5, 13, 5, 5, 5, 5, 8, 6, 7, 10]\n",
       " [8, 8, 8, 8, 15, 7, 9, 9, 8, 9  …  11, 9, 7, 10, 12, 6, 15, 7, 6, 7]\n",
       " [6, 12, 12, 7, 11, 8, 9, 8, 8, 10  …  7, 7, 9, 7, 10, 9, 9, 8, 9, 7]\n",
       " [12, 8, 10, 8, 12, 7, 13, 9, 8, 10  …  7, 11, 10, 9, 13, 9, 8, 11, 9, 9]\n",
       " [9, 10, 11, 11, 11, 9, 10, 10, 13, 14  …  14, 11, 16, 14, 12, 11, 14, 12, 13, 10]\n",
       " [12, 12, 12, 11, 10, 14, 12, 10, 14, 11  …  12, 12, 12, 13, 12, 12, 15, 11, 13, 11]\n",
       " [14, 18, 12, 13, 15, 12, 11, 11, 16, 12  …  16, 15, 12, 15, 14, 20, 12, 14, 10, 11]\n",
       " [13, 12, 13, 13, 14, 13, 18, 18, 13, 11  …  17, 16, 15, 15, 17, 13, 13, 15, 16, 13]\n",
       " [16, 15, 16, 15, 17, 14, 15, 13, 16, 17  …  19, 17, 14, 17, 13, 16, 19, 16, 15, 15]\n",
       " [19, 17, 15, 16, 14, 16, 16, 18, 15, 17  …  17, 18, 20, 17, 14, 16, 13, 16, 15, 15]\n",
       " [17, 19, 16, 16, 18, 18, 16, 16, 19, 16  …  14, 15, 18, 17, 17, 17, 21, 16, 17, 16]\n",
       " [18, 17, 17, 18, 20, 20, 17, 17, 21, 20  …  19, 17, 19, 21, 17, 16, 16, 17, 18, 19]\n",
       " [16, 18, 20, 19, 19, 17, 24, 18, 18, 20  …  23, 17, 17, 20, 18, 21, 17, 20, 20, 17]\n",
       " [22, 19, 21, 17, 18, 21, 18, 21, 22, 19  …  20, 25, 20, 22, 18, 22, 21, 19, 23, 19]"
      ]
     },
     "execution_count": 42,
     "metadata": {},
     "output_type": "execute_result"
    }
   ],
   "source": [
    "results2 = compute_results_v2(20)"
   ]
  },
  {
   "cell_type": "code",
   "execution_count": 43,
   "metadata": {},
   "outputs": [
    {
     "data": {
      "image/svg+xml": [
       "<?xml version=\"1.0\" encoding=\"utf-8\"?>\n",
       "<svg xmlns=\"http://www.w3.org/2000/svg\" xmlns:xlink=\"http://www.w3.org/1999/xlink\" width=\"600\" height=\"400\" viewBox=\"0 0 2400 1600\">\n",
       "<defs>\n",
       "  <clipPath id=\"clip120\">\n",
       "    <rect x=\"0\" y=\"0\" width=\"2400\" height=\"1600\"/>\n",
       "  </clipPath>\n",
       "</defs>\n",
       "<path clip-path=\"url(#clip120)\" d=\"\n",
       "M0 1600 L2400 1600 L2400 0 L0 0  Z\n",
       "  \" fill=\"#ffffff\" fill-rule=\"evenodd\" fill-opacity=\"1\"/>\n",
       "<defs>\n",
       "  <clipPath id=\"clip121\">\n",
       "    <rect x=\"480\" y=\"0\" width=\"1681\" height=\"1600\"/>\n",
       "  </clipPath>\n",
       "</defs>\n",
       "<path clip-path=\"url(#clip120)\" d=\"\n",
       "M203.964 1410.9 L2352.76 1410.9 L2352.76 47.2441 L203.964 47.2441  Z\n",
       "  \" fill=\"#ffffff\" fill-rule=\"evenodd\" fill-opacity=\"1\"/>\n",
       "<defs>\n",
       "  <clipPath id=\"clip122\">\n",
       "    <rect x=\"203\" y=\"47\" width=\"2150\" height=\"1365\"/>\n",
       "  </clipPath>\n",
       "</defs>\n",
       "<polyline clip-path=\"url(#clip122)\" style=\"stroke:#000000; stroke-linecap:butt; stroke-linejoin:round; stroke-width:2; stroke-opacity:0.1; fill:none\" points=\"\n",
       "  264.775,1410.9 264.775,47.2441 \n",
       "  \"/>\n",
       "<polyline clip-path=\"url(#clip122)\" style=\"stroke:#000000; stroke-linecap:butt; stroke-linejoin:round; stroke-width:2; stroke-opacity:0.1; fill:none\" points=\"\n",
       "  748.089,1410.9 748.089,47.2441 \n",
       "  \"/>\n",
       "<polyline clip-path=\"url(#clip122)\" style=\"stroke:#000000; stroke-linecap:butt; stroke-linejoin:round; stroke-width:2; stroke-opacity:0.1; fill:none\" points=\"\n",
       "  1231.4,1410.9 1231.4,47.2441 \n",
       "  \"/>\n",
       "<polyline clip-path=\"url(#clip122)\" style=\"stroke:#000000; stroke-linecap:butt; stroke-linejoin:round; stroke-width:2; stroke-opacity:0.1; fill:none\" points=\"\n",
       "  1714.72,1410.9 1714.72,47.2441 \n",
       "  \"/>\n",
       "<polyline clip-path=\"url(#clip122)\" style=\"stroke:#000000; stroke-linecap:butt; stroke-linejoin:round; stroke-width:2; stroke-opacity:0.1; fill:none\" points=\"\n",
       "  2198.03,1410.9 2198.03,47.2441 \n",
       "  \"/>\n",
       "<polyline clip-path=\"url(#clip120)\" style=\"stroke:#000000; stroke-linecap:butt; stroke-linejoin:round; stroke-width:4; stroke-opacity:1; fill:none\" points=\"\n",
       "  203.964,1410.9 2352.76,1410.9 \n",
       "  \"/>\n",
       "<polyline clip-path=\"url(#clip120)\" style=\"stroke:#000000; stroke-linecap:butt; stroke-linejoin:round; stroke-width:4; stroke-opacity:1; fill:none\" points=\"\n",
       "  264.775,1410.9 264.775,1392 \n",
       "  \"/>\n",
       "<polyline clip-path=\"url(#clip120)\" style=\"stroke:#000000; stroke-linecap:butt; stroke-linejoin:round; stroke-width:4; stroke-opacity:1; fill:none\" points=\"\n",
       "  748.089,1410.9 748.089,1392 \n",
       "  \"/>\n",
       "<polyline clip-path=\"url(#clip120)\" style=\"stroke:#000000; stroke-linecap:butt; stroke-linejoin:round; stroke-width:4; stroke-opacity:1; fill:none\" points=\"\n",
       "  1231.4,1410.9 1231.4,1392 \n",
       "  \"/>\n",
       "<polyline clip-path=\"url(#clip120)\" style=\"stroke:#000000; stroke-linecap:butt; stroke-linejoin:round; stroke-width:4; stroke-opacity:1; fill:none\" points=\"\n",
       "  1714.72,1410.9 1714.72,1392 \n",
       "  \"/>\n",
       "<polyline clip-path=\"url(#clip120)\" style=\"stroke:#000000; stroke-linecap:butt; stroke-linejoin:round; stroke-width:4; stroke-opacity:1; fill:none\" points=\"\n",
       "  2198.03,1410.9 2198.03,1392 \n",
       "  \"/>\n",
       "<path clip-path=\"url(#clip120)\" d=\"M264.775 1440.09 Q261.163 1440.09 259.335 1443.65 Q257.529 1447.19 257.529 1454.32 Q257.529 1461.43 259.335 1464.99 Q261.163 1468.54 264.775 1468.54 Q268.409 1468.54 270.214 1464.99 Q272.043 1461.43 272.043 1454.32 Q272.043 1447.19 270.214 1443.65 Q268.409 1440.09 264.775 1440.09 M264.775 1436.38 Q270.585 1436.38 273.64 1440.99 Q276.719 1445.57 276.719 1454.32 Q276.719 1463.05 273.64 1467.66 Q270.585 1472.24 264.775 1472.24 Q258.964 1472.24 255.886 1467.66 Q252.83 1463.05 252.83 1454.32 Q252.83 1445.57 255.886 1440.99 Q258.964 1436.38 264.775 1436.38 Z\" fill=\"#000000\" fill-rule=\"evenodd\" fill-opacity=\"1\" /><path clip-path=\"url(#clip120)\" d=\"M645.139 1489.17 L661.459 1489.17 L661.459 1493.1 L639.514 1493.1 L639.514 1489.17 Q642.176 1486.41 646.76 1481.78 Q651.366 1477.13 652.547 1475.79 Q654.792 1473.27 655.672 1471.53 Q656.574 1469.77 656.574 1468.08 Q656.574 1465.33 654.63 1463.59 Q652.709 1461.85 649.607 1461.85 Q647.408 1461.85 644.954 1462.62 Q642.524 1463.38 639.746 1464.93 L639.746 1460.21 Q642.57 1459.08 645.024 1458.5 Q647.477 1457.92 649.514 1457.92 Q654.885 1457.92 658.079 1460.6 Q661.274 1463.29 661.274 1467.78 Q661.274 1469.91 660.463 1471.83 Q659.676 1473.73 657.57 1476.32 Q656.991 1476.99 653.889 1480.21 Q650.787 1483.4 645.139 1489.17 Z\" fill=\"#000000\" fill-rule=\"evenodd\" fill-opacity=\"1\" /><path clip-path=\"url(#clip120)\" d=\"M671.273 1487.22 L676.158 1487.22 L676.158 1493.1 L671.273 1493.1 L671.273 1487.22 Z\" fill=\"#000000\" fill-rule=\"evenodd\" fill-opacity=\"1\" /><path clip-path=\"url(#clip120)\" d=\"M686.389 1458.54 L704.745 1458.54 L704.745 1462.48 L690.672 1462.48 L690.672 1470.95 Q691.69 1470.6 692.709 1470.44 Q693.727 1470.26 694.746 1470.26 Q700.533 1470.26 703.912 1473.43 Q707.292 1476.6 707.292 1482.02 Q707.292 1487.59 703.82 1490.7 Q700.347 1493.78 694.028 1493.78 Q691.852 1493.78 689.584 1493.4 Q687.338 1493.03 684.931 1492.29 L684.931 1487.59 Q687.014 1488.73 689.236 1489.28 Q691.459 1489.84 693.935 1489.84 Q697.94 1489.84 700.278 1487.73 Q702.616 1485.63 702.616 1482.02 Q702.616 1478.4 700.278 1476.3 Q697.94 1474.19 693.935 1474.19 Q692.06 1474.19 690.185 1474.61 Q688.334 1475.03 686.389 1475.9 L686.389 1458.54 Z\" fill=\"#000000\" fill-rule=\"evenodd\" fill-opacity=\"1\" /><path clip-path=\"url(#clip120)\" d=\"M726.505 1461.62 Q722.894 1461.62 721.065 1465.19 Q719.259 1468.73 719.259 1475.86 Q719.259 1482.97 721.065 1486.53 Q722.894 1490.07 726.505 1490.07 Q730.139 1490.07 731.944 1486.53 Q733.773 1482.97 733.773 1475.86 Q733.773 1468.73 731.944 1465.19 Q730.139 1461.62 726.505 1461.62 M726.505 1457.92 Q732.315 1457.92 735.37 1462.53 Q738.449 1467.11 738.449 1475.86 Q738.449 1484.59 735.37 1489.19 Q732.315 1493.78 726.505 1493.78 Q720.694 1493.78 717.616 1489.19 Q714.56 1484.59 714.56 1475.86 Q714.56 1467.11 717.616 1462.53 Q720.694 1457.92 726.505 1457.92 Z\" fill=\"#000000\" fill-rule=\"evenodd\" fill-opacity=\"1\" /><path clip-path=\"url(#clip120)\" d=\"M774.838 1467.64 L764.259 1478.27 L774.838 1488.84 L772.083 1491.65 L761.458 1481.02 L750.833 1491.65 L748.102 1488.84 L758.657 1478.27 L748.102 1467.64 L750.833 1464.84 L761.458 1475.47 L772.083 1464.84 L774.838 1467.64 Z\" fill=\"#000000\" fill-rule=\"evenodd\" fill-opacity=\"1\" /><path clip-path=\"url(#clip120)\" d=\"M787.199 1489.17 L794.838 1489.17 L794.838 1462.8 L786.527 1464.47 L786.527 1460.21 L794.791 1458.54 L799.467 1458.54 L799.467 1489.17 L807.106 1489.17 L807.106 1493.1 L787.199 1493.1 L787.199 1489.17 Z\" fill=\"#000000\" fill-rule=\"evenodd\" fill-opacity=\"1\" /><path clip-path=\"url(#clip120)\" d=\"M826.55 1461.62 Q822.939 1461.62 821.111 1465.19 Q819.305 1468.73 819.305 1475.86 Q819.305 1482.97 821.111 1486.53 Q822.939 1490.07 826.55 1490.07 Q830.185 1490.07 831.99 1486.53 Q833.819 1482.97 833.819 1475.86 Q833.819 1468.73 831.99 1465.19 Q830.185 1461.62 826.55 1461.62 M826.55 1457.92 Q832.361 1457.92 835.416 1462.53 Q838.495 1467.11 838.495 1475.86 Q838.495 1484.59 835.416 1489.19 Q832.361 1493.78 826.55 1493.78 Q820.74 1493.78 817.662 1489.19 Q814.606 1484.59 814.606 1475.86 Q814.606 1467.11 817.662 1462.53 Q820.74 1457.92 826.55 1457.92 Z\" fill=\"#000000\" fill-rule=\"evenodd\" fill-opacity=\"1\" /><path clip-path=\"url(#clip120)\" d=\"M839.68 1437.61 L854.594 1437.61 L854.594 1440.81 L843.159 1440.81 L843.159 1447.69 Q843.987 1447.41 844.814 1447.28 Q845.642 1447.13 846.469 1447.13 Q851.171 1447.13 853.917 1449.71 Q856.663 1452.28 856.663 1456.68 Q856.663 1461.22 853.842 1463.74 Q851.021 1466.24 845.886 1466.24 Q844.118 1466.24 842.275 1465.94 Q840.451 1465.64 838.495 1465.04 L838.495 1461.22 Q840.187 1462.14 841.993 1462.59 Q843.799 1463.04 845.811 1463.04 Q849.065 1463.04 850.964 1461.33 Q852.864 1459.62 852.864 1456.68 Q852.864 1453.75 850.964 1452.04 Q849.065 1450.33 845.811 1450.33 Q844.288 1450.33 842.764 1450.67 Q841.26 1451 839.68 1451.72 L839.68 1437.61 Z\" fill=\"#000000\" fill-rule=\"evenodd\" fill-opacity=\"1\" /><path clip-path=\"url(#clip120)\" d=\"M1124.38 1458.54 L1142.74 1458.54 L1142.74 1462.48 L1128.66 1462.48 L1128.66 1470.95 Q1129.68 1470.6 1130.7 1470.44 Q1131.72 1470.26 1132.74 1470.26 Q1138.52 1470.26 1141.9 1473.43 Q1145.28 1476.6 1145.28 1482.02 Q1145.28 1487.59 1141.81 1490.7 Q1138.34 1493.78 1132.02 1493.78 Q1129.84 1493.78 1127.57 1493.4 Q1125.33 1493.03 1122.92 1492.29 L1122.92 1487.59 Q1125 1488.73 1127.23 1489.28 Q1129.45 1489.84 1131.93 1489.84 Q1135.93 1489.84 1138.27 1487.73 Q1140.61 1485.63 1140.61 1482.02 Q1140.61 1478.4 1138.27 1476.3 Q1135.93 1474.19 1131.93 1474.19 Q1130.05 1474.19 1128.18 1474.61 Q1126.32 1475.03 1124.38 1475.9 L1124.38 1458.54 Z\" fill=\"#000000\" fill-rule=\"evenodd\" fill-opacity=\"1\" /><path clip-path=\"url(#clip120)\" d=\"M1154.5 1487.22 L1159.38 1487.22 L1159.38 1493.1 L1154.5 1493.1 L1154.5 1487.22 Z\" fill=\"#000000\" fill-rule=\"evenodd\" fill-opacity=\"1\" /><path clip-path=\"url(#clip120)\" d=\"M1179.56 1461.62 Q1175.95 1461.62 1174.12 1465.19 Q1172.32 1468.73 1172.32 1475.86 Q1172.32 1482.97 1174.12 1486.53 Q1175.95 1490.07 1179.56 1490.07 Q1183.2 1490.07 1185 1486.53 Q1186.83 1482.97 1186.83 1475.86 Q1186.83 1468.73 1185 1465.19 Q1183.2 1461.62 1179.56 1461.62 M1179.56 1457.92 Q1185.37 1457.92 1188.43 1462.53 Q1191.51 1467.11 1191.51 1475.86 Q1191.51 1484.59 1188.43 1489.19 Q1185.37 1493.78 1179.56 1493.78 Q1173.75 1493.78 1170.68 1489.19 Q1167.62 1484.59 1167.62 1475.86 Q1167.62 1467.11 1170.68 1462.53 Q1173.75 1457.92 1179.56 1457.92 Z\" fill=\"#000000\" fill-rule=\"evenodd\" fill-opacity=\"1\" /><path clip-path=\"url(#clip120)\" d=\"M1209.73 1461.62 Q1206.12 1461.62 1204.29 1465.19 Q1202.48 1468.73 1202.48 1475.86 Q1202.48 1482.97 1204.29 1486.53 Q1206.12 1490.07 1209.73 1490.07 Q1213.36 1490.07 1215.17 1486.53 Q1216.99 1482.97 1216.99 1475.86 Q1216.99 1468.73 1215.17 1465.19 Q1213.36 1461.62 1209.73 1461.62 M1209.73 1457.92 Q1215.54 1457.92 1218.59 1462.53 Q1221.67 1467.11 1221.67 1475.86 Q1221.67 1484.59 1218.59 1489.19 Q1215.54 1493.78 1209.73 1493.78 Q1203.92 1493.78 1200.84 1489.19 Q1197.78 1484.59 1197.78 1475.86 Q1197.78 1467.11 1200.84 1462.53 Q1203.92 1457.92 1209.73 1457.92 Z\" fill=\"#000000\" fill-rule=\"evenodd\" fill-opacity=\"1\" /><path clip-path=\"url(#clip120)\" d=\"M1258.06 1467.64 L1247.48 1478.27 L1258.06 1488.84 L1255.3 1491.65 L1244.68 1481.02 L1234.05 1491.65 L1231.32 1488.84 L1241.88 1478.27 L1231.32 1467.64 L1234.05 1464.84 L1244.68 1475.47 L1255.3 1464.84 L1258.06 1467.64 Z\" fill=\"#000000\" fill-rule=\"evenodd\" fill-opacity=\"1\" /><path clip-path=\"url(#clip120)\" d=\"M1270.42 1489.17 L1278.06 1489.17 L1278.06 1462.8 L1269.75 1464.47 L1269.75 1460.21 L1278.01 1458.54 L1282.69 1458.54 L1282.69 1489.17 L1290.33 1489.17 L1290.33 1493.1 L1270.42 1493.1 L1270.42 1489.17 Z\" fill=\"#000000\" fill-rule=\"evenodd\" fill-opacity=\"1\" /><path clip-path=\"url(#clip120)\" d=\"M1309.77 1461.62 Q1306.16 1461.62 1304.33 1465.19 Q1302.53 1468.73 1302.53 1475.86 Q1302.53 1482.97 1304.33 1486.53 Q1306.16 1490.07 1309.77 1490.07 Q1313.41 1490.07 1315.21 1486.53 Q1317.04 1482.97 1317.04 1475.86 Q1317.04 1468.73 1315.21 1465.19 Q1313.41 1461.62 1309.77 1461.62 M1309.77 1457.92 Q1315.58 1457.92 1318.64 1462.53 Q1321.72 1467.11 1321.72 1475.86 Q1321.72 1484.59 1318.64 1489.19 Q1315.58 1493.78 1309.77 1493.78 Q1303.96 1493.78 1300.88 1489.19 Q1297.83 1484.59 1297.83 1475.86 Q1297.83 1467.11 1300.88 1462.53 Q1303.96 1457.92 1309.77 1457.92 Z\" fill=\"#000000\" fill-rule=\"evenodd\" fill-opacity=\"1\" /><path clip-path=\"url(#clip120)\" d=\"M1322.9 1437.61 L1337.82 1437.61 L1337.82 1440.81 L1326.38 1440.81 L1326.38 1447.69 Q1327.21 1447.41 1328.04 1447.28 Q1328.86 1447.13 1329.69 1447.13 Q1334.39 1447.13 1337.14 1449.71 Q1339.88 1452.28 1339.88 1456.68 Q1339.88 1461.22 1337.06 1463.74 Q1334.24 1466.24 1329.11 1466.24 Q1327.34 1466.24 1325.5 1465.94 Q1323.67 1465.64 1321.72 1465.04 L1321.72 1461.22 Q1323.41 1462.14 1325.21 1462.59 Q1327.02 1463.04 1329.03 1463.04 Q1332.29 1463.04 1334.19 1461.33 Q1336.09 1459.62 1336.09 1456.68 Q1336.09 1453.75 1334.19 1452.04 Q1332.29 1450.33 1329.03 1450.33 Q1327.51 1450.33 1325.99 1450.67 Q1324.48 1451 1322.9 1451.72 L1322.9 1437.61 Z\" fill=\"#000000\" fill-rule=\"evenodd\" fill-opacity=\"1\" /><path clip-path=\"url(#clip120)\" d=\"M1606.35 1458.54 L1628.57 1458.54 L1628.57 1460.53 L1616.03 1493.1 L1611.14 1493.1 L1622.95 1462.48 L1606.35 1462.48 L1606.35 1458.54 Z\" fill=\"#000000\" fill-rule=\"evenodd\" fill-opacity=\"1\" /><path clip-path=\"url(#clip120)\" d=\"M1637.69 1487.22 L1642.58 1487.22 L1642.58 1493.1 L1637.69 1493.1 L1637.69 1487.22 Z\" fill=\"#000000\" fill-rule=\"evenodd\" fill-opacity=\"1\" /><path clip-path=\"url(#clip120)\" d=\"M1652.81 1458.54 L1671.17 1458.54 L1671.17 1462.48 L1657.09 1462.48 L1657.09 1470.95 Q1658.11 1470.6 1659.13 1470.44 Q1660.15 1470.26 1661.17 1470.26 Q1666.95 1470.26 1670.33 1473.43 Q1673.71 1476.6 1673.71 1482.02 Q1673.71 1487.59 1670.24 1490.7 Q1666.77 1493.78 1660.45 1493.78 Q1658.27 1493.78 1656 1493.4 Q1653.76 1493.03 1651.35 1492.29 L1651.35 1487.59 Q1653.43 1488.73 1655.66 1489.28 Q1657.88 1489.84 1660.36 1489.84 Q1664.36 1489.84 1666.7 1487.73 Q1669.04 1485.63 1669.04 1482.02 Q1669.04 1478.4 1666.7 1476.3 Q1664.36 1474.19 1660.36 1474.19 Q1658.48 1474.19 1656.61 1474.61 Q1654.75 1475.03 1652.81 1475.9 L1652.81 1458.54 Z\" fill=\"#000000\" fill-rule=\"evenodd\" fill-opacity=\"1\" /><path clip-path=\"url(#clip120)\" d=\"M1692.92 1461.62 Q1689.31 1461.62 1687.48 1465.19 Q1685.68 1468.73 1685.68 1475.86 Q1685.68 1482.97 1687.48 1486.53 Q1689.31 1490.07 1692.92 1490.07 Q1696.56 1490.07 1698.36 1486.53 Q1700.19 1482.97 1700.19 1475.86 Q1700.19 1468.73 1698.36 1465.19 Q1696.56 1461.62 1692.92 1461.62 M1692.92 1457.92 Q1698.73 1457.92 1701.79 1462.53 Q1704.87 1467.11 1704.87 1475.86 Q1704.87 1484.59 1701.79 1489.19 Q1698.73 1493.78 1692.92 1493.78 Q1687.11 1493.78 1684.04 1489.19 Q1680.98 1484.59 1680.98 1475.86 Q1680.98 1467.11 1684.04 1462.53 Q1687.11 1457.92 1692.92 1457.92 Z\" fill=\"#000000\" fill-rule=\"evenodd\" fill-opacity=\"1\" /><path clip-path=\"url(#clip120)\" d=\"M1741.26 1467.64 L1730.68 1478.27 L1741.26 1488.84 L1738.5 1491.65 L1727.88 1481.02 L1717.25 1491.65 L1714.52 1488.84 L1725.08 1478.27 L1714.52 1467.64 L1717.25 1464.84 L1727.88 1475.47 L1738.5 1464.84 L1741.26 1467.64 Z\" fill=\"#000000\" fill-rule=\"evenodd\" fill-opacity=\"1\" /><path clip-path=\"url(#clip120)\" d=\"M1753.62 1489.17 L1761.26 1489.17 L1761.26 1462.8 L1752.95 1464.47 L1752.95 1460.21 L1761.21 1458.54 L1765.89 1458.54 L1765.89 1489.17 L1773.53 1489.17 L1773.53 1493.1 L1753.62 1493.1 L1753.62 1489.17 Z\" fill=\"#000000\" fill-rule=\"evenodd\" fill-opacity=\"1\" /><path clip-path=\"url(#clip120)\" d=\"M1792.97 1461.62 Q1789.36 1461.62 1787.53 1465.19 Q1785.73 1468.73 1785.73 1475.86 Q1785.73 1482.97 1787.53 1486.53 Q1789.36 1490.07 1792.97 1490.07 Q1796.6 1490.07 1798.41 1486.53 Q1800.24 1482.97 1800.24 1475.86 Q1800.24 1468.73 1798.41 1465.19 Q1796.6 1461.62 1792.97 1461.62 M1792.97 1457.92 Q1798.78 1457.92 1801.84 1462.53 Q1804.91 1467.11 1804.91 1475.86 Q1804.91 1484.59 1801.84 1489.19 Q1798.78 1493.78 1792.97 1493.78 Q1787.16 1493.78 1784.08 1489.19 Q1781.03 1484.59 1781.03 1475.86 Q1781.03 1467.11 1784.08 1462.53 Q1787.16 1457.92 1792.97 1457.92 Z\" fill=\"#000000\" fill-rule=\"evenodd\" fill-opacity=\"1\" /><path clip-path=\"url(#clip120)\" d=\"M1806.1 1437.61 L1821.01 1437.61 L1821.01 1440.81 L1809.58 1440.81 L1809.58 1447.69 Q1810.41 1447.41 1811.23 1447.28 Q1812.06 1447.13 1812.89 1447.13 Q1817.59 1447.13 1820.34 1449.71 Q1823.08 1452.28 1823.08 1456.68 Q1823.08 1461.22 1820.26 1463.74 Q1817.44 1466.24 1812.31 1466.24 Q1810.54 1466.24 1808.7 1465.94 Q1806.87 1465.64 1804.91 1465.04 L1804.91 1461.22 Q1806.61 1462.14 1808.41 1462.59 Q1810.22 1463.04 1812.23 1463.04 Q1815.48 1463.04 1817.38 1461.33 Q1819.28 1459.62 1819.28 1456.68 Q1819.28 1453.75 1817.38 1452.04 Q1815.48 1450.33 1812.23 1450.33 Q1810.71 1450.33 1809.18 1450.67 Q1807.68 1451 1806.1 1451.72 L1806.1 1437.61 Z\" fill=\"#000000\" fill-rule=\"evenodd\" fill-opacity=\"1\" /><path clip-path=\"url(#clip120)\" d=\"M2090.38 1489.17 L2098.02 1489.17 L2098.02 1462.8 L2089.71 1464.47 L2089.71 1460.21 L2097.98 1458.54 L2102.65 1458.54 L2102.65 1489.17 L2110.29 1489.17 L2110.29 1493.1 L2090.38 1493.1 L2090.38 1489.17 Z\" fill=\"#000000\" fill-rule=\"evenodd\" fill-opacity=\"1\" /><path clip-path=\"url(#clip120)\" d=\"M2119.74 1487.22 L2124.62 1487.22 L2124.62 1493.1 L2119.74 1493.1 L2119.74 1487.22 Z\" fill=\"#000000\" fill-rule=\"evenodd\" fill-opacity=\"1\" /><path clip-path=\"url(#clip120)\" d=\"M2144.81 1461.62 Q2141.19 1461.62 2139.37 1465.19 Q2137.56 1468.73 2137.56 1475.86 Q2137.56 1482.97 2139.37 1486.53 Q2141.19 1490.07 2144.81 1490.07 Q2148.44 1490.07 2150.25 1486.53 Q2152.07 1482.97 2152.07 1475.86 Q2152.07 1468.73 2150.25 1465.19 Q2148.44 1461.62 2144.81 1461.62 M2144.81 1457.92 Q2150.62 1457.92 2153.67 1462.53 Q2156.75 1467.11 2156.75 1475.86 Q2156.75 1484.59 2153.67 1489.19 Q2150.62 1493.78 2144.81 1493.78 Q2139 1493.78 2135.92 1489.19 Q2132.86 1484.59 2132.86 1475.86 Q2132.86 1467.11 2135.92 1462.53 Q2139 1457.92 2144.81 1457.92 Z\" fill=\"#000000\" fill-rule=\"evenodd\" fill-opacity=\"1\" /><path clip-path=\"url(#clip120)\" d=\"M2174.97 1461.62 Q2171.36 1461.62 2169.53 1465.19 Q2167.72 1468.73 2167.72 1475.86 Q2167.72 1482.97 2169.53 1486.53 Q2171.36 1490.07 2174.97 1490.07 Q2178.6 1490.07 2180.41 1486.53 Q2182.24 1482.97 2182.24 1475.86 Q2182.24 1468.73 2180.41 1465.19 Q2178.6 1461.62 2174.97 1461.62 M2174.97 1457.92 Q2180.78 1457.92 2183.83 1462.53 Q2186.91 1467.11 2186.91 1475.86 Q2186.91 1484.59 2183.83 1489.19 Q2180.78 1493.78 2174.97 1493.78 Q2169.16 1493.78 2166.08 1489.19 Q2163.02 1484.59 2163.02 1475.86 Q2163.02 1467.11 2166.08 1462.53 Q2169.16 1457.92 2174.97 1457.92 Z\" fill=\"#000000\" fill-rule=\"evenodd\" fill-opacity=\"1\" /><path clip-path=\"url(#clip120)\" d=\"M2223.3 1467.64 L2212.72 1478.27 L2223.3 1488.84 L2220.55 1491.65 L2209.92 1481.02 L2199.3 1491.65 L2196.56 1488.84 L2207.12 1478.27 L2196.56 1467.64 L2199.3 1464.84 L2209.92 1475.47 L2220.55 1464.84 L2223.3 1467.64 Z\" fill=\"#000000\" fill-rule=\"evenodd\" fill-opacity=\"1\" /><path clip-path=\"url(#clip120)\" d=\"M2235.66 1489.17 L2243.3 1489.17 L2243.3 1462.8 L2234.99 1464.47 L2234.99 1460.21 L2243.25 1458.54 L2247.93 1458.54 L2247.93 1489.17 L2255.57 1489.17 L2255.57 1493.1 L2235.66 1493.1 L2235.66 1489.17 Z\" fill=\"#000000\" fill-rule=\"evenodd\" fill-opacity=\"1\" /><path clip-path=\"url(#clip120)\" d=\"M2275.01 1461.62 Q2271.4 1461.62 2269.57 1465.19 Q2267.77 1468.73 2267.77 1475.86 Q2267.77 1482.97 2269.57 1486.53 Q2271.4 1490.07 2275.01 1490.07 Q2278.65 1490.07 2280.45 1486.53 Q2282.28 1482.97 2282.28 1475.86 Q2282.28 1468.73 2280.45 1465.19 Q2278.65 1461.62 2275.01 1461.62 M2275.01 1457.92 Q2280.82 1457.92 2283.88 1462.53 Q2286.96 1467.11 2286.96 1475.86 Q2286.96 1484.59 2283.88 1489.19 Q2280.82 1493.78 2275.01 1493.78 Q2269.2 1493.78 2266.12 1489.19 Q2263.07 1484.59 2263.07 1475.86 Q2263.07 1467.11 2266.12 1462.53 Q2269.2 1457.92 2275.01 1457.92 Z\" fill=\"#000000\" fill-rule=\"evenodd\" fill-opacity=\"1\" /><path clip-path=\"url(#clip120)\" d=\"M2296.98 1450.14 Q2294.42 1450.14 2292.92 1451.89 Q2291.43 1453.64 2291.43 1456.68 Q2291.43 1459.71 2292.92 1461.48 Q2294.42 1463.23 2296.98 1463.23 Q2299.54 1463.23 2301.03 1461.48 Q2302.53 1459.71 2302.53 1456.68 Q2302.53 1453.64 2301.03 1451.89 Q2299.54 1450.14 2296.98 1450.14 M2304.52 1438.23 L2304.52 1441.69 Q2303.09 1441.02 2301.63 1440.66 Q2300.18 1440.3 2298.75 1440.3 Q2294.99 1440.3 2293 1442.84 Q2291.02 1445.38 2290.74 1450.52 Q2291.85 1448.88 2293.52 1448.01 Q2295.2 1447.13 2297.21 1447.13 Q2301.44 1447.13 2303.88 1449.71 Q2306.35 1452.26 2306.35 1456.68 Q2306.35 1461.01 2303.79 1463.62 Q2301.23 1466.24 2296.98 1466.24 Q2292.11 1466.24 2289.53 1462.51 Q2286.96 1458.77 2286.96 1451.68 Q2286.96 1445.02 2290.12 1441.07 Q2293.28 1437.11 2298.6 1437.11 Q2300.03 1437.11 2301.48 1437.39 Q2302.94 1437.67 2304.52 1438.23 Z\" fill=\"#000000\" fill-rule=\"evenodd\" fill-opacity=\"1\" /><path clip-path=\"url(#clip120)\" d=\"M1293.29 1552.67 L1293.29 1574.19 L1287.43 1574.19 L1287.43 1552.86 Q1287.43 1547.8 1285.46 1545.29 Q1283.48 1542.77 1279.54 1542.77 Q1274.79 1542.77 1272.06 1545.79 Q1269.32 1548.82 1269.32 1554.04 L1269.32 1574.19 L1263.43 1574.19 L1263.43 1538.54 L1269.32 1538.54 L1269.32 1544.08 Q1271.42 1540.86 1274.25 1539.27 Q1277.12 1537.68 1280.84 1537.68 Q1286.99 1537.68 1290.14 1541.5 Q1293.29 1545.29 1293.29 1552.67 Z\" fill=\"#000000\" fill-rule=\"evenodd\" fill-opacity=\"1\" /><polyline clip-path=\"url(#clip122)\" style=\"stroke:#000000; stroke-linecap:butt; stroke-linejoin:round; stroke-width:2; stroke-opacity:0.1; fill:none\" points=\"\n",
       "  203.964,1134.91 2352.76,1134.91 \n",
       "  \"/>\n",
       "<polyline clip-path=\"url(#clip122)\" style=\"stroke:#000000; stroke-linecap:butt; stroke-linejoin:round; stroke-width:2; stroke-opacity:0.1; fill:none\" points=\"\n",
       "  203.964,791.85 2352.76,791.85 \n",
       "  \"/>\n",
       "<polyline clip-path=\"url(#clip122)\" style=\"stroke:#000000; stroke-linecap:butt; stroke-linejoin:round; stroke-width:2; stroke-opacity:0.1; fill:none\" points=\"\n",
       "  203.964,448.793 2352.76,448.793 \n",
       "  \"/>\n",
       "<polyline clip-path=\"url(#clip122)\" style=\"stroke:#000000; stroke-linecap:butt; stroke-linejoin:round; stroke-width:2; stroke-opacity:0.1; fill:none\" points=\"\n",
       "  203.964,105.735 2352.76,105.735 \n",
       "  \"/>\n",
       "<polyline clip-path=\"url(#clip120)\" style=\"stroke:#000000; stroke-linecap:butt; stroke-linejoin:round; stroke-width:4; stroke-opacity:1; fill:none\" points=\"\n",
       "  203.964,1410.9 203.964,47.2441 \n",
       "  \"/>\n",
       "<polyline clip-path=\"url(#clip120)\" style=\"stroke:#000000; stroke-linecap:butt; stroke-linejoin:round; stroke-width:4; stroke-opacity:1; fill:none\" points=\"\n",
       "  203.964,1134.91 222.861,1134.91 \n",
       "  \"/>\n",
       "<polyline clip-path=\"url(#clip120)\" style=\"stroke:#000000; stroke-linecap:butt; stroke-linejoin:round; stroke-width:4; stroke-opacity:1; fill:none\" points=\"\n",
       "  203.964,791.85 222.861,791.85 \n",
       "  \"/>\n",
       "<polyline clip-path=\"url(#clip120)\" style=\"stroke:#000000; stroke-linecap:butt; stroke-linejoin:round; stroke-width:4; stroke-opacity:1; fill:none\" points=\"\n",
       "  203.964,448.793 222.861,448.793 \n",
       "  \"/>\n",
       "<polyline clip-path=\"url(#clip120)\" style=\"stroke:#000000; stroke-linecap:butt; stroke-linejoin:round; stroke-width:4; stroke-opacity:1; fill:none\" points=\"\n",
       "  203.964,105.735 222.861,105.735 \n",
       "  \"/>\n",
       "<path clip-path=\"url(#clip120)\" d=\"M147.061 1117.63 L165.417 1117.63 L165.417 1121.56 L151.343 1121.56 L151.343 1130.03 Q152.362 1129.69 153.38 1129.53 Q154.399 1129.34 155.417 1129.34 Q161.204 1129.34 164.584 1132.51 Q167.964 1135.68 167.964 1141.1 Q167.964 1146.68 164.491 1149.78 Q161.019 1152.86 154.7 1152.86 Q152.524 1152.86 150.255 1152.49 Q148.01 1152.12 145.603 1151.38 L145.603 1146.68 Q147.686 1147.81 149.908 1148.37 Q152.13 1148.92 154.607 1148.92 Q158.612 1148.92 160.95 1146.82 Q163.288 1144.71 163.288 1141.1 Q163.288 1137.49 160.95 1135.38 Q158.612 1133.28 154.607 1133.28 Q152.732 1133.28 150.857 1133.69 Q149.005 1134.11 147.061 1134.99 L147.061 1117.63 Z\" fill=\"#000000\" fill-rule=\"evenodd\" fill-opacity=\"1\" /><path clip-path=\"url(#clip120)\" d=\"M116.668 805.195 L124.306 805.195 L124.306 778.829 L115.996 780.496 L115.996 776.237 L124.26 774.57 L128.936 774.57 L128.936 805.195 L136.575 805.195 L136.575 809.13 L116.668 809.13 L116.668 805.195 Z\" fill=\"#000000\" fill-rule=\"evenodd\" fill-opacity=\"1\" /><path clip-path=\"url(#clip120)\" d=\"M156.019 777.649 Q152.408 777.649 150.579 781.213 Q148.774 784.755 148.774 791.885 Q148.774 798.991 150.579 802.556 Q152.408 806.097 156.019 806.097 Q159.653 806.097 161.459 802.556 Q163.288 798.991 163.288 791.885 Q163.288 784.755 161.459 781.213 Q159.653 777.649 156.019 777.649 M156.019 773.945 Q161.829 773.945 164.885 778.551 Q167.964 783.135 167.964 791.885 Q167.964 800.611 164.885 805.218 Q161.829 809.801 156.019 809.801 Q150.209 809.801 147.13 805.218 Q144.075 800.611 144.075 791.885 Q144.075 783.135 147.13 778.551 Q150.209 773.945 156.019 773.945 Z\" fill=\"#000000\" fill-rule=\"evenodd\" fill-opacity=\"1\" /><path clip-path=\"url(#clip120)\" d=\"M117.663 462.137 L125.302 462.137 L125.302 435.772 L116.992 437.438 L116.992 433.179 L125.255 431.513 L129.931 431.513 L129.931 462.137 L137.57 462.137 L137.57 466.073 L117.663 466.073 L117.663 462.137 Z\" fill=\"#000000\" fill-rule=\"evenodd\" fill-opacity=\"1\" /><path clip-path=\"url(#clip120)\" d=\"M147.061 431.513 L165.417 431.513 L165.417 435.448 L151.343 435.448 L151.343 443.92 Q152.362 443.573 153.38 443.411 Q154.399 443.225 155.417 443.225 Q161.204 443.225 164.584 446.397 Q167.964 449.568 167.964 454.985 Q167.964 460.563 164.491 463.665 Q161.019 466.744 154.7 466.744 Q152.524 466.744 150.255 466.374 Q148.01 466.003 145.603 465.262 L145.603 460.563 Q147.686 461.698 149.908 462.253 Q152.13 462.809 154.607 462.809 Q158.612 462.809 160.95 460.702 Q163.288 458.596 163.288 454.985 Q163.288 451.374 160.95 449.267 Q158.612 447.161 154.607 447.161 Q152.732 447.161 150.857 447.577 Q149.005 447.994 147.061 448.874 L147.061 431.513 Z\" fill=\"#000000\" fill-rule=\"evenodd\" fill-opacity=\"1\" /><path clip-path=\"url(#clip120)\" d=\"M119.885 119.08 L136.204 119.08 L136.204 123.015 L114.26 123.015 L114.26 119.08 Q116.922 116.326 121.505 111.696 Q126.112 107.043 127.292 105.701 Q129.538 103.177 130.417 101.441 Q131.32 99.6821 131.32 97.9923 Q131.32 95.2377 129.376 93.5016 Q127.455 91.7655 124.353 91.7655 Q122.154 91.7655 119.7 92.5294 Q117.269 93.2933 114.492 94.8442 L114.492 90.122 Q117.316 88.9878 119.769 88.4091 Q122.223 87.8304 124.26 87.8304 Q129.63 87.8304 132.825 90.5155 Q136.019 93.2007 136.019 97.6914 Q136.019 99.821 135.209 101.742 Q134.422 103.64 132.316 106.233 Q131.737 106.904 128.635 110.122 Q125.533 113.316 119.885 119.08 Z\" fill=\"#000000\" fill-rule=\"evenodd\" fill-opacity=\"1\" /><path clip-path=\"url(#clip120)\" d=\"M156.019 91.534 Q152.408 91.534 150.579 95.0988 Q148.774 98.6405 148.774 105.77 Q148.774 112.877 150.579 116.441 Q152.408 119.983 156.019 119.983 Q159.653 119.983 161.459 116.441 Q163.288 112.877 163.288 105.77 Q163.288 98.6405 161.459 95.0988 Q159.653 91.534 156.019 91.534 M156.019 87.8304 Q161.829 87.8304 164.885 92.4368 Q167.964 97.0201 167.964 105.77 Q167.964 114.497 164.885 119.103 Q161.829 123.687 156.019 123.687 Q150.209 123.687 147.13 119.103 Q144.075 114.497 144.075 105.77 Q144.075 97.0201 147.13 92.4368 Q150.209 87.8304 156.019 87.8304 Z\" fill=\"#000000\" fill-rule=\"evenodd\" fill-opacity=\"1\" /><path clip-path=\"url(#clip120)\" d=\"M35.1993 787.794 Q31.2526 785.598 29.3747 782.542 Q27.4968 779.487 27.4968 775.349 Q27.4968 769.779 31.4117 766.755 Q35.2948 763.732 42.4881 763.732 L64.0042 763.732 L64.0042 769.62 L42.679 769.62 Q37.5546 769.62 35.072 771.434 Q32.5894 773.248 32.5894 776.972 Q32.5894 781.524 35.6131 784.166 Q38.6368 786.807 43.8567 786.807 L64.0042 786.807 L64.0042 792.696 L42.679 792.696 Q37.5228 792.696 35.072 794.51 Q32.5894 796.324 32.5894 800.112 Q32.5894 804.599 35.6449 807.241 Q38.6686 809.883 43.8567 809.883 L64.0042 809.883 L64.0042 815.771 L28.3562 815.771 L28.3562 809.883 L33.8944 809.883 Q30.616 807.878 29.0564 805.077 Q27.4968 802.276 27.4968 798.425 Q27.4968 794.542 29.4702 791.836 Q31.4436 789.099 35.1993 787.794 Z\" fill=\"#000000\" fill-rule=\"evenodd\" fill-opacity=\"1\" /><path clip-path=\"url(#clip120)\" d=\"M44.7161 721.559 L47.5806 721.559 L47.5806 748.486 Q53.6281 748.104 56.8109 744.857 Q59.9619 741.579 59.9619 735.754 Q59.9619 732.381 59.1344 729.23 Q58.3069 726.047 56.6518 722.927 L62.1899 722.927 Q63.5267 726.078 64.227 729.389 Q64.9272 732.699 64.9272 736.104 Q64.9272 744.635 59.9619 749.632 Q54.9967 754.597 46.5303 754.597 Q37.7774 754.597 32.6531 749.886 Q27.4968 745.144 27.4968 737.123 Q27.4968 729.93 32.1438 725.76 Q36.7589 721.559 44.7161 721.559 M42.9973 727.415 Q38.1912 727.479 35.3266 730.121 Q32.4621 732.731 32.4621 737.059 Q32.4621 741.961 35.2312 744.921 Q38.0002 747.849 43.0292 748.295 L42.9973 727.415 Z\" fill=\"#000000\" fill-rule=\"evenodd\" fill-opacity=\"1\" /><path clip-path=\"url(#clip120)\" d=\"M46.0847 695.746 Q46.0847 702.844 47.7079 705.581 Q49.3312 708.318 53.2461 708.318 Q56.3653 708.318 58.2114 706.281 Q60.0256 704.212 60.0256 700.679 Q60.0256 695.81 56.5881 692.881 Q53.1188 689.921 47.3897 689.921 L46.0847 689.921 L46.0847 695.746 M43.6657 684.065 L64.0042 684.065 L64.0042 689.921 L58.5933 689.921 Q61.8398 691.926 63.3994 694.918 Q64.9272 697.91 64.9272 702.239 Q64.9272 707.713 61.8716 710.96 Q58.7843 714.175 53.6281 714.175 Q47.6125 714.175 44.5569 710.164 Q41.5014 706.122 41.5014 698.133 L41.5014 689.921 L40.9285 689.921 Q36.8862 689.921 34.6901 692.595 Q32.4621 695.237 32.4621 700.043 Q32.4621 703.098 33.1941 705.995 Q33.9262 708.891 35.3903 711.565 L29.9795 711.565 Q28.7381 708.35 28.1334 705.326 Q27.4968 702.303 27.4968 699.438 Q27.4968 691.704 31.5072 687.884 Q35.5176 684.065 43.6657 684.065 Z\" fill=\"#000000\" fill-rule=\"evenodd\" fill-opacity=\"1\" /><path clip-path=\"url(#clip120)\" d=\"M42.4881 642.369 L64.0042 642.369 L64.0042 648.226 L42.679 648.226 Q37.6183 648.226 35.1038 650.199 Q32.5894 652.173 32.5894 656.119 Q32.5894 660.862 35.6131 663.599 Q38.6368 666.336 43.8567 666.336 L64.0042 666.336 L64.0042 672.225 L28.3562 672.225 L28.3562 666.336 L33.8944 666.336 Q30.6797 664.236 29.0883 661.403 Q27.4968 658.538 27.4968 654.814 Q27.4968 648.671 31.3163 645.52 Q35.1038 642.369 42.4881 642.369 Z\" fill=\"#000000\" fill-rule=\"evenodd\" fill-opacity=\"1\" /><polyline clip-path=\"url(#clip122)\" style=\"stroke:#009af9; stroke-linecap:butt; stroke-linejoin:round; stroke-width:4; stroke-opacity:1; fill:none\" points=\"\n",
       "  264.778,1372.3 264.782,1324.27 264.79,1263.9 264.806,1176.07 264.836,1116.38 264.898,1024.44 265.022,974.356 265.269,909.175 265.764,854.972 266.754,790.478 \n",
       "  268.734,690.305 272.693,633.357 280.612,548.965 296.449,489.959 328.124,433.012 391.472,349.992 518.17,308.139 771.566,221.689 1278.36,162.683 2291.94,85.838 \n",
       "  \n",
       "  \"/>\n",
       "<path clip-path=\"url(#clip122)\" d=\"M264.778 1356.3 L261.018 1367.12 L249.562 1367.36 L258.698 1374.29 L255.37 1385.25 L264.778 1378.7 L274.186 1385.25 L270.858 1374.29 L279.994 1367.36 L268.538 1367.12 L264.778 1356.3 Z\" fill=\"#009af9\" fill-rule=\"evenodd\" fill-opacity=\"1\" stroke=\"#000000\" stroke-opacity=\"1\" stroke-width=\"3.2\"/>\n",
       "<path clip-path=\"url(#clip122)\" d=\"M264.782 1308.27 L261.022 1319.09 L249.566 1319.33 L258.702 1326.26 L255.374 1337.22 L264.782 1330.67 L274.19 1337.22 L270.862 1326.26 L279.998 1319.33 L268.542 1319.09 L264.782 1308.27 Z\" fill=\"#009af9\" fill-rule=\"evenodd\" fill-opacity=\"1\" stroke=\"#000000\" stroke-opacity=\"1\" stroke-width=\"3.2\"/>\n",
       "<path clip-path=\"url(#clip122)\" d=\"M264.79 1247.9 L261.03 1258.71 L249.574 1258.95 L258.71 1265.88 L255.382 1276.84 L264.79 1270.3 L274.198 1276.84 L270.87 1265.88 L280.006 1258.95 L268.55 1258.71 L264.79 1247.9 Z\" fill=\"#009af9\" fill-rule=\"evenodd\" fill-opacity=\"1\" stroke=\"#000000\" stroke-opacity=\"1\" stroke-width=\"3.2\"/>\n",
       "<path clip-path=\"url(#clip122)\" d=\"M264.806 1160.07 L261.046 1170.89 L249.59 1171.13 L258.726 1178.06 L255.398 1189.02 L264.806 1182.47 L274.214 1189.02 L270.886 1178.06 L280.022 1171.13 L268.566 1170.89 L264.806 1160.07 Z\" fill=\"#009af9\" fill-rule=\"evenodd\" fill-opacity=\"1\" stroke=\"#000000\" stroke-opacity=\"1\" stroke-width=\"3.2\"/>\n",
       "<path clip-path=\"url(#clip122)\" d=\"M264.836 1100.38 L261.076 1111.2 L249.62 1111.44 L258.756 1118.37 L255.428 1129.33 L264.836 1122.78 L274.244 1129.33 L270.916 1118.37 L280.052 1111.44 L268.596 1111.2 L264.836 1100.38 Z\" fill=\"#009af9\" fill-rule=\"evenodd\" fill-opacity=\"1\" stroke=\"#000000\" stroke-opacity=\"1\" stroke-width=\"3.2\"/>\n",
       "<path clip-path=\"url(#clip122)\" d=\"M264.898 1008.44 L261.138 1019.26 L249.682 1019.5 L258.818 1026.43 L255.49 1037.39 L264.898 1030.84 L274.306 1037.39 L270.978 1026.43 L280.114 1019.5 L268.658 1019.26 L264.898 1008.44 Z\" fill=\"#009af9\" fill-rule=\"evenodd\" fill-opacity=\"1\" stroke=\"#000000\" stroke-opacity=\"1\" stroke-width=\"3.2\"/>\n",
       "<path clip-path=\"url(#clip122)\" d=\"M265.022 958.356 L261.262 969.172 L249.806 969.412 L258.942 976.34 L255.614 987.3 L265.022 980.756 L274.43 987.3 L271.102 976.34 L280.238 969.412 L268.782 969.172 L265.022 958.356 Z\" fill=\"#009af9\" fill-rule=\"evenodd\" fill-opacity=\"1\" stroke=\"#000000\" stroke-opacity=\"1\" stroke-width=\"3.2\"/>\n",
       "<path clip-path=\"url(#clip122)\" d=\"M265.269 893.175 L261.509 903.991 L250.053 904.231 L259.189 911.159 L255.861 922.119 L265.269 915.575 L274.677 922.119 L271.349 911.159 L280.485 904.231 L269.029 903.991 L265.269 893.175 Z\" fill=\"#009af9\" fill-rule=\"evenodd\" fill-opacity=\"1\" stroke=\"#000000\" stroke-opacity=\"1\" stroke-width=\"3.2\"/>\n",
       "<path clip-path=\"url(#clip122)\" d=\"M265.764 838.972 L262.004 849.788 L250.548 850.028 L259.684 856.956 L256.356 867.916 L265.764 861.372 L275.172 867.916 L271.844 856.956 L280.98 850.028 L269.524 849.788 L265.764 838.972 Z\" fill=\"#009af9\" fill-rule=\"evenodd\" fill-opacity=\"1\" stroke=\"#000000\" stroke-opacity=\"1\" stroke-width=\"3.2\"/>\n",
       "<path clip-path=\"url(#clip122)\" d=\"M266.754 774.478 L262.994 785.294 L251.538 785.534 L260.674 792.462 L257.346 803.422 L266.754 796.878 L276.162 803.422 L272.834 792.462 L281.97 785.534 L270.514 785.294 L266.754 774.478 Z\" fill=\"#009af9\" fill-rule=\"evenodd\" fill-opacity=\"1\" stroke=\"#000000\" stroke-opacity=\"1\" stroke-width=\"3.2\"/>\n",
       "<path clip-path=\"url(#clip122)\" d=\"M268.734 674.305 L264.974 685.121 L253.518 685.361 L262.654 692.289 L259.326 703.249 L268.734 696.705 L278.142 703.249 L274.814 692.289 L283.95 685.361 L272.494 685.121 L268.734 674.305 Z\" fill=\"#009af9\" fill-rule=\"evenodd\" fill-opacity=\"1\" stroke=\"#000000\" stroke-opacity=\"1\" stroke-width=\"3.2\"/>\n",
       "<path clip-path=\"url(#clip122)\" d=\"M272.693 617.357 L268.933 628.173 L257.477 628.413 L266.613 635.341 L263.285 646.301 L272.693 639.757 L282.101 646.301 L278.773 635.341 L287.909 628.413 L276.453 628.173 L272.693 617.357 Z\" fill=\"#009af9\" fill-rule=\"evenodd\" fill-opacity=\"1\" stroke=\"#000000\" stroke-opacity=\"1\" stroke-width=\"3.2\"/>\n",
       "<path clip-path=\"url(#clip122)\" d=\"M280.612 532.965 L276.852 543.781 L265.396 544.021 L274.532 550.949 L271.204 561.909 L280.612 555.365 L290.02 561.909 L286.692 550.949 L295.828 544.021 L284.372 543.781 L280.612 532.965 Z\" fill=\"#009af9\" fill-rule=\"evenodd\" fill-opacity=\"1\" stroke=\"#000000\" stroke-opacity=\"1\" stroke-width=\"3.2\"/>\n",
       "<path clip-path=\"url(#clip122)\" d=\"M296.449 473.959 L292.689 484.775 L281.233 485.015 L290.369 491.943 L287.041 502.903 L296.449 496.359 L305.857 502.903 L302.529 491.943 L311.665 485.015 L300.209 484.775 L296.449 473.959 Z\" fill=\"#009af9\" fill-rule=\"evenodd\" fill-opacity=\"1\" stroke=\"#000000\" stroke-opacity=\"1\" stroke-width=\"3.2\"/>\n",
       "<path clip-path=\"url(#clip122)\" d=\"M328.124 417.012 L324.364 427.828 L312.908 428.068 L322.044 434.996 L318.716 445.956 L328.124 439.412 L337.532 445.956 L334.204 434.996 L343.34 428.068 L331.884 427.828 L328.124 417.012 Z\" fill=\"#009af9\" fill-rule=\"evenodd\" fill-opacity=\"1\" stroke=\"#000000\" stroke-opacity=\"1\" stroke-width=\"3.2\"/>\n",
       "<path clip-path=\"url(#clip122)\" d=\"M391.472 333.992 L387.712 344.808 L376.256 345.048 L385.392 351.976 L382.064 362.936 L391.472 356.392 L400.88 362.936 L397.552 351.976 L406.688 345.048 L395.232 344.808 L391.472 333.992 Z\" fill=\"#009af9\" fill-rule=\"evenodd\" fill-opacity=\"1\" stroke=\"#000000\" stroke-opacity=\"1\" stroke-width=\"3.2\"/>\n",
       "<path clip-path=\"url(#clip122)\" d=\"M518.17 292.139 L514.41 302.955 L502.954 303.195 L512.09 310.123 L508.762 321.083 L518.17 314.539 L527.578 321.083 L524.25 310.123 L533.386 303.195 L521.93 302.955 L518.17 292.139 Z\" fill=\"#009af9\" fill-rule=\"evenodd\" fill-opacity=\"1\" stroke=\"#000000\" stroke-opacity=\"1\" stroke-width=\"3.2\"/>\n",
       "<path clip-path=\"url(#clip122)\" d=\"M771.566 205.689 L767.806 216.505 L756.35 216.745 L765.486 223.673 L762.158 234.633 L771.566 228.089 L780.974 234.633 L777.646 223.673 L786.782 216.745 L775.326 216.505 L771.566 205.689 Z\" fill=\"#009af9\" fill-rule=\"evenodd\" fill-opacity=\"1\" stroke=\"#000000\" stroke-opacity=\"1\" stroke-width=\"3.2\"/>\n",
       "<path clip-path=\"url(#clip122)\" d=\"M1278.36 146.683 L1274.6 157.499 L1263.14 157.739 L1272.28 164.667 L1268.95 175.627 L1278.36 169.083 L1287.77 175.627 L1284.44 164.667 L1293.57 157.739 L1282.12 157.499 L1278.36 146.683 Z\" fill=\"#009af9\" fill-rule=\"evenodd\" fill-opacity=\"1\" stroke=\"#000000\" stroke-opacity=\"1\" stroke-width=\"3.2\"/>\n",
       "<path clip-path=\"url(#clip122)\" d=\"M2291.94 69.838 L2288.18 80.654 L2276.73 80.894 L2285.86 87.822 L2282.53 98.782 L2291.94 92.238 L2301.35 98.782 L2298.02 87.822 L2307.16 80.894 L2295.7 80.654 L2291.94 69.838 Z\" fill=\"#009af9\" fill-rule=\"evenodd\" fill-opacity=\"1\" stroke=\"#000000\" stroke-opacity=\"1\" stroke-width=\"3.2\"/>\n",
       "</svg>\n"
      ]
     },
     "execution_count": 43,
     "metadata": {},
     "output_type": "execute_result"
    }
   ],
   "source": [
    "means2 = mean.(results2);\n",
    "plot(2 .^(1:20),means2,label=false,xlabel=\"n\",ylabel=\"mean\",shape=:star)"
   ]
  },
  {
   "cell_type": "code",
   "execution_count": 44,
   "metadata": {},
   "outputs": [],
   "source": [
    "function compute_results_v3(max_k;N = 10^2)\n",
    "    Random.seed!(0)\n",
    "    results = Matrix{Int64}(undef,max_k,N) #Preallocate a matrix\n",
    "    for k in 1:max_k\n",
    "        n = 2^k\n",
    "        for i in 1:N\n",
    "            a = rand([\"a\",\"b\"],n)\n",
    "            results[k,i] = longest_streak(a) #Put the result in a matrix\n",
    "        end\n",
    "    end\n",
    "    return results\n",
    "end;"
   ]
  },
  {
   "cell_type": "code",
   "execution_count": 45,
   "metadata": {},
   "outputs": [
    {
     "data": {
      "text/plain": [
       "20×100 Matrix{Int64}:\n",
       "  1   1   1   1   1   1   1   2   1  …   2   1   1   1   2   1   2   1   2\n",
       "  2   2   3   2   1   2   4   3   2      3   2   2   2   2   1   3   2   2\n",
       "  4   2   4   4   3   3   3   2   3      3   4   3   2   3   2   2   2   4\n",
       "  3   4   7   6   4   3   3   2   5      3   4   3   3   7   3   5   2   4\n",
       "  3   4   5   4   5   5   5   6  10      4   5   5   3   5   6   6   4   5\n",
       "  7  11   7   7   6   9   6   6   5  …   5   7   5   7   8   5   7   7   5\n",
       "  7   6   6   5   6  10   9   8   6     13   5   5   5   5   8   6   7  10\n",
       "  8   8   8   8  15   7   9   9   8      9   7  10  12   6  15   7   6   7\n",
       "  6  12  12   7  11   8   9   8   8      7   9   7  10   9   9   8   9   7\n",
       " 12   8  10   8  12   7  13   9   8     11  10   9  13   9   8  11   9   9\n",
       "  9  10  11  11  11   9  10  10  13  …  11  16  14  12  11  14  12  13  10\n",
       " 12  12  12  11  10  14  12  10  14     12  12  13  12  12  15  11  13  11\n",
       " 14  18  12  13  15  12  11  11  16     15  12  15  14  20  12  14  10  11\n",
       " 13  12  13  13  14  13  18  18  13     16  15  15  17  13  13  15  16  13\n",
       " 16  15  16  15  17  14  15  13  16     17  14  17  13  16  19  16  15  15\n",
       " 19  17  15  16  14  16  16  18  15  …  18  20  17  14  16  13  16  15  15\n",
       " 17  19  16  16  18  18  16  16  19     15  18  17  17  17  21  16  17  16\n",
       " 18  17  17  18  20  20  17  17  21     17  19  21  17  16  16  17  18  19\n",
       " 16  18  20  19  19  17  24  18  18     17  17  20  18  21  17  20  20  17\n",
       " 22  19  21  17  18  21  18  21  22     25  20  22  18  22  21  19  23  19"
      ]
     },
     "execution_count": 45,
     "metadata": {},
     "output_type": "execute_result"
    }
   ],
   "source": [
    "results3 = compute_results_v3(20)"
   ]
  },
  {
   "cell_type": "code",
   "execution_count": 46,
   "metadata": {},
   "outputs": [
    {
     "data": {
      "image/svg+xml": [
       "<?xml version=\"1.0\" encoding=\"utf-8\"?>\n",
       "<svg xmlns=\"http://www.w3.org/2000/svg\" xmlns:xlink=\"http://www.w3.org/1999/xlink\" width=\"600\" height=\"400\" viewBox=\"0 0 2400 1600\">\n",
       "<defs>\n",
       "  <clipPath id=\"clip160\">\n",
       "    <rect x=\"0\" y=\"0\" width=\"2400\" height=\"1600\"/>\n",
       "  </clipPath>\n",
       "</defs>\n",
       "<path clip-path=\"url(#clip160)\" d=\"\n",
       "M0 1600 L2400 1600 L2400 0 L0 0  Z\n",
       "  \" fill=\"#ffffff\" fill-rule=\"evenodd\" fill-opacity=\"1\"/>\n",
       "<defs>\n",
       "  <clipPath id=\"clip161\">\n",
       "    <rect x=\"480\" y=\"0\" width=\"1681\" height=\"1600\"/>\n",
       "  </clipPath>\n",
       "</defs>\n",
       "<path clip-path=\"url(#clip160)\" d=\"\n",
       "M203.964 1410.9 L2352.76 1410.9 L2352.76 47.2441 L203.964 47.2441  Z\n",
       "  \" fill=\"#ffffff\" fill-rule=\"evenodd\" fill-opacity=\"1\"/>\n",
       "<defs>\n",
       "  <clipPath id=\"clip162\">\n",
       "    <rect x=\"203\" y=\"47\" width=\"2150\" height=\"1365\"/>\n",
       "  </clipPath>\n",
       "</defs>\n",
       "<polyline clip-path=\"url(#clip162)\" style=\"stroke:#000000; stroke-linecap:butt; stroke-linejoin:round; stroke-width:2; stroke-opacity:0.1; fill:none\" points=\"\n",
       "  264.775,1410.9 264.775,47.2441 \n",
       "  \"/>\n",
       "<polyline clip-path=\"url(#clip162)\" style=\"stroke:#000000; stroke-linecap:butt; stroke-linejoin:round; stroke-width:2; stroke-opacity:0.1; fill:none\" points=\"\n",
       "  748.089,1410.9 748.089,47.2441 \n",
       "  \"/>\n",
       "<polyline clip-path=\"url(#clip162)\" style=\"stroke:#000000; stroke-linecap:butt; stroke-linejoin:round; stroke-width:2; stroke-opacity:0.1; fill:none\" points=\"\n",
       "  1231.4,1410.9 1231.4,47.2441 \n",
       "  \"/>\n",
       "<polyline clip-path=\"url(#clip162)\" style=\"stroke:#000000; stroke-linecap:butt; stroke-linejoin:round; stroke-width:2; stroke-opacity:0.1; fill:none\" points=\"\n",
       "  1714.72,1410.9 1714.72,47.2441 \n",
       "  \"/>\n",
       "<polyline clip-path=\"url(#clip162)\" style=\"stroke:#000000; stroke-linecap:butt; stroke-linejoin:round; stroke-width:2; stroke-opacity:0.1; fill:none\" points=\"\n",
       "  2198.03,1410.9 2198.03,47.2441 \n",
       "  \"/>\n",
       "<polyline clip-path=\"url(#clip160)\" style=\"stroke:#000000; stroke-linecap:butt; stroke-linejoin:round; stroke-width:4; stroke-opacity:1; fill:none\" points=\"\n",
       "  203.964,1410.9 2352.76,1410.9 \n",
       "  \"/>\n",
       "<polyline clip-path=\"url(#clip160)\" style=\"stroke:#000000; stroke-linecap:butt; stroke-linejoin:round; stroke-width:4; stroke-opacity:1; fill:none\" points=\"\n",
       "  264.775,1410.9 264.775,1392 \n",
       "  \"/>\n",
       "<polyline clip-path=\"url(#clip160)\" style=\"stroke:#000000; stroke-linecap:butt; stroke-linejoin:round; stroke-width:4; stroke-opacity:1; fill:none\" points=\"\n",
       "  748.089,1410.9 748.089,1392 \n",
       "  \"/>\n",
       "<polyline clip-path=\"url(#clip160)\" style=\"stroke:#000000; stroke-linecap:butt; stroke-linejoin:round; stroke-width:4; stroke-opacity:1; fill:none\" points=\"\n",
       "  1231.4,1410.9 1231.4,1392 \n",
       "  \"/>\n",
       "<polyline clip-path=\"url(#clip160)\" style=\"stroke:#000000; stroke-linecap:butt; stroke-linejoin:round; stroke-width:4; stroke-opacity:1; fill:none\" points=\"\n",
       "  1714.72,1410.9 1714.72,1392 \n",
       "  \"/>\n",
       "<polyline clip-path=\"url(#clip160)\" style=\"stroke:#000000; stroke-linecap:butt; stroke-linejoin:round; stroke-width:4; stroke-opacity:1; fill:none\" points=\"\n",
       "  2198.03,1410.9 2198.03,1392 \n",
       "  \"/>\n",
       "<path clip-path=\"url(#clip160)\" d=\"M264.775 1440.09 Q261.163 1440.09 259.335 1443.65 Q257.529 1447.19 257.529 1454.32 Q257.529 1461.43 259.335 1464.99 Q261.163 1468.54 264.775 1468.54 Q268.409 1468.54 270.214 1464.99 Q272.043 1461.43 272.043 1454.32 Q272.043 1447.19 270.214 1443.65 Q268.409 1440.09 264.775 1440.09 M264.775 1436.38 Q270.585 1436.38 273.64 1440.99 Q276.719 1445.57 276.719 1454.32 Q276.719 1463.05 273.64 1467.66 Q270.585 1472.24 264.775 1472.24 Q258.964 1472.24 255.886 1467.66 Q252.83 1463.05 252.83 1454.32 Q252.83 1445.57 255.886 1440.99 Q258.964 1436.38 264.775 1436.38 Z\" fill=\"#000000\" fill-rule=\"evenodd\" fill-opacity=\"1\" /><path clip-path=\"url(#clip160)\" d=\"M645.139 1489.17 L661.459 1489.17 L661.459 1493.1 L639.514 1493.1 L639.514 1489.17 Q642.176 1486.41 646.76 1481.78 Q651.366 1477.13 652.547 1475.79 Q654.792 1473.27 655.672 1471.53 Q656.574 1469.77 656.574 1468.08 Q656.574 1465.33 654.63 1463.59 Q652.709 1461.85 649.607 1461.85 Q647.408 1461.85 644.954 1462.62 Q642.524 1463.38 639.746 1464.93 L639.746 1460.21 Q642.57 1459.08 645.024 1458.5 Q647.477 1457.92 649.514 1457.92 Q654.885 1457.92 658.079 1460.6 Q661.274 1463.29 661.274 1467.78 Q661.274 1469.91 660.463 1471.83 Q659.676 1473.73 657.57 1476.32 Q656.991 1476.99 653.889 1480.21 Q650.787 1483.4 645.139 1489.17 Z\" fill=\"#000000\" fill-rule=\"evenodd\" fill-opacity=\"1\" /><path clip-path=\"url(#clip160)\" d=\"M671.273 1487.22 L676.158 1487.22 L676.158 1493.1 L671.273 1493.1 L671.273 1487.22 Z\" fill=\"#000000\" fill-rule=\"evenodd\" fill-opacity=\"1\" /><path clip-path=\"url(#clip160)\" d=\"M686.389 1458.54 L704.745 1458.54 L704.745 1462.48 L690.672 1462.48 L690.672 1470.95 Q691.69 1470.6 692.709 1470.44 Q693.727 1470.26 694.746 1470.26 Q700.533 1470.26 703.912 1473.43 Q707.292 1476.6 707.292 1482.02 Q707.292 1487.59 703.82 1490.7 Q700.347 1493.78 694.028 1493.78 Q691.852 1493.78 689.584 1493.4 Q687.338 1493.03 684.931 1492.29 L684.931 1487.59 Q687.014 1488.73 689.236 1489.28 Q691.459 1489.84 693.935 1489.84 Q697.94 1489.84 700.278 1487.73 Q702.616 1485.63 702.616 1482.02 Q702.616 1478.4 700.278 1476.3 Q697.94 1474.19 693.935 1474.19 Q692.06 1474.19 690.185 1474.61 Q688.334 1475.03 686.389 1475.9 L686.389 1458.54 Z\" fill=\"#000000\" fill-rule=\"evenodd\" fill-opacity=\"1\" /><path clip-path=\"url(#clip160)\" d=\"M726.505 1461.62 Q722.894 1461.62 721.065 1465.19 Q719.259 1468.73 719.259 1475.86 Q719.259 1482.97 721.065 1486.53 Q722.894 1490.07 726.505 1490.07 Q730.139 1490.07 731.944 1486.53 Q733.773 1482.97 733.773 1475.86 Q733.773 1468.73 731.944 1465.19 Q730.139 1461.62 726.505 1461.62 M726.505 1457.92 Q732.315 1457.92 735.37 1462.53 Q738.449 1467.11 738.449 1475.86 Q738.449 1484.59 735.37 1489.19 Q732.315 1493.78 726.505 1493.78 Q720.694 1493.78 717.616 1489.19 Q714.56 1484.59 714.56 1475.86 Q714.56 1467.11 717.616 1462.53 Q720.694 1457.92 726.505 1457.92 Z\" fill=\"#000000\" fill-rule=\"evenodd\" fill-opacity=\"1\" /><path clip-path=\"url(#clip160)\" d=\"M774.838 1467.64 L764.259 1478.27 L774.838 1488.84 L772.083 1491.65 L761.458 1481.02 L750.833 1491.65 L748.102 1488.84 L758.657 1478.27 L748.102 1467.64 L750.833 1464.84 L761.458 1475.47 L772.083 1464.84 L774.838 1467.64 Z\" fill=\"#000000\" fill-rule=\"evenodd\" fill-opacity=\"1\" /><path clip-path=\"url(#clip160)\" d=\"M787.199 1489.17 L794.838 1489.17 L794.838 1462.8 L786.527 1464.47 L786.527 1460.21 L794.791 1458.54 L799.467 1458.54 L799.467 1489.17 L807.106 1489.17 L807.106 1493.1 L787.199 1493.1 L787.199 1489.17 Z\" fill=\"#000000\" fill-rule=\"evenodd\" fill-opacity=\"1\" /><path clip-path=\"url(#clip160)\" d=\"M826.55 1461.62 Q822.939 1461.62 821.111 1465.19 Q819.305 1468.73 819.305 1475.86 Q819.305 1482.97 821.111 1486.53 Q822.939 1490.07 826.55 1490.07 Q830.185 1490.07 831.99 1486.53 Q833.819 1482.97 833.819 1475.86 Q833.819 1468.73 831.99 1465.19 Q830.185 1461.62 826.55 1461.62 M826.55 1457.92 Q832.361 1457.92 835.416 1462.53 Q838.495 1467.11 838.495 1475.86 Q838.495 1484.59 835.416 1489.19 Q832.361 1493.78 826.55 1493.78 Q820.74 1493.78 817.662 1489.19 Q814.606 1484.59 814.606 1475.86 Q814.606 1467.11 817.662 1462.53 Q820.74 1457.92 826.55 1457.92 Z\" fill=\"#000000\" fill-rule=\"evenodd\" fill-opacity=\"1\" /><path clip-path=\"url(#clip160)\" d=\"M839.68 1437.61 L854.594 1437.61 L854.594 1440.81 L843.159 1440.81 L843.159 1447.69 Q843.987 1447.41 844.814 1447.28 Q845.642 1447.13 846.469 1447.13 Q851.171 1447.13 853.917 1449.71 Q856.663 1452.28 856.663 1456.68 Q856.663 1461.22 853.842 1463.74 Q851.021 1466.24 845.886 1466.24 Q844.118 1466.24 842.275 1465.94 Q840.451 1465.64 838.495 1465.04 L838.495 1461.22 Q840.187 1462.14 841.993 1462.59 Q843.799 1463.04 845.811 1463.04 Q849.065 1463.04 850.964 1461.33 Q852.864 1459.62 852.864 1456.68 Q852.864 1453.75 850.964 1452.04 Q849.065 1450.33 845.811 1450.33 Q844.288 1450.33 842.764 1450.67 Q841.26 1451 839.68 1451.72 L839.68 1437.61 Z\" fill=\"#000000\" fill-rule=\"evenodd\" fill-opacity=\"1\" /><path clip-path=\"url(#clip160)\" d=\"M1124.38 1458.54 L1142.74 1458.54 L1142.74 1462.48 L1128.66 1462.48 L1128.66 1470.95 Q1129.68 1470.6 1130.7 1470.44 Q1131.72 1470.26 1132.74 1470.26 Q1138.52 1470.26 1141.9 1473.43 Q1145.28 1476.6 1145.28 1482.02 Q1145.28 1487.59 1141.81 1490.7 Q1138.34 1493.78 1132.02 1493.78 Q1129.84 1493.78 1127.57 1493.4 Q1125.33 1493.03 1122.92 1492.29 L1122.92 1487.59 Q1125 1488.73 1127.23 1489.28 Q1129.45 1489.84 1131.93 1489.84 Q1135.93 1489.84 1138.27 1487.73 Q1140.61 1485.63 1140.61 1482.02 Q1140.61 1478.4 1138.27 1476.3 Q1135.93 1474.19 1131.93 1474.19 Q1130.05 1474.19 1128.18 1474.61 Q1126.32 1475.03 1124.38 1475.9 L1124.38 1458.54 Z\" fill=\"#000000\" fill-rule=\"evenodd\" fill-opacity=\"1\" /><path clip-path=\"url(#clip160)\" d=\"M1154.5 1487.22 L1159.38 1487.22 L1159.38 1493.1 L1154.5 1493.1 L1154.5 1487.22 Z\" fill=\"#000000\" fill-rule=\"evenodd\" fill-opacity=\"1\" /><path clip-path=\"url(#clip160)\" d=\"M1179.56 1461.62 Q1175.95 1461.62 1174.12 1465.19 Q1172.32 1468.73 1172.32 1475.86 Q1172.32 1482.97 1174.12 1486.53 Q1175.95 1490.07 1179.56 1490.07 Q1183.2 1490.07 1185 1486.53 Q1186.83 1482.97 1186.83 1475.86 Q1186.83 1468.73 1185 1465.19 Q1183.2 1461.62 1179.56 1461.62 M1179.56 1457.92 Q1185.37 1457.92 1188.43 1462.53 Q1191.51 1467.11 1191.51 1475.86 Q1191.51 1484.59 1188.43 1489.19 Q1185.37 1493.78 1179.56 1493.78 Q1173.75 1493.78 1170.68 1489.19 Q1167.62 1484.59 1167.62 1475.86 Q1167.62 1467.11 1170.68 1462.53 Q1173.75 1457.92 1179.56 1457.92 Z\" fill=\"#000000\" fill-rule=\"evenodd\" fill-opacity=\"1\" /><path clip-path=\"url(#clip160)\" d=\"M1209.73 1461.62 Q1206.12 1461.62 1204.29 1465.19 Q1202.48 1468.73 1202.48 1475.86 Q1202.48 1482.97 1204.29 1486.53 Q1206.12 1490.07 1209.73 1490.07 Q1213.36 1490.07 1215.17 1486.53 Q1216.99 1482.97 1216.99 1475.86 Q1216.99 1468.73 1215.17 1465.19 Q1213.36 1461.62 1209.73 1461.62 M1209.73 1457.92 Q1215.54 1457.92 1218.59 1462.53 Q1221.67 1467.11 1221.67 1475.86 Q1221.67 1484.59 1218.59 1489.19 Q1215.54 1493.78 1209.73 1493.78 Q1203.92 1493.78 1200.84 1489.19 Q1197.78 1484.59 1197.78 1475.86 Q1197.78 1467.11 1200.84 1462.53 Q1203.92 1457.92 1209.73 1457.92 Z\" fill=\"#000000\" fill-rule=\"evenodd\" fill-opacity=\"1\" /><path clip-path=\"url(#clip160)\" d=\"M1258.06 1467.64 L1247.48 1478.27 L1258.06 1488.84 L1255.3 1491.65 L1244.68 1481.02 L1234.05 1491.65 L1231.32 1488.84 L1241.88 1478.27 L1231.32 1467.64 L1234.05 1464.84 L1244.68 1475.47 L1255.3 1464.84 L1258.06 1467.64 Z\" fill=\"#000000\" fill-rule=\"evenodd\" fill-opacity=\"1\" /><path clip-path=\"url(#clip160)\" d=\"M1270.42 1489.17 L1278.06 1489.17 L1278.06 1462.8 L1269.75 1464.47 L1269.75 1460.21 L1278.01 1458.54 L1282.69 1458.54 L1282.69 1489.17 L1290.33 1489.17 L1290.33 1493.1 L1270.42 1493.1 L1270.42 1489.17 Z\" fill=\"#000000\" fill-rule=\"evenodd\" fill-opacity=\"1\" /><path clip-path=\"url(#clip160)\" d=\"M1309.77 1461.62 Q1306.16 1461.62 1304.33 1465.19 Q1302.53 1468.73 1302.53 1475.86 Q1302.53 1482.97 1304.33 1486.53 Q1306.16 1490.07 1309.77 1490.07 Q1313.41 1490.07 1315.21 1486.53 Q1317.04 1482.97 1317.04 1475.86 Q1317.04 1468.73 1315.21 1465.19 Q1313.41 1461.62 1309.77 1461.62 M1309.77 1457.92 Q1315.58 1457.92 1318.64 1462.53 Q1321.72 1467.11 1321.72 1475.86 Q1321.72 1484.59 1318.64 1489.19 Q1315.58 1493.78 1309.77 1493.78 Q1303.96 1493.78 1300.88 1489.19 Q1297.83 1484.59 1297.83 1475.86 Q1297.83 1467.11 1300.88 1462.53 Q1303.96 1457.92 1309.77 1457.92 Z\" fill=\"#000000\" fill-rule=\"evenodd\" fill-opacity=\"1\" /><path clip-path=\"url(#clip160)\" d=\"M1322.9 1437.61 L1337.82 1437.61 L1337.82 1440.81 L1326.38 1440.81 L1326.38 1447.69 Q1327.21 1447.41 1328.04 1447.28 Q1328.86 1447.13 1329.69 1447.13 Q1334.39 1447.13 1337.14 1449.71 Q1339.88 1452.28 1339.88 1456.68 Q1339.88 1461.22 1337.06 1463.74 Q1334.24 1466.24 1329.11 1466.24 Q1327.34 1466.24 1325.5 1465.94 Q1323.67 1465.64 1321.72 1465.04 L1321.72 1461.22 Q1323.41 1462.14 1325.21 1462.59 Q1327.02 1463.04 1329.03 1463.04 Q1332.29 1463.04 1334.19 1461.33 Q1336.09 1459.62 1336.09 1456.68 Q1336.09 1453.75 1334.19 1452.04 Q1332.29 1450.33 1329.03 1450.33 Q1327.51 1450.33 1325.99 1450.67 Q1324.48 1451 1322.9 1451.72 L1322.9 1437.61 Z\" fill=\"#000000\" fill-rule=\"evenodd\" fill-opacity=\"1\" /><path clip-path=\"url(#clip160)\" d=\"M1606.35 1458.54 L1628.57 1458.54 L1628.57 1460.53 L1616.03 1493.1 L1611.14 1493.1 L1622.95 1462.48 L1606.35 1462.48 L1606.35 1458.54 Z\" fill=\"#000000\" fill-rule=\"evenodd\" fill-opacity=\"1\" /><path clip-path=\"url(#clip160)\" d=\"M1637.69 1487.22 L1642.58 1487.22 L1642.58 1493.1 L1637.69 1493.1 L1637.69 1487.22 Z\" fill=\"#000000\" fill-rule=\"evenodd\" fill-opacity=\"1\" /><path clip-path=\"url(#clip160)\" d=\"M1652.81 1458.54 L1671.17 1458.54 L1671.17 1462.48 L1657.09 1462.48 L1657.09 1470.95 Q1658.11 1470.6 1659.13 1470.44 Q1660.15 1470.26 1661.17 1470.26 Q1666.95 1470.26 1670.33 1473.43 Q1673.71 1476.6 1673.71 1482.02 Q1673.71 1487.59 1670.24 1490.7 Q1666.77 1493.78 1660.45 1493.78 Q1658.27 1493.78 1656 1493.4 Q1653.76 1493.03 1651.35 1492.29 L1651.35 1487.59 Q1653.43 1488.73 1655.66 1489.28 Q1657.88 1489.84 1660.36 1489.84 Q1664.36 1489.84 1666.7 1487.73 Q1669.04 1485.63 1669.04 1482.02 Q1669.04 1478.4 1666.7 1476.3 Q1664.36 1474.19 1660.36 1474.19 Q1658.48 1474.19 1656.61 1474.61 Q1654.75 1475.03 1652.81 1475.9 L1652.81 1458.54 Z\" fill=\"#000000\" fill-rule=\"evenodd\" fill-opacity=\"1\" /><path clip-path=\"url(#clip160)\" d=\"M1692.92 1461.62 Q1689.31 1461.62 1687.48 1465.19 Q1685.68 1468.73 1685.68 1475.86 Q1685.68 1482.97 1687.48 1486.53 Q1689.31 1490.07 1692.92 1490.07 Q1696.56 1490.07 1698.36 1486.53 Q1700.19 1482.97 1700.19 1475.86 Q1700.19 1468.73 1698.36 1465.19 Q1696.56 1461.62 1692.92 1461.62 M1692.92 1457.92 Q1698.73 1457.92 1701.79 1462.53 Q1704.87 1467.11 1704.87 1475.86 Q1704.87 1484.59 1701.79 1489.19 Q1698.73 1493.78 1692.92 1493.78 Q1687.11 1493.78 1684.04 1489.19 Q1680.98 1484.59 1680.98 1475.86 Q1680.98 1467.11 1684.04 1462.53 Q1687.11 1457.92 1692.92 1457.92 Z\" fill=\"#000000\" fill-rule=\"evenodd\" fill-opacity=\"1\" /><path clip-path=\"url(#clip160)\" d=\"M1741.26 1467.64 L1730.68 1478.27 L1741.26 1488.84 L1738.5 1491.65 L1727.88 1481.02 L1717.25 1491.65 L1714.52 1488.84 L1725.08 1478.27 L1714.52 1467.64 L1717.25 1464.84 L1727.88 1475.47 L1738.5 1464.84 L1741.26 1467.64 Z\" fill=\"#000000\" fill-rule=\"evenodd\" fill-opacity=\"1\" /><path clip-path=\"url(#clip160)\" d=\"M1753.62 1489.17 L1761.26 1489.17 L1761.26 1462.8 L1752.95 1464.47 L1752.95 1460.21 L1761.21 1458.54 L1765.89 1458.54 L1765.89 1489.17 L1773.53 1489.17 L1773.53 1493.1 L1753.62 1493.1 L1753.62 1489.17 Z\" fill=\"#000000\" fill-rule=\"evenodd\" fill-opacity=\"1\" /><path clip-path=\"url(#clip160)\" d=\"M1792.97 1461.62 Q1789.36 1461.62 1787.53 1465.19 Q1785.73 1468.73 1785.73 1475.86 Q1785.73 1482.97 1787.53 1486.53 Q1789.36 1490.07 1792.97 1490.07 Q1796.6 1490.07 1798.41 1486.53 Q1800.24 1482.97 1800.24 1475.86 Q1800.24 1468.73 1798.41 1465.19 Q1796.6 1461.62 1792.97 1461.62 M1792.97 1457.92 Q1798.78 1457.92 1801.84 1462.53 Q1804.91 1467.11 1804.91 1475.86 Q1804.91 1484.59 1801.84 1489.19 Q1798.78 1493.78 1792.97 1493.78 Q1787.16 1493.78 1784.08 1489.19 Q1781.03 1484.59 1781.03 1475.86 Q1781.03 1467.11 1784.08 1462.53 Q1787.16 1457.92 1792.97 1457.92 Z\" fill=\"#000000\" fill-rule=\"evenodd\" fill-opacity=\"1\" /><path clip-path=\"url(#clip160)\" d=\"M1806.1 1437.61 L1821.01 1437.61 L1821.01 1440.81 L1809.58 1440.81 L1809.58 1447.69 Q1810.41 1447.41 1811.23 1447.28 Q1812.06 1447.13 1812.89 1447.13 Q1817.59 1447.13 1820.34 1449.71 Q1823.08 1452.28 1823.08 1456.68 Q1823.08 1461.22 1820.26 1463.74 Q1817.44 1466.24 1812.31 1466.24 Q1810.54 1466.24 1808.7 1465.94 Q1806.87 1465.64 1804.91 1465.04 L1804.91 1461.22 Q1806.61 1462.14 1808.41 1462.59 Q1810.22 1463.04 1812.23 1463.04 Q1815.48 1463.04 1817.38 1461.33 Q1819.28 1459.62 1819.28 1456.68 Q1819.28 1453.75 1817.38 1452.04 Q1815.48 1450.33 1812.23 1450.33 Q1810.71 1450.33 1809.18 1450.67 Q1807.68 1451 1806.1 1451.72 L1806.1 1437.61 Z\" fill=\"#000000\" fill-rule=\"evenodd\" fill-opacity=\"1\" /><path clip-path=\"url(#clip160)\" d=\"M2090.38 1489.17 L2098.02 1489.17 L2098.02 1462.8 L2089.71 1464.47 L2089.71 1460.21 L2097.98 1458.54 L2102.65 1458.54 L2102.65 1489.17 L2110.29 1489.17 L2110.29 1493.1 L2090.38 1493.1 L2090.38 1489.17 Z\" fill=\"#000000\" fill-rule=\"evenodd\" fill-opacity=\"1\" /><path clip-path=\"url(#clip160)\" d=\"M2119.74 1487.22 L2124.62 1487.22 L2124.62 1493.1 L2119.74 1493.1 L2119.74 1487.22 Z\" fill=\"#000000\" fill-rule=\"evenodd\" fill-opacity=\"1\" /><path clip-path=\"url(#clip160)\" d=\"M2144.81 1461.62 Q2141.19 1461.62 2139.37 1465.19 Q2137.56 1468.73 2137.56 1475.86 Q2137.56 1482.97 2139.37 1486.53 Q2141.19 1490.07 2144.81 1490.07 Q2148.44 1490.07 2150.25 1486.53 Q2152.07 1482.97 2152.07 1475.86 Q2152.07 1468.73 2150.25 1465.19 Q2148.44 1461.62 2144.81 1461.62 M2144.81 1457.92 Q2150.62 1457.92 2153.67 1462.53 Q2156.75 1467.11 2156.75 1475.86 Q2156.75 1484.59 2153.67 1489.19 Q2150.62 1493.78 2144.81 1493.78 Q2139 1493.78 2135.92 1489.19 Q2132.86 1484.59 2132.86 1475.86 Q2132.86 1467.11 2135.92 1462.53 Q2139 1457.92 2144.81 1457.92 Z\" fill=\"#000000\" fill-rule=\"evenodd\" fill-opacity=\"1\" /><path clip-path=\"url(#clip160)\" d=\"M2174.97 1461.62 Q2171.36 1461.62 2169.53 1465.19 Q2167.72 1468.73 2167.72 1475.86 Q2167.72 1482.97 2169.53 1486.53 Q2171.36 1490.07 2174.97 1490.07 Q2178.6 1490.07 2180.41 1486.53 Q2182.24 1482.97 2182.24 1475.86 Q2182.24 1468.73 2180.41 1465.19 Q2178.6 1461.62 2174.97 1461.62 M2174.97 1457.92 Q2180.78 1457.92 2183.83 1462.53 Q2186.91 1467.11 2186.91 1475.86 Q2186.91 1484.59 2183.83 1489.19 Q2180.78 1493.78 2174.97 1493.78 Q2169.16 1493.78 2166.08 1489.19 Q2163.02 1484.59 2163.02 1475.86 Q2163.02 1467.11 2166.08 1462.53 Q2169.16 1457.92 2174.97 1457.92 Z\" fill=\"#000000\" fill-rule=\"evenodd\" fill-opacity=\"1\" /><path clip-path=\"url(#clip160)\" d=\"M2223.3 1467.64 L2212.72 1478.27 L2223.3 1488.84 L2220.55 1491.65 L2209.92 1481.02 L2199.3 1491.65 L2196.56 1488.84 L2207.12 1478.27 L2196.56 1467.64 L2199.3 1464.84 L2209.92 1475.47 L2220.55 1464.84 L2223.3 1467.64 Z\" fill=\"#000000\" fill-rule=\"evenodd\" fill-opacity=\"1\" /><path clip-path=\"url(#clip160)\" d=\"M2235.66 1489.17 L2243.3 1489.17 L2243.3 1462.8 L2234.99 1464.47 L2234.99 1460.21 L2243.25 1458.54 L2247.93 1458.54 L2247.93 1489.17 L2255.57 1489.17 L2255.57 1493.1 L2235.66 1493.1 L2235.66 1489.17 Z\" fill=\"#000000\" fill-rule=\"evenodd\" fill-opacity=\"1\" /><path clip-path=\"url(#clip160)\" d=\"M2275.01 1461.62 Q2271.4 1461.62 2269.57 1465.19 Q2267.77 1468.73 2267.77 1475.86 Q2267.77 1482.97 2269.57 1486.53 Q2271.4 1490.07 2275.01 1490.07 Q2278.65 1490.07 2280.45 1486.53 Q2282.28 1482.97 2282.28 1475.86 Q2282.28 1468.73 2280.45 1465.19 Q2278.65 1461.62 2275.01 1461.62 M2275.01 1457.92 Q2280.82 1457.92 2283.88 1462.53 Q2286.96 1467.11 2286.96 1475.86 Q2286.96 1484.59 2283.88 1489.19 Q2280.82 1493.78 2275.01 1493.78 Q2269.2 1493.78 2266.12 1489.19 Q2263.07 1484.59 2263.07 1475.86 Q2263.07 1467.11 2266.12 1462.53 Q2269.2 1457.92 2275.01 1457.92 Z\" fill=\"#000000\" fill-rule=\"evenodd\" fill-opacity=\"1\" /><path clip-path=\"url(#clip160)\" d=\"M2296.98 1450.14 Q2294.42 1450.14 2292.92 1451.89 Q2291.43 1453.64 2291.43 1456.68 Q2291.43 1459.71 2292.92 1461.48 Q2294.42 1463.23 2296.98 1463.23 Q2299.54 1463.23 2301.03 1461.48 Q2302.53 1459.71 2302.53 1456.68 Q2302.53 1453.64 2301.03 1451.89 Q2299.54 1450.14 2296.98 1450.14 M2304.52 1438.23 L2304.52 1441.69 Q2303.09 1441.02 2301.63 1440.66 Q2300.18 1440.3 2298.75 1440.3 Q2294.99 1440.3 2293 1442.84 Q2291.02 1445.38 2290.74 1450.52 Q2291.85 1448.88 2293.52 1448.01 Q2295.2 1447.13 2297.21 1447.13 Q2301.44 1447.13 2303.88 1449.71 Q2306.35 1452.26 2306.35 1456.68 Q2306.35 1461.01 2303.79 1463.62 Q2301.23 1466.24 2296.98 1466.24 Q2292.11 1466.24 2289.53 1462.51 Q2286.96 1458.77 2286.96 1451.68 Q2286.96 1445.02 2290.12 1441.07 Q2293.28 1437.11 2298.6 1437.11 Q2300.03 1437.11 2301.48 1437.39 Q2302.94 1437.67 2304.52 1438.23 Z\" fill=\"#000000\" fill-rule=\"evenodd\" fill-opacity=\"1\" /><path clip-path=\"url(#clip160)\" d=\"M1293.29 1552.67 L1293.29 1574.19 L1287.43 1574.19 L1287.43 1552.86 Q1287.43 1547.8 1285.46 1545.29 Q1283.48 1542.77 1279.54 1542.77 Q1274.79 1542.77 1272.06 1545.79 Q1269.32 1548.82 1269.32 1554.04 L1269.32 1574.19 L1263.43 1574.19 L1263.43 1538.54 L1269.32 1538.54 L1269.32 1544.08 Q1271.42 1540.86 1274.25 1539.27 Q1277.12 1537.68 1280.84 1537.68 Q1286.99 1537.68 1290.14 1541.5 Q1293.29 1545.29 1293.29 1552.67 Z\" fill=\"#000000\" fill-rule=\"evenodd\" fill-opacity=\"1\" /><polyline clip-path=\"url(#clip162)\" style=\"stroke:#000000; stroke-linecap:butt; stroke-linejoin:round; stroke-width:2; stroke-opacity:0.1; fill:none\" points=\"\n",
       "  203.964,1134.91 2352.76,1134.91 \n",
       "  \"/>\n",
       "<polyline clip-path=\"url(#clip162)\" style=\"stroke:#000000; stroke-linecap:butt; stroke-linejoin:round; stroke-width:2; stroke-opacity:0.1; fill:none\" points=\"\n",
       "  203.964,791.85 2352.76,791.85 \n",
       "  \"/>\n",
       "<polyline clip-path=\"url(#clip162)\" style=\"stroke:#000000; stroke-linecap:butt; stroke-linejoin:round; stroke-width:2; stroke-opacity:0.1; fill:none\" points=\"\n",
       "  203.964,448.793 2352.76,448.793 \n",
       "  \"/>\n",
       "<polyline clip-path=\"url(#clip162)\" style=\"stroke:#000000; stroke-linecap:butt; stroke-linejoin:round; stroke-width:2; stroke-opacity:0.1; fill:none\" points=\"\n",
       "  203.964,105.735 2352.76,105.735 \n",
       "  \"/>\n",
       "<polyline clip-path=\"url(#clip160)\" style=\"stroke:#000000; stroke-linecap:butt; stroke-linejoin:round; stroke-width:4; stroke-opacity:1; fill:none\" points=\"\n",
       "  203.964,1410.9 203.964,47.2441 \n",
       "  \"/>\n",
       "<polyline clip-path=\"url(#clip160)\" style=\"stroke:#000000; stroke-linecap:butt; stroke-linejoin:round; stroke-width:4; stroke-opacity:1; fill:none\" points=\"\n",
       "  203.964,1134.91 222.861,1134.91 \n",
       "  \"/>\n",
       "<polyline clip-path=\"url(#clip160)\" style=\"stroke:#000000; stroke-linecap:butt; stroke-linejoin:round; stroke-width:4; stroke-opacity:1; fill:none\" points=\"\n",
       "  203.964,791.85 222.861,791.85 \n",
       "  \"/>\n",
       "<polyline clip-path=\"url(#clip160)\" style=\"stroke:#000000; stroke-linecap:butt; stroke-linejoin:round; stroke-width:4; stroke-opacity:1; fill:none\" points=\"\n",
       "  203.964,448.793 222.861,448.793 \n",
       "  \"/>\n",
       "<polyline clip-path=\"url(#clip160)\" style=\"stroke:#000000; stroke-linecap:butt; stroke-linejoin:round; stroke-width:4; stroke-opacity:1; fill:none\" points=\"\n",
       "  203.964,105.735 222.861,105.735 \n",
       "  \"/>\n",
       "<path clip-path=\"url(#clip160)\" d=\"M147.061 1117.63 L165.417 1117.63 L165.417 1121.56 L151.343 1121.56 L151.343 1130.03 Q152.362 1129.69 153.38 1129.53 Q154.399 1129.34 155.417 1129.34 Q161.204 1129.34 164.584 1132.51 Q167.964 1135.68 167.964 1141.1 Q167.964 1146.68 164.491 1149.78 Q161.019 1152.86 154.7 1152.86 Q152.524 1152.86 150.255 1152.49 Q148.01 1152.12 145.603 1151.38 L145.603 1146.68 Q147.686 1147.81 149.908 1148.37 Q152.13 1148.92 154.607 1148.92 Q158.612 1148.92 160.95 1146.82 Q163.288 1144.71 163.288 1141.1 Q163.288 1137.49 160.95 1135.38 Q158.612 1133.28 154.607 1133.28 Q152.732 1133.28 150.857 1133.69 Q149.005 1134.11 147.061 1134.99 L147.061 1117.63 Z\" fill=\"#000000\" fill-rule=\"evenodd\" fill-opacity=\"1\" /><path clip-path=\"url(#clip160)\" d=\"M116.668 805.195 L124.306 805.195 L124.306 778.829 L115.996 780.496 L115.996 776.237 L124.26 774.57 L128.936 774.57 L128.936 805.195 L136.575 805.195 L136.575 809.13 L116.668 809.13 L116.668 805.195 Z\" fill=\"#000000\" fill-rule=\"evenodd\" fill-opacity=\"1\" /><path clip-path=\"url(#clip160)\" d=\"M156.019 777.649 Q152.408 777.649 150.579 781.213 Q148.774 784.755 148.774 791.885 Q148.774 798.991 150.579 802.556 Q152.408 806.097 156.019 806.097 Q159.653 806.097 161.459 802.556 Q163.288 798.991 163.288 791.885 Q163.288 784.755 161.459 781.213 Q159.653 777.649 156.019 777.649 M156.019 773.945 Q161.829 773.945 164.885 778.551 Q167.964 783.135 167.964 791.885 Q167.964 800.611 164.885 805.218 Q161.829 809.801 156.019 809.801 Q150.209 809.801 147.13 805.218 Q144.075 800.611 144.075 791.885 Q144.075 783.135 147.13 778.551 Q150.209 773.945 156.019 773.945 Z\" fill=\"#000000\" fill-rule=\"evenodd\" fill-opacity=\"1\" /><path clip-path=\"url(#clip160)\" d=\"M117.663 462.137 L125.302 462.137 L125.302 435.772 L116.992 437.438 L116.992 433.179 L125.255 431.513 L129.931 431.513 L129.931 462.137 L137.57 462.137 L137.57 466.073 L117.663 466.073 L117.663 462.137 Z\" fill=\"#000000\" fill-rule=\"evenodd\" fill-opacity=\"1\" /><path clip-path=\"url(#clip160)\" d=\"M147.061 431.513 L165.417 431.513 L165.417 435.448 L151.343 435.448 L151.343 443.92 Q152.362 443.573 153.38 443.411 Q154.399 443.225 155.417 443.225 Q161.204 443.225 164.584 446.397 Q167.964 449.568 167.964 454.985 Q167.964 460.563 164.491 463.665 Q161.019 466.744 154.7 466.744 Q152.524 466.744 150.255 466.374 Q148.01 466.003 145.603 465.262 L145.603 460.563 Q147.686 461.698 149.908 462.253 Q152.13 462.809 154.607 462.809 Q158.612 462.809 160.95 460.702 Q163.288 458.596 163.288 454.985 Q163.288 451.374 160.95 449.267 Q158.612 447.161 154.607 447.161 Q152.732 447.161 150.857 447.577 Q149.005 447.994 147.061 448.874 L147.061 431.513 Z\" fill=\"#000000\" fill-rule=\"evenodd\" fill-opacity=\"1\" /><path clip-path=\"url(#clip160)\" d=\"M119.885 119.08 L136.204 119.08 L136.204 123.015 L114.26 123.015 L114.26 119.08 Q116.922 116.326 121.505 111.696 Q126.112 107.043 127.292 105.701 Q129.538 103.177 130.417 101.441 Q131.32 99.6821 131.32 97.9923 Q131.32 95.2377 129.376 93.5016 Q127.455 91.7655 124.353 91.7655 Q122.154 91.7655 119.7 92.5294 Q117.269 93.2933 114.492 94.8442 L114.492 90.122 Q117.316 88.9878 119.769 88.4091 Q122.223 87.8304 124.26 87.8304 Q129.63 87.8304 132.825 90.5155 Q136.019 93.2007 136.019 97.6914 Q136.019 99.821 135.209 101.742 Q134.422 103.64 132.316 106.233 Q131.737 106.904 128.635 110.122 Q125.533 113.316 119.885 119.08 Z\" fill=\"#000000\" fill-rule=\"evenodd\" fill-opacity=\"1\" /><path clip-path=\"url(#clip160)\" d=\"M156.019 91.534 Q152.408 91.534 150.579 95.0988 Q148.774 98.6405 148.774 105.77 Q148.774 112.877 150.579 116.441 Q152.408 119.983 156.019 119.983 Q159.653 119.983 161.459 116.441 Q163.288 112.877 163.288 105.77 Q163.288 98.6405 161.459 95.0988 Q159.653 91.534 156.019 91.534 M156.019 87.8304 Q161.829 87.8304 164.885 92.4368 Q167.964 97.0201 167.964 105.77 Q167.964 114.497 164.885 119.103 Q161.829 123.687 156.019 123.687 Q150.209 123.687 147.13 119.103 Q144.075 114.497 144.075 105.77 Q144.075 97.0201 147.13 92.4368 Q150.209 87.8304 156.019 87.8304 Z\" fill=\"#000000\" fill-rule=\"evenodd\" fill-opacity=\"1\" /><path clip-path=\"url(#clip160)\" d=\"M35.1993 787.794 Q31.2526 785.598 29.3747 782.542 Q27.4968 779.487 27.4968 775.349 Q27.4968 769.779 31.4117 766.755 Q35.2948 763.732 42.4881 763.732 L64.0042 763.732 L64.0042 769.62 L42.679 769.62 Q37.5546 769.62 35.072 771.434 Q32.5894 773.248 32.5894 776.972 Q32.5894 781.524 35.6131 784.166 Q38.6368 786.807 43.8567 786.807 L64.0042 786.807 L64.0042 792.696 L42.679 792.696 Q37.5228 792.696 35.072 794.51 Q32.5894 796.324 32.5894 800.112 Q32.5894 804.599 35.6449 807.241 Q38.6686 809.883 43.8567 809.883 L64.0042 809.883 L64.0042 815.771 L28.3562 815.771 L28.3562 809.883 L33.8944 809.883 Q30.616 807.878 29.0564 805.077 Q27.4968 802.276 27.4968 798.425 Q27.4968 794.542 29.4702 791.836 Q31.4436 789.099 35.1993 787.794 Z\" fill=\"#000000\" fill-rule=\"evenodd\" fill-opacity=\"1\" /><path clip-path=\"url(#clip160)\" d=\"M44.7161 721.559 L47.5806 721.559 L47.5806 748.486 Q53.6281 748.104 56.8109 744.857 Q59.9619 741.579 59.9619 735.754 Q59.9619 732.381 59.1344 729.23 Q58.3069 726.047 56.6518 722.927 L62.1899 722.927 Q63.5267 726.078 64.227 729.389 Q64.9272 732.699 64.9272 736.104 Q64.9272 744.635 59.9619 749.632 Q54.9967 754.597 46.5303 754.597 Q37.7774 754.597 32.6531 749.886 Q27.4968 745.144 27.4968 737.123 Q27.4968 729.93 32.1438 725.76 Q36.7589 721.559 44.7161 721.559 M42.9973 727.415 Q38.1912 727.479 35.3266 730.121 Q32.4621 732.731 32.4621 737.059 Q32.4621 741.961 35.2312 744.921 Q38.0002 747.849 43.0292 748.295 L42.9973 727.415 Z\" fill=\"#000000\" fill-rule=\"evenodd\" fill-opacity=\"1\" /><path clip-path=\"url(#clip160)\" d=\"M46.0847 695.746 Q46.0847 702.844 47.7079 705.581 Q49.3312 708.318 53.2461 708.318 Q56.3653 708.318 58.2114 706.281 Q60.0256 704.212 60.0256 700.679 Q60.0256 695.81 56.5881 692.881 Q53.1188 689.921 47.3897 689.921 L46.0847 689.921 L46.0847 695.746 M43.6657 684.065 L64.0042 684.065 L64.0042 689.921 L58.5933 689.921 Q61.8398 691.926 63.3994 694.918 Q64.9272 697.91 64.9272 702.239 Q64.9272 707.713 61.8716 710.96 Q58.7843 714.175 53.6281 714.175 Q47.6125 714.175 44.5569 710.164 Q41.5014 706.122 41.5014 698.133 L41.5014 689.921 L40.9285 689.921 Q36.8862 689.921 34.6901 692.595 Q32.4621 695.237 32.4621 700.043 Q32.4621 703.098 33.1941 705.995 Q33.9262 708.891 35.3903 711.565 L29.9795 711.565 Q28.7381 708.35 28.1334 705.326 Q27.4968 702.303 27.4968 699.438 Q27.4968 691.704 31.5072 687.884 Q35.5176 684.065 43.6657 684.065 Z\" fill=\"#000000\" fill-rule=\"evenodd\" fill-opacity=\"1\" /><path clip-path=\"url(#clip160)\" d=\"M42.4881 642.369 L64.0042 642.369 L64.0042 648.226 L42.679 648.226 Q37.6183 648.226 35.1038 650.199 Q32.5894 652.173 32.5894 656.119 Q32.5894 660.862 35.6131 663.599 Q38.6368 666.336 43.8567 666.336 L64.0042 666.336 L64.0042 672.225 L28.3562 672.225 L28.3562 666.336 L33.8944 666.336 Q30.6797 664.236 29.0883 661.403 Q27.4968 658.538 27.4968 654.814 Q27.4968 648.671 31.3163 645.52 Q35.1038 642.369 42.4881 642.369 Z\" fill=\"#000000\" fill-rule=\"evenodd\" fill-opacity=\"1\" /><polyline clip-path=\"url(#clip162)\" style=\"stroke:#009af9; stroke-linecap:butt; stroke-linejoin:round; stroke-width:4; stroke-opacity:1; fill:none\" points=\"\n",
       "  264.778,1372.3 264.782,1324.27 264.79,1263.9 264.806,1176.07 264.836,1116.38 264.898,1024.44 265.022,974.356 265.269,909.175 265.764,854.972 266.754,790.478 \n",
       "  268.734,690.305 272.693,633.357 280.612,548.965 296.449,489.959 328.124,433.012 391.472,349.992 518.17,308.139 771.566,221.689 1278.36,162.683 2291.94,85.838 \n",
       "  \n",
       "  \"/>\n",
       "<circle clip-path=\"url(#clip162)\" cx=\"264.778\" cy=\"1372.3\" r=\"14\" fill=\"#009af9\" fill-rule=\"evenodd\" fill-opacity=\"1\" stroke=\"#000000\" stroke-opacity=\"1\" stroke-width=\"3.2\"/>\n",
       "<circle clip-path=\"url(#clip162)\" cx=\"264.782\" cy=\"1324.27\" r=\"14\" fill=\"#009af9\" fill-rule=\"evenodd\" fill-opacity=\"1\" stroke=\"#000000\" stroke-opacity=\"1\" stroke-width=\"3.2\"/>\n",
       "<circle clip-path=\"url(#clip162)\" cx=\"264.79\" cy=\"1263.9\" r=\"14\" fill=\"#009af9\" fill-rule=\"evenodd\" fill-opacity=\"1\" stroke=\"#000000\" stroke-opacity=\"1\" stroke-width=\"3.2\"/>\n",
       "<circle clip-path=\"url(#clip162)\" cx=\"264.806\" cy=\"1176.07\" r=\"14\" fill=\"#009af9\" fill-rule=\"evenodd\" fill-opacity=\"1\" stroke=\"#000000\" stroke-opacity=\"1\" stroke-width=\"3.2\"/>\n",
       "<circle clip-path=\"url(#clip162)\" cx=\"264.836\" cy=\"1116.38\" r=\"14\" fill=\"#009af9\" fill-rule=\"evenodd\" fill-opacity=\"1\" stroke=\"#000000\" stroke-opacity=\"1\" stroke-width=\"3.2\"/>\n",
       "<circle clip-path=\"url(#clip162)\" cx=\"264.898\" cy=\"1024.44\" r=\"14\" fill=\"#009af9\" fill-rule=\"evenodd\" fill-opacity=\"1\" stroke=\"#000000\" stroke-opacity=\"1\" stroke-width=\"3.2\"/>\n",
       "<circle clip-path=\"url(#clip162)\" cx=\"265.022\" cy=\"974.356\" r=\"14\" fill=\"#009af9\" fill-rule=\"evenodd\" fill-opacity=\"1\" stroke=\"#000000\" stroke-opacity=\"1\" stroke-width=\"3.2\"/>\n",
       "<circle clip-path=\"url(#clip162)\" cx=\"265.269\" cy=\"909.175\" r=\"14\" fill=\"#009af9\" fill-rule=\"evenodd\" fill-opacity=\"1\" stroke=\"#000000\" stroke-opacity=\"1\" stroke-width=\"3.2\"/>\n",
       "<circle clip-path=\"url(#clip162)\" cx=\"265.764\" cy=\"854.972\" r=\"14\" fill=\"#009af9\" fill-rule=\"evenodd\" fill-opacity=\"1\" stroke=\"#000000\" stroke-opacity=\"1\" stroke-width=\"3.2\"/>\n",
       "<circle clip-path=\"url(#clip162)\" cx=\"266.754\" cy=\"790.478\" r=\"14\" fill=\"#009af9\" fill-rule=\"evenodd\" fill-opacity=\"1\" stroke=\"#000000\" stroke-opacity=\"1\" stroke-width=\"3.2\"/>\n",
       "<circle clip-path=\"url(#clip162)\" cx=\"268.734\" cy=\"690.305\" r=\"14\" fill=\"#009af9\" fill-rule=\"evenodd\" fill-opacity=\"1\" stroke=\"#000000\" stroke-opacity=\"1\" stroke-width=\"3.2\"/>\n",
       "<circle clip-path=\"url(#clip162)\" cx=\"272.693\" cy=\"633.357\" r=\"14\" fill=\"#009af9\" fill-rule=\"evenodd\" fill-opacity=\"1\" stroke=\"#000000\" stroke-opacity=\"1\" stroke-width=\"3.2\"/>\n",
       "<circle clip-path=\"url(#clip162)\" cx=\"280.612\" cy=\"548.965\" r=\"14\" fill=\"#009af9\" fill-rule=\"evenodd\" fill-opacity=\"1\" stroke=\"#000000\" stroke-opacity=\"1\" stroke-width=\"3.2\"/>\n",
       "<circle clip-path=\"url(#clip162)\" cx=\"296.449\" cy=\"489.959\" r=\"14\" fill=\"#009af9\" fill-rule=\"evenodd\" fill-opacity=\"1\" stroke=\"#000000\" stroke-opacity=\"1\" stroke-width=\"3.2\"/>\n",
       "<circle clip-path=\"url(#clip162)\" cx=\"328.124\" cy=\"433.012\" r=\"14\" fill=\"#009af9\" fill-rule=\"evenodd\" fill-opacity=\"1\" stroke=\"#000000\" stroke-opacity=\"1\" stroke-width=\"3.2\"/>\n",
       "<circle clip-path=\"url(#clip162)\" cx=\"391.472\" cy=\"349.992\" r=\"14\" fill=\"#009af9\" fill-rule=\"evenodd\" fill-opacity=\"1\" stroke=\"#000000\" stroke-opacity=\"1\" stroke-width=\"3.2\"/>\n",
       "<circle clip-path=\"url(#clip162)\" cx=\"518.17\" cy=\"308.139\" r=\"14\" fill=\"#009af9\" fill-rule=\"evenodd\" fill-opacity=\"1\" stroke=\"#000000\" stroke-opacity=\"1\" stroke-width=\"3.2\"/>\n",
       "<circle clip-path=\"url(#clip162)\" cx=\"771.566\" cy=\"221.689\" r=\"14\" fill=\"#009af9\" fill-rule=\"evenodd\" fill-opacity=\"1\" stroke=\"#000000\" stroke-opacity=\"1\" stroke-width=\"3.2\"/>\n",
       "<circle clip-path=\"url(#clip162)\" cx=\"1278.36\" cy=\"162.683\" r=\"14\" fill=\"#009af9\" fill-rule=\"evenodd\" fill-opacity=\"1\" stroke=\"#000000\" stroke-opacity=\"1\" stroke-width=\"3.2\"/>\n",
       "<circle clip-path=\"url(#clip162)\" cx=\"2291.94\" cy=\"85.838\" r=\"14\" fill=\"#009af9\" fill-rule=\"evenodd\" fill-opacity=\"1\" stroke=\"#000000\" stroke-opacity=\"1\" stroke-width=\"3.2\"/>\n",
       "</svg>\n"
      ]
     },
     "execution_count": 46,
     "metadata": {},
     "output_type": "execute_result"
    }
   ],
   "source": [
    "#Note that you can also do: mean(results3,dims=2)\n",
    "means3 = [mean(results3[k,:]) for k in 1:(size(results3)[1]) ];\n",
    "plot(2 .^(1:20),means3,label=false,xlabel=\"n\",ylabel=\"mean\",shape=:circle)"
   ]
  },
  {
   "cell_type": "code",
   "execution_count": 47,
   "metadata": {},
   "outputs": [],
   "source": [
    "function compute_results_v4(max_k;N = 10^2)\n",
    "    Random.seed!(0)\n",
    "    results = Dict{Int,Vector{Int}}() #Maps from n to the observations\n",
    "    for k in 1:max_k\n",
    "        n = 2^k\n",
    "        results_for_k = Vector{Int64}(undef,N)\n",
    "        for i in 1:N\n",
    "            a = rand([\"a\",\"b\"],n)\n",
    "            results_for_k[i] = longest_streak(a) #puts value in the dictionary\n",
    "        end\n",
    "        results[n] = results_for_k  #notice that the key is n\n",
    "    end\n",
    "    return results\n",
    "end;"
   ]
  },
  {
   "cell_type": "code",
   "execution_count": 48,
   "metadata": {},
   "outputs": [
    {
     "data": {
      "text/plain": [
       "Dict{Int64, Vector{Int64}} with 20 entries:\n",
       "  16      => [3, 4, 7, 6, 4, 3, 3, 2, 5, 4  …  8, 3, 4, 3, 3, 7, 3, 5, 2, 4]\n",
       "  8       => [4, 2, 4, 4, 3, 3, 3, 2, 3, 4  …  2, 3, 4, 3, 2, 3, 2, 2, 2, 4]\n",
       "  4096    => [12, 12, 12, 11, 10, 14, 12, 10, 14, 11  …  12, 12, 12, 13, 12, 12…\n",
       "  256     => [8, 8, 8, 8, 15, 7, 9, 9, 8, 9  …  11, 9, 7, 10, 12, 6, 15, 7, 6, …\n",
       "  32      => [3, 4, 5, 4, 5, 5, 5, 6, 10, 7  …  5, 4, 5, 5, 3, 5, 6, 6, 4, 5]\n",
       "  1024    => [12, 8, 10, 8, 12, 7, 13, 9, 8, 10  …  7, 11, 10, 9, 13, 9, 8, 11,…\n",
       "  1048576 => [22, 19, 21, 17, 18, 21, 18, 21, 22, 19  …  20, 25, 20, 22, 18, 22…\n",
       "  8192    => [14, 18, 12, 13, 15, 12, 11, 11, 16, 12  …  16, 15, 12, 15, 14, 20…\n",
       "  512     => [6, 12, 12, 7, 11, 8, 9, 8, 8, 10  …  7, 7, 9, 7, 10, 9, 9, 8, 9, …\n",
       "  64      => [7, 11, 7, 7, 6, 9, 6, 6, 5, 5  …  8, 5, 7, 5, 7, 8, 5, 7, 7, 5]\n",
       "  2048    => [9, 10, 11, 11, 11, 9, 10, 10, 13, 14  …  14, 11, 16, 14, 12, 11, …\n",
       "  524288  => [16, 18, 20, 19, 19, 17, 24, 18, 18, 20  …  23, 17, 17, 20, 18, 21…\n",
       "  128     => [7, 6, 6, 5, 6, 10, 9, 8, 6, 5  …  5, 13, 5, 5, 5, 5, 8, 6, 7, 10]\n",
       "  16384   => [13, 12, 13, 13, 14, 13, 18, 18, 13, 11  …  17, 16, 15, 15, 17, 13…\n",
       "  32768   => [16, 15, 16, 15, 17, 14, 15, 13, 16, 17  …  19, 17, 14, 17, 13, 16…\n",
       "  4       => [2, 2, 3, 2, 1, 2, 4, 3, 2, 2  …  2, 3, 2, 2, 2, 2, 1, 3, 2, 2]\n",
       "  65536   => [19, 17, 15, 16, 14, 16, 16, 18, 15, 17  …  17, 18, 20, 17, 14, 16…\n",
       "  2       => [1, 1, 1, 1, 1, 1, 1, 2, 1, 2  …  2, 2, 1, 1, 1, 2, 1, 2, 1, 2]\n",
       "  262144  => [18, 17, 17, 18, 20, 20, 17, 17, 21, 20  …  19, 17, 19, 21, 17, 16…\n",
       "  131072  => [17, 19, 16, 16, 18, 18, 16, 16, 19, 16  …  14, 15, 18, 17, 17, 17…"
      ]
     },
     "execution_count": 48,
     "metadata": {},
     "output_type": "execute_result"
    }
   ],
   "source": [
    "results4 = compute_results_v4(20)"
   ]
  },
  {
   "cell_type": "code",
   "execution_count": 49,
   "metadata": {},
   "outputs": [
    {
     "data": {
      "image/svg+xml": [
       "<?xml version=\"1.0\" encoding=\"utf-8\"?>\n",
       "<svg xmlns=\"http://www.w3.org/2000/svg\" xmlns:xlink=\"http://www.w3.org/1999/xlink\" width=\"600\" height=\"400\" viewBox=\"0 0 2400 1600\">\n",
       "<defs>\n",
       "  <clipPath id=\"clip200\">\n",
       "    <rect x=\"0\" y=\"0\" width=\"2400\" height=\"1600\"/>\n",
       "  </clipPath>\n",
       "</defs>\n",
       "<path clip-path=\"url(#clip200)\" d=\"\n",
       "M0 1600 L2400 1600 L2400 0 L0 0  Z\n",
       "  \" fill=\"#ffffff\" fill-rule=\"evenodd\" fill-opacity=\"1\"/>\n",
       "<defs>\n",
       "  <clipPath id=\"clip201\">\n",
       "    <rect x=\"480\" y=\"0\" width=\"1681\" height=\"1600\"/>\n",
       "  </clipPath>\n",
       "</defs>\n",
       "<path clip-path=\"url(#clip200)\" d=\"\n",
       "M203.964 1410.9 L2352.76 1410.9 L2352.76 47.2441 L203.964 47.2441  Z\n",
       "  \" fill=\"#ffffff\" fill-rule=\"evenodd\" fill-opacity=\"1\"/>\n",
       "<defs>\n",
       "  <clipPath id=\"clip202\">\n",
       "    <rect x=\"203\" y=\"47\" width=\"2150\" height=\"1365\"/>\n",
       "  </clipPath>\n",
       "</defs>\n",
       "<polyline clip-path=\"url(#clip202)\" style=\"stroke:#000000; stroke-linecap:butt; stroke-linejoin:round; stroke-width:2; stroke-opacity:0.1; fill:none\" points=\"\n",
       "  264.775,1410.9 264.775,47.2441 \n",
       "  \"/>\n",
       "<polyline clip-path=\"url(#clip202)\" style=\"stroke:#000000; stroke-linecap:butt; stroke-linejoin:round; stroke-width:2; stroke-opacity:0.1; fill:none\" points=\"\n",
       "  748.089,1410.9 748.089,47.2441 \n",
       "  \"/>\n",
       "<polyline clip-path=\"url(#clip202)\" style=\"stroke:#000000; stroke-linecap:butt; stroke-linejoin:round; stroke-width:2; stroke-opacity:0.1; fill:none\" points=\"\n",
       "  1231.4,1410.9 1231.4,47.2441 \n",
       "  \"/>\n",
       "<polyline clip-path=\"url(#clip202)\" style=\"stroke:#000000; stroke-linecap:butt; stroke-linejoin:round; stroke-width:2; stroke-opacity:0.1; fill:none\" points=\"\n",
       "  1714.72,1410.9 1714.72,47.2441 \n",
       "  \"/>\n",
       "<polyline clip-path=\"url(#clip202)\" style=\"stroke:#000000; stroke-linecap:butt; stroke-linejoin:round; stroke-width:2; stroke-opacity:0.1; fill:none\" points=\"\n",
       "  2198.03,1410.9 2198.03,47.2441 \n",
       "  \"/>\n",
       "<polyline clip-path=\"url(#clip200)\" style=\"stroke:#000000; stroke-linecap:butt; stroke-linejoin:round; stroke-width:4; stroke-opacity:1; fill:none\" points=\"\n",
       "  203.964,1410.9 2352.76,1410.9 \n",
       "  \"/>\n",
       "<polyline clip-path=\"url(#clip200)\" style=\"stroke:#000000; stroke-linecap:butt; stroke-linejoin:round; stroke-width:4; stroke-opacity:1; fill:none\" points=\"\n",
       "  264.775,1410.9 264.775,1392 \n",
       "  \"/>\n",
       "<polyline clip-path=\"url(#clip200)\" style=\"stroke:#000000; stroke-linecap:butt; stroke-linejoin:round; stroke-width:4; stroke-opacity:1; fill:none\" points=\"\n",
       "  748.089,1410.9 748.089,1392 \n",
       "  \"/>\n",
       "<polyline clip-path=\"url(#clip200)\" style=\"stroke:#000000; stroke-linecap:butt; stroke-linejoin:round; stroke-width:4; stroke-opacity:1; fill:none\" points=\"\n",
       "  1231.4,1410.9 1231.4,1392 \n",
       "  \"/>\n",
       "<polyline clip-path=\"url(#clip200)\" style=\"stroke:#000000; stroke-linecap:butt; stroke-linejoin:round; stroke-width:4; stroke-opacity:1; fill:none\" points=\"\n",
       "  1714.72,1410.9 1714.72,1392 \n",
       "  \"/>\n",
       "<polyline clip-path=\"url(#clip200)\" style=\"stroke:#000000; stroke-linecap:butt; stroke-linejoin:round; stroke-width:4; stroke-opacity:1; fill:none\" points=\"\n",
       "  2198.03,1410.9 2198.03,1392 \n",
       "  \"/>\n",
       "<path clip-path=\"url(#clip200)\" d=\"M264.775 1440.09 Q261.163 1440.09 259.335 1443.65 Q257.529 1447.19 257.529 1454.32 Q257.529 1461.43 259.335 1464.99 Q261.163 1468.54 264.775 1468.54 Q268.409 1468.54 270.214 1464.99 Q272.043 1461.43 272.043 1454.32 Q272.043 1447.19 270.214 1443.65 Q268.409 1440.09 264.775 1440.09 M264.775 1436.38 Q270.585 1436.38 273.64 1440.99 Q276.719 1445.57 276.719 1454.32 Q276.719 1463.05 273.64 1467.66 Q270.585 1472.24 264.775 1472.24 Q258.964 1472.24 255.886 1467.66 Q252.83 1463.05 252.83 1454.32 Q252.83 1445.57 255.886 1440.99 Q258.964 1436.38 264.775 1436.38 Z\" fill=\"#000000\" fill-rule=\"evenodd\" fill-opacity=\"1\" /><path clip-path=\"url(#clip200)\" d=\"M645.139 1489.17 L661.459 1489.17 L661.459 1493.1 L639.514 1493.1 L639.514 1489.17 Q642.176 1486.41 646.76 1481.78 Q651.366 1477.13 652.547 1475.79 Q654.792 1473.27 655.672 1471.53 Q656.574 1469.77 656.574 1468.08 Q656.574 1465.33 654.63 1463.59 Q652.709 1461.85 649.607 1461.85 Q647.408 1461.85 644.954 1462.62 Q642.524 1463.38 639.746 1464.93 L639.746 1460.21 Q642.57 1459.08 645.024 1458.5 Q647.477 1457.92 649.514 1457.92 Q654.885 1457.92 658.079 1460.6 Q661.274 1463.29 661.274 1467.78 Q661.274 1469.91 660.463 1471.83 Q659.676 1473.73 657.57 1476.32 Q656.991 1476.99 653.889 1480.21 Q650.787 1483.4 645.139 1489.17 Z\" fill=\"#000000\" fill-rule=\"evenodd\" fill-opacity=\"1\" /><path clip-path=\"url(#clip200)\" d=\"M671.273 1487.22 L676.158 1487.22 L676.158 1493.1 L671.273 1493.1 L671.273 1487.22 Z\" fill=\"#000000\" fill-rule=\"evenodd\" fill-opacity=\"1\" /><path clip-path=\"url(#clip200)\" d=\"M686.389 1458.54 L704.745 1458.54 L704.745 1462.48 L690.672 1462.48 L690.672 1470.95 Q691.69 1470.6 692.709 1470.44 Q693.727 1470.26 694.746 1470.26 Q700.533 1470.26 703.912 1473.43 Q707.292 1476.6 707.292 1482.02 Q707.292 1487.59 703.82 1490.7 Q700.347 1493.78 694.028 1493.78 Q691.852 1493.78 689.584 1493.4 Q687.338 1493.03 684.931 1492.29 L684.931 1487.59 Q687.014 1488.73 689.236 1489.28 Q691.459 1489.84 693.935 1489.84 Q697.94 1489.84 700.278 1487.73 Q702.616 1485.63 702.616 1482.02 Q702.616 1478.4 700.278 1476.3 Q697.94 1474.19 693.935 1474.19 Q692.06 1474.19 690.185 1474.61 Q688.334 1475.03 686.389 1475.9 L686.389 1458.54 Z\" fill=\"#000000\" fill-rule=\"evenodd\" fill-opacity=\"1\" /><path clip-path=\"url(#clip200)\" d=\"M726.505 1461.62 Q722.894 1461.62 721.065 1465.19 Q719.259 1468.73 719.259 1475.86 Q719.259 1482.97 721.065 1486.53 Q722.894 1490.07 726.505 1490.07 Q730.139 1490.07 731.944 1486.53 Q733.773 1482.97 733.773 1475.86 Q733.773 1468.73 731.944 1465.19 Q730.139 1461.62 726.505 1461.62 M726.505 1457.92 Q732.315 1457.92 735.37 1462.53 Q738.449 1467.11 738.449 1475.86 Q738.449 1484.59 735.37 1489.19 Q732.315 1493.78 726.505 1493.78 Q720.694 1493.78 717.616 1489.19 Q714.56 1484.59 714.56 1475.86 Q714.56 1467.11 717.616 1462.53 Q720.694 1457.92 726.505 1457.92 Z\" fill=\"#000000\" fill-rule=\"evenodd\" fill-opacity=\"1\" /><path clip-path=\"url(#clip200)\" d=\"M774.838 1467.64 L764.259 1478.27 L774.838 1488.84 L772.083 1491.65 L761.458 1481.02 L750.833 1491.65 L748.102 1488.84 L758.657 1478.27 L748.102 1467.64 L750.833 1464.84 L761.458 1475.47 L772.083 1464.84 L774.838 1467.64 Z\" fill=\"#000000\" fill-rule=\"evenodd\" fill-opacity=\"1\" /><path clip-path=\"url(#clip200)\" d=\"M787.199 1489.17 L794.838 1489.17 L794.838 1462.8 L786.527 1464.47 L786.527 1460.21 L794.791 1458.54 L799.467 1458.54 L799.467 1489.17 L807.106 1489.17 L807.106 1493.1 L787.199 1493.1 L787.199 1489.17 Z\" fill=\"#000000\" fill-rule=\"evenodd\" fill-opacity=\"1\" /><path clip-path=\"url(#clip200)\" d=\"M826.55 1461.62 Q822.939 1461.62 821.111 1465.19 Q819.305 1468.73 819.305 1475.86 Q819.305 1482.97 821.111 1486.53 Q822.939 1490.07 826.55 1490.07 Q830.185 1490.07 831.99 1486.53 Q833.819 1482.97 833.819 1475.86 Q833.819 1468.73 831.99 1465.19 Q830.185 1461.62 826.55 1461.62 M826.55 1457.92 Q832.361 1457.92 835.416 1462.53 Q838.495 1467.11 838.495 1475.86 Q838.495 1484.59 835.416 1489.19 Q832.361 1493.78 826.55 1493.78 Q820.74 1493.78 817.662 1489.19 Q814.606 1484.59 814.606 1475.86 Q814.606 1467.11 817.662 1462.53 Q820.74 1457.92 826.55 1457.92 Z\" fill=\"#000000\" fill-rule=\"evenodd\" fill-opacity=\"1\" /><path clip-path=\"url(#clip200)\" d=\"M839.68 1437.61 L854.594 1437.61 L854.594 1440.81 L843.159 1440.81 L843.159 1447.69 Q843.987 1447.41 844.814 1447.28 Q845.642 1447.13 846.469 1447.13 Q851.171 1447.13 853.917 1449.71 Q856.663 1452.28 856.663 1456.68 Q856.663 1461.22 853.842 1463.74 Q851.021 1466.24 845.886 1466.24 Q844.118 1466.24 842.275 1465.94 Q840.451 1465.64 838.495 1465.04 L838.495 1461.22 Q840.187 1462.14 841.993 1462.59 Q843.799 1463.04 845.811 1463.04 Q849.065 1463.04 850.964 1461.33 Q852.864 1459.62 852.864 1456.68 Q852.864 1453.75 850.964 1452.04 Q849.065 1450.33 845.811 1450.33 Q844.288 1450.33 842.764 1450.67 Q841.26 1451 839.68 1451.72 L839.68 1437.61 Z\" fill=\"#000000\" fill-rule=\"evenodd\" fill-opacity=\"1\" /><path clip-path=\"url(#clip200)\" d=\"M1124.38 1458.54 L1142.74 1458.54 L1142.74 1462.48 L1128.66 1462.48 L1128.66 1470.95 Q1129.68 1470.6 1130.7 1470.44 Q1131.72 1470.26 1132.74 1470.26 Q1138.52 1470.26 1141.9 1473.43 Q1145.28 1476.6 1145.28 1482.02 Q1145.28 1487.59 1141.81 1490.7 Q1138.34 1493.78 1132.02 1493.78 Q1129.84 1493.78 1127.57 1493.4 Q1125.33 1493.03 1122.92 1492.29 L1122.92 1487.59 Q1125 1488.73 1127.23 1489.28 Q1129.45 1489.84 1131.93 1489.84 Q1135.93 1489.84 1138.27 1487.73 Q1140.61 1485.63 1140.61 1482.02 Q1140.61 1478.4 1138.27 1476.3 Q1135.93 1474.19 1131.93 1474.19 Q1130.05 1474.19 1128.18 1474.61 Q1126.32 1475.03 1124.38 1475.9 L1124.38 1458.54 Z\" fill=\"#000000\" fill-rule=\"evenodd\" fill-opacity=\"1\" /><path clip-path=\"url(#clip200)\" d=\"M1154.5 1487.22 L1159.38 1487.22 L1159.38 1493.1 L1154.5 1493.1 L1154.5 1487.22 Z\" fill=\"#000000\" fill-rule=\"evenodd\" fill-opacity=\"1\" /><path clip-path=\"url(#clip200)\" d=\"M1179.56 1461.62 Q1175.95 1461.62 1174.12 1465.19 Q1172.32 1468.73 1172.32 1475.86 Q1172.32 1482.97 1174.12 1486.53 Q1175.95 1490.07 1179.56 1490.07 Q1183.2 1490.07 1185 1486.53 Q1186.83 1482.97 1186.83 1475.86 Q1186.83 1468.73 1185 1465.19 Q1183.2 1461.62 1179.56 1461.62 M1179.56 1457.92 Q1185.37 1457.92 1188.43 1462.53 Q1191.51 1467.11 1191.51 1475.86 Q1191.51 1484.59 1188.43 1489.19 Q1185.37 1493.78 1179.56 1493.78 Q1173.75 1493.78 1170.68 1489.19 Q1167.62 1484.59 1167.62 1475.86 Q1167.62 1467.11 1170.68 1462.53 Q1173.75 1457.92 1179.56 1457.92 Z\" fill=\"#000000\" fill-rule=\"evenodd\" fill-opacity=\"1\" /><path clip-path=\"url(#clip200)\" d=\"M1209.73 1461.62 Q1206.12 1461.62 1204.29 1465.19 Q1202.48 1468.73 1202.48 1475.86 Q1202.48 1482.97 1204.29 1486.53 Q1206.12 1490.07 1209.73 1490.07 Q1213.36 1490.07 1215.17 1486.53 Q1216.99 1482.97 1216.99 1475.86 Q1216.99 1468.73 1215.17 1465.19 Q1213.36 1461.62 1209.73 1461.62 M1209.73 1457.92 Q1215.54 1457.92 1218.59 1462.53 Q1221.67 1467.11 1221.67 1475.86 Q1221.67 1484.59 1218.59 1489.19 Q1215.54 1493.78 1209.73 1493.78 Q1203.92 1493.78 1200.84 1489.19 Q1197.78 1484.59 1197.78 1475.86 Q1197.78 1467.11 1200.84 1462.53 Q1203.92 1457.92 1209.73 1457.92 Z\" fill=\"#000000\" fill-rule=\"evenodd\" fill-opacity=\"1\" /><path clip-path=\"url(#clip200)\" d=\"M1258.06 1467.64 L1247.48 1478.27 L1258.06 1488.84 L1255.3 1491.65 L1244.68 1481.02 L1234.05 1491.65 L1231.32 1488.84 L1241.88 1478.27 L1231.32 1467.64 L1234.05 1464.84 L1244.68 1475.47 L1255.3 1464.84 L1258.06 1467.64 Z\" fill=\"#000000\" fill-rule=\"evenodd\" fill-opacity=\"1\" /><path clip-path=\"url(#clip200)\" d=\"M1270.42 1489.17 L1278.06 1489.17 L1278.06 1462.8 L1269.75 1464.47 L1269.75 1460.21 L1278.01 1458.54 L1282.69 1458.54 L1282.69 1489.17 L1290.33 1489.17 L1290.33 1493.1 L1270.42 1493.1 L1270.42 1489.17 Z\" fill=\"#000000\" fill-rule=\"evenodd\" fill-opacity=\"1\" /><path clip-path=\"url(#clip200)\" d=\"M1309.77 1461.62 Q1306.16 1461.62 1304.33 1465.19 Q1302.53 1468.73 1302.53 1475.86 Q1302.53 1482.97 1304.33 1486.53 Q1306.16 1490.07 1309.77 1490.07 Q1313.41 1490.07 1315.21 1486.53 Q1317.04 1482.97 1317.04 1475.86 Q1317.04 1468.73 1315.21 1465.19 Q1313.41 1461.62 1309.77 1461.62 M1309.77 1457.92 Q1315.58 1457.92 1318.64 1462.53 Q1321.72 1467.11 1321.72 1475.86 Q1321.72 1484.59 1318.64 1489.19 Q1315.58 1493.78 1309.77 1493.78 Q1303.96 1493.78 1300.88 1489.19 Q1297.83 1484.59 1297.83 1475.86 Q1297.83 1467.11 1300.88 1462.53 Q1303.96 1457.92 1309.77 1457.92 Z\" fill=\"#000000\" fill-rule=\"evenodd\" fill-opacity=\"1\" /><path clip-path=\"url(#clip200)\" d=\"M1322.9 1437.61 L1337.82 1437.61 L1337.82 1440.81 L1326.38 1440.81 L1326.38 1447.69 Q1327.21 1447.41 1328.04 1447.28 Q1328.86 1447.13 1329.69 1447.13 Q1334.39 1447.13 1337.14 1449.71 Q1339.88 1452.28 1339.88 1456.68 Q1339.88 1461.22 1337.06 1463.74 Q1334.24 1466.24 1329.11 1466.24 Q1327.34 1466.24 1325.5 1465.94 Q1323.67 1465.64 1321.72 1465.04 L1321.72 1461.22 Q1323.41 1462.14 1325.21 1462.59 Q1327.02 1463.04 1329.03 1463.04 Q1332.29 1463.04 1334.19 1461.33 Q1336.09 1459.62 1336.09 1456.68 Q1336.09 1453.75 1334.19 1452.04 Q1332.29 1450.33 1329.03 1450.33 Q1327.51 1450.33 1325.99 1450.67 Q1324.48 1451 1322.9 1451.72 L1322.9 1437.61 Z\" fill=\"#000000\" fill-rule=\"evenodd\" fill-opacity=\"1\" /><path clip-path=\"url(#clip200)\" d=\"M1606.35 1458.54 L1628.57 1458.54 L1628.57 1460.53 L1616.03 1493.1 L1611.14 1493.1 L1622.95 1462.48 L1606.35 1462.48 L1606.35 1458.54 Z\" fill=\"#000000\" fill-rule=\"evenodd\" fill-opacity=\"1\" /><path clip-path=\"url(#clip200)\" d=\"M1637.69 1487.22 L1642.58 1487.22 L1642.58 1493.1 L1637.69 1493.1 L1637.69 1487.22 Z\" fill=\"#000000\" fill-rule=\"evenodd\" fill-opacity=\"1\" /><path clip-path=\"url(#clip200)\" d=\"M1652.81 1458.54 L1671.17 1458.54 L1671.17 1462.48 L1657.09 1462.48 L1657.09 1470.95 Q1658.11 1470.6 1659.13 1470.44 Q1660.15 1470.26 1661.17 1470.26 Q1666.95 1470.26 1670.33 1473.43 Q1673.71 1476.6 1673.71 1482.02 Q1673.71 1487.59 1670.24 1490.7 Q1666.77 1493.78 1660.45 1493.78 Q1658.27 1493.78 1656 1493.4 Q1653.76 1493.03 1651.35 1492.29 L1651.35 1487.59 Q1653.43 1488.73 1655.66 1489.28 Q1657.88 1489.84 1660.36 1489.84 Q1664.36 1489.84 1666.7 1487.73 Q1669.04 1485.63 1669.04 1482.02 Q1669.04 1478.4 1666.7 1476.3 Q1664.36 1474.19 1660.36 1474.19 Q1658.48 1474.19 1656.61 1474.61 Q1654.75 1475.03 1652.81 1475.9 L1652.81 1458.54 Z\" fill=\"#000000\" fill-rule=\"evenodd\" fill-opacity=\"1\" /><path clip-path=\"url(#clip200)\" d=\"M1692.92 1461.62 Q1689.31 1461.62 1687.48 1465.19 Q1685.68 1468.73 1685.68 1475.86 Q1685.68 1482.97 1687.48 1486.53 Q1689.31 1490.07 1692.92 1490.07 Q1696.56 1490.07 1698.36 1486.53 Q1700.19 1482.97 1700.19 1475.86 Q1700.19 1468.73 1698.36 1465.19 Q1696.56 1461.62 1692.92 1461.62 M1692.92 1457.92 Q1698.73 1457.92 1701.79 1462.53 Q1704.87 1467.11 1704.87 1475.86 Q1704.87 1484.59 1701.79 1489.19 Q1698.73 1493.78 1692.92 1493.78 Q1687.11 1493.78 1684.04 1489.19 Q1680.98 1484.59 1680.98 1475.86 Q1680.98 1467.11 1684.04 1462.53 Q1687.11 1457.92 1692.92 1457.92 Z\" fill=\"#000000\" fill-rule=\"evenodd\" fill-opacity=\"1\" /><path clip-path=\"url(#clip200)\" d=\"M1741.26 1467.64 L1730.68 1478.27 L1741.26 1488.84 L1738.5 1491.65 L1727.88 1481.02 L1717.25 1491.65 L1714.52 1488.84 L1725.08 1478.27 L1714.52 1467.64 L1717.25 1464.84 L1727.88 1475.47 L1738.5 1464.84 L1741.26 1467.64 Z\" fill=\"#000000\" fill-rule=\"evenodd\" fill-opacity=\"1\" /><path clip-path=\"url(#clip200)\" d=\"M1753.62 1489.17 L1761.26 1489.17 L1761.26 1462.8 L1752.95 1464.47 L1752.95 1460.21 L1761.21 1458.54 L1765.89 1458.54 L1765.89 1489.17 L1773.53 1489.17 L1773.53 1493.1 L1753.62 1493.1 L1753.62 1489.17 Z\" fill=\"#000000\" fill-rule=\"evenodd\" fill-opacity=\"1\" /><path clip-path=\"url(#clip200)\" d=\"M1792.97 1461.62 Q1789.36 1461.62 1787.53 1465.19 Q1785.73 1468.73 1785.73 1475.86 Q1785.73 1482.97 1787.53 1486.53 Q1789.36 1490.07 1792.97 1490.07 Q1796.6 1490.07 1798.41 1486.53 Q1800.24 1482.97 1800.24 1475.86 Q1800.24 1468.73 1798.41 1465.19 Q1796.6 1461.62 1792.97 1461.62 M1792.97 1457.92 Q1798.78 1457.92 1801.84 1462.53 Q1804.91 1467.11 1804.91 1475.86 Q1804.91 1484.59 1801.84 1489.19 Q1798.78 1493.78 1792.97 1493.78 Q1787.16 1493.78 1784.08 1489.19 Q1781.03 1484.59 1781.03 1475.86 Q1781.03 1467.11 1784.08 1462.53 Q1787.16 1457.92 1792.97 1457.92 Z\" fill=\"#000000\" fill-rule=\"evenodd\" fill-opacity=\"1\" /><path clip-path=\"url(#clip200)\" d=\"M1806.1 1437.61 L1821.01 1437.61 L1821.01 1440.81 L1809.58 1440.81 L1809.58 1447.69 Q1810.41 1447.41 1811.23 1447.28 Q1812.06 1447.13 1812.89 1447.13 Q1817.59 1447.13 1820.34 1449.71 Q1823.08 1452.28 1823.08 1456.68 Q1823.08 1461.22 1820.26 1463.74 Q1817.44 1466.24 1812.31 1466.24 Q1810.54 1466.24 1808.7 1465.94 Q1806.87 1465.64 1804.91 1465.04 L1804.91 1461.22 Q1806.61 1462.14 1808.41 1462.59 Q1810.22 1463.04 1812.23 1463.04 Q1815.48 1463.04 1817.38 1461.33 Q1819.28 1459.62 1819.28 1456.68 Q1819.28 1453.75 1817.38 1452.04 Q1815.48 1450.33 1812.23 1450.33 Q1810.71 1450.33 1809.18 1450.67 Q1807.68 1451 1806.1 1451.72 L1806.1 1437.61 Z\" fill=\"#000000\" fill-rule=\"evenodd\" fill-opacity=\"1\" /><path clip-path=\"url(#clip200)\" d=\"M2090.38 1489.17 L2098.02 1489.17 L2098.02 1462.8 L2089.71 1464.47 L2089.71 1460.21 L2097.98 1458.54 L2102.65 1458.54 L2102.65 1489.17 L2110.29 1489.17 L2110.29 1493.1 L2090.38 1493.1 L2090.38 1489.17 Z\" fill=\"#000000\" fill-rule=\"evenodd\" fill-opacity=\"1\" /><path clip-path=\"url(#clip200)\" d=\"M2119.74 1487.22 L2124.62 1487.22 L2124.62 1493.1 L2119.74 1493.1 L2119.74 1487.22 Z\" fill=\"#000000\" fill-rule=\"evenodd\" fill-opacity=\"1\" /><path clip-path=\"url(#clip200)\" d=\"M2144.81 1461.62 Q2141.19 1461.62 2139.37 1465.19 Q2137.56 1468.73 2137.56 1475.86 Q2137.56 1482.97 2139.37 1486.53 Q2141.19 1490.07 2144.81 1490.07 Q2148.44 1490.07 2150.25 1486.53 Q2152.07 1482.97 2152.07 1475.86 Q2152.07 1468.73 2150.25 1465.19 Q2148.44 1461.62 2144.81 1461.62 M2144.81 1457.92 Q2150.62 1457.92 2153.67 1462.53 Q2156.75 1467.11 2156.75 1475.86 Q2156.75 1484.59 2153.67 1489.19 Q2150.62 1493.78 2144.81 1493.78 Q2139 1493.78 2135.92 1489.19 Q2132.86 1484.59 2132.86 1475.86 Q2132.86 1467.11 2135.92 1462.53 Q2139 1457.92 2144.81 1457.92 Z\" fill=\"#000000\" fill-rule=\"evenodd\" fill-opacity=\"1\" /><path clip-path=\"url(#clip200)\" d=\"M2174.97 1461.62 Q2171.36 1461.62 2169.53 1465.19 Q2167.72 1468.73 2167.72 1475.86 Q2167.72 1482.97 2169.53 1486.53 Q2171.36 1490.07 2174.97 1490.07 Q2178.6 1490.07 2180.41 1486.53 Q2182.24 1482.97 2182.24 1475.86 Q2182.24 1468.73 2180.41 1465.19 Q2178.6 1461.62 2174.97 1461.62 M2174.97 1457.92 Q2180.78 1457.92 2183.83 1462.53 Q2186.91 1467.11 2186.91 1475.86 Q2186.91 1484.59 2183.83 1489.19 Q2180.78 1493.78 2174.97 1493.78 Q2169.16 1493.78 2166.08 1489.19 Q2163.02 1484.59 2163.02 1475.86 Q2163.02 1467.11 2166.08 1462.53 Q2169.16 1457.92 2174.97 1457.92 Z\" fill=\"#000000\" fill-rule=\"evenodd\" fill-opacity=\"1\" /><path clip-path=\"url(#clip200)\" d=\"M2223.3 1467.64 L2212.72 1478.27 L2223.3 1488.84 L2220.55 1491.65 L2209.92 1481.02 L2199.3 1491.65 L2196.56 1488.84 L2207.12 1478.27 L2196.56 1467.64 L2199.3 1464.84 L2209.92 1475.47 L2220.55 1464.84 L2223.3 1467.64 Z\" fill=\"#000000\" fill-rule=\"evenodd\" fill-opacity=\"1\" /><path clip-path=\"url(#clip200)\" d=\"M2235.66 1489.17 L2243.3 1489.17 L2243.3 1462.8 L2234.99 1464.47 L2234.99 1460.21 L2243.25 1458.54 L2247.93 1458.54 L2247.93 1489.17 L2255.57 1489.17 L2255.57 1493.1 L2235.66 1493.1 L2235.66 1489.17 Z\" fill=\"#000000\" fill-rule=\"evenodd\" fill-opacity=\"1\" /><path clip-path=\"url(#clip200)\" d=\"M2275.01 1461.62 Q2271.4 1461.62 2269.57 1465.19 Q2267.77 1468.73 2267.77 1475.86 Q2267.77 1482.97 2269.57 1486.53 Q2271.4 1490.07 2275.01 1490.07 Q2278.65 1490.07 2280.45 1486.53 Q2282.28 1482.97 2282.28 1475.86 Q2282.28 1468.73 2280.45 1465.19 Q2278.65 1461.62 2275.01 1461.62 M2275.01 1457.92 Q2280.82 1457.92 2283.88 1462.53 Q2286.96 1467.11 2286.96 1475.86 Q2286.96 1484.59 2283.88 1489.19 Q2280.82 1493.78 2275.01 1493.78 Q2269.2 1493.78 2266.12 1489.19 Q2263.07 1484.59 2263.07 1475.86 Q2263.07 1467.11 2266.12 1462.53 Q2269.2 1457.92 2275.01 1457.92 Z\" fill=\"#000000\" fill-rule=\"evenodd\" fill-opacity=\"1\" /><path clip-path=\"url(#clip200)\" d=\"M2296.98 1450.14 Q2294.42 1450.14 2292.92 1451.89 Q2291.43 1453.64 2291.43 1456.68 Q2291.43 1459.71 2292.92 1461.48 Q2294.42 1463.23 2296.98 1463.23 Q2299.54 1463.23 2301.03 1461.48 Q2302.53 1459.71 2302.53 1456.68 Q2302.53 1453.64 2301.03 1451.89 Q2299.54 1450.14 2296.98 1450.14 M2304.52 1438.23 L2304.52 1441.69 Q2303.09 1441.02 2301.63 1440.66 Q2300.18 1440.3 2298.75 1440.3 Q2294.99 1440.3 2293 1442.84 Q2291.02 1445.38 2290.74 1450.52 Q2291.85 1448.88 2293.52 1448.01 Q2295.2 1447.13 2297.21 1447.13 Q2301.44 1447.13 2303.88 1449.71 Q2306.35 1452.26 2306.35 1456.68 Q2306.35 1461.01 2303.79 1463.62 Q2301.23 1466.24 2296.98 1466.24 Q2292.11 1466.24 2289.53 1462.51 Q2286.96 1458.77 2286.96 1451.68 Q2286.96 1445.02 2290.12 1441.07 Q2293.28 1437.11 2298.6 1437.11 Q2300.03 1437.11 2301.48 1437.39 Q2302.94 1437.67 2304.52 1438.23 Z\" fill=\"#000000\" fill-rule=\"evenodd\" fill-opacity=\"1\" /><path clip-path=\"url(#clip200)\" d=\"M1293.29 1552.67 L1293.29 1574.19 L1287.43 1574.19 L1287.43 1552.86 Q1287.43 1547.8 1285.46 1545.29 Q1283.48 1542.77 1279.54 1542.77 Q1274.79 1542.77 1272.06 1545.79 Q1269.32 1548.82 1269.32 1554.04 L1269.32 1574.19 L1263.43 1574.19 L1263.43 1538.54 L1269.32 1538.54 L1269.32 1544.08 Q1271.42 1540.86 1274.25 1539.27 Q1277.12 1537.68 1280.84 1537.68 Q1286.99 1537.68 1290.14 1541.5 Q1293.29 1545.29 1293.29 1552.67 Z\" fill=\"#000000\" fill-rule=\"evenodd\" fill-opacity=\"1\" /><polyline clip-path=\"url(#clip202)\" style=\"stroke:#000000; stroke-linecap:butt; stroke-linejoin:round; stroke-width:2; stroke-opacity:0.1; fill:none\" points=\"\n",
       "  203.964,1134.91 2352.76,1134.91 \n",
       "  \"/>\n",
       "<polyline clip-path=\"url(#clip202)\" style=\"stroke:#000000; stroke-linecap:butt; stroke-linejoin:round; stroke-width:2; stroke-opacity:0.1; fill:none\" points=\"\n",
       "  203.964,791.85 2352.76,791.85 \n",
       "  \"/>\n",
       "<polyline clip-path=\"url(#clip202)\" style=\"stroke:#000000; stroke-linecap:butt; stroke-linejoin:round; stroke-width:2; stroke-opacity:0.1; fill:none\" points=\"\n",
       "  203.964,448.793 2352.76,448.793 \n",
       "  \"/>\n",
       "<polyline clip-path=\"url(#clip202)\" style=\"stroke:#000000; stroke-linecap:butt; stroke-linejoin:round; stroke-width:2; stroke-opacity:0.1; fill:none\" points=\"\n",
       "  203.964,105.735 2352.76,105.735 \n",
       "  \"/>\n",
       "<polyline clip-path=\"url(#clip200)\" style=\"stroke:#000000; stroke-linecap:butt; stroke-linejoin:round; stroke-width:4; stroke-opacity:1; fill:none\" points=\"\n",
       "  203.964,1410.9 203.964,47.2441 \n",
       "  \"/>\n",
       "<polyline clip-path=\"url(#clip200)\" style=\"stroke:#000000; stroke-linecap:butt; stroke-linejoin:round; stroke-width:4; stroke-opacity:1; fill:none\" points=\"\n",
       "  203.964,1134.91 222.861,1134.91 \n",
       "  \"/>\n",
       "<polyline clip-path=\"url(#clip200)\" style=\"stroke:#000000; stroke-linecap:butt; stroke-linejoin:round; stroke-width:4; stroke-opacity:1; fill:none\" points=\"\n",
       "  203.964,791.85 222.861,791.85 \n",
       "  \"/>\n",
       "<polyline clip-path=\"url(#clip200)\" style=\"stroke:#000000; stroke-linecap:butt; stroke-linejoin:round; stroke-width:4; stroke-opacity:1; fill:none\" points=\"\n",
       "  203.964,448.793 222.861,448.793 \n",
       "  \"/>\n",
       "<polyline clip-path=\"url(#clip200)\" style=\"stroke:#000000; stroke-linecap:butt; stroke-linejoin:round; stroke-width:4; stroke-opacity:1; fill:none\" points=\"\n",
       "  203.964,105.735 222.861,105.735 \n",
       "  \"/>\n",
       "<path clip-path=\"url(#clip200)\" d=\"M147.061 1117.63 L165.417 1117.63 L165.417 1121.56 L151.343 1121.56 L151.343 1130.03 Q152.362 1129.69 153.38 1129.53 Q154.399 1129.34 155.417 1129.34 Q161.204 1129.34 164.584 1132.51 Q167.964 1135.68 167.964 1141.1 Q167.964 1146.68 164.491 1149.78 Q161.019 1152.86 154.7 1152.86 Q152.524 1152.86 150.255 1152.49 Q148.01 1152.12 145.603 1151.38 L145.603 1146.68 Q147.686 1147.81 149.908 1148.37 Q152.13 1148.92 154.607 1148.92 Q158.612 1148.92 160.95 1146.82 Q163.288 1144.71 163.288 1141.1 Q163.288 1137.49 160.95 1135.38 Q158.612 1133.28 154.607 1133.28 Q152.732 1133.28 150.857 1133.69 Q149.005 1134.11 147.061 1134.99 L147.061 1117.63 Z\" fill=\"#000000\" fill-rule=\"evenodd\" fill-opacity=\"1\" /><path clip-path=\"url(#clip200)\" d=\"M116.668 805.195 L124.306 805.195 L124.306 778.829 L115.996 780.496 L115.996 776.237 L124.26 774.57 L128.936 774.57 L128.936 805.195 L136.575 805.195 L136.575 809.13 L116.668 809.13 L116.668 805.195 Z\" fill=\"#000000\" fill-rule=\"evenodd\" fill-opacity=\"1\" /><path clip-path=\"url(#clip200)\" d=\"M156.019 777.649 Q152.408 777.649 150.579 781.213 Q148.774 784.755 148.774 791.885 Q148.774 798.991 150.579 802.556 Q152.408 806.097 156.019 806.097 Q159.653 806.097 161.459 802.556 Q163.288 798.991 163.288 791.885 Q163.288 784.755 161.459 781.213 Q159.653 777.649 156.019 777.649 M156.019 773.945 Q161.829 773.945 164.885 778.551 Q167.964 783.135 167.964 791.885 Q167.964 800.611 164.885 805.218 Q161.829 809.801 156.019 809.801 Q150.209 809.801 147.13 805.218 Q144.075 800.611 144.075 791.885 Q144.075 783.135 147.13 778.551 Q150.209 773.945 156.019 773.945 Z\" fill=\"#000000\" fill-rule=\"evenodd\" fill-opacity=\"1\" /><path clip-path=\"url(#clip200)\" d=\"M117.663 462.137 L125.302 462.137 L125.302 435.772 L116.992 437.438 L116.992 433.179 L125.255 431.513 L129.931 431.513 L129.931 462.137 L137.57 462.137 L137.57 466.073 L117.663 466.073 L117.663 462.137 Z\" fill=\"#000000\" fill-rule=\"evenodd\" fill-opacity=\"1\" /><path clip-path=\"url(#clip200)\" d=\"M147.061 431.513 L165.417 431.513 L165.417 435.448 L151.343 435.448 L151.343 443.92 Q152.362 443.573 153.38 443.411 Q154.399 443.225 155.417 443.225 Q161.204 443.225 164.584 446.397 Q167.964 449.568 167.964 454.985 Q167.964 460.563 164.491 463.665 Q161.019 466.744 154.7 466.744 Q152.524 466.744 150.255 466.374 Q148.01 466.003 145.603 465.262 L145.603 460.563 Q147.686 461.698 149.908 462.253 Q152.13 462.809 154.607 462.809 Q158.612 462.809 160.95 460.702 Q163.288 458.596 163.288 454.985 Q163.288 451.374 160.95 449.267 Q158.612 447.161 154.607 447.161 Q152.732 447.161 150.857 447.577 Q149.005 447.994 147.061 448.874 L147.061 431.513 Z\" fill=\"#000000\" fill-rule=\"evenodd\" fill-opacity=\"1\" /><path clip-path=\"url(#clip200)\" d=\"M119.885 119.08 L136.204 119.08 L136.204 123.015 L114.26 123.015 L114.26 119.08 Q116.922 116.326 121.505 111.696 Q126.112 107.043 127.292 105.701 Q129.538 103.177 130.417 101.441 Q131.32 99.6821 131.32 97.9923 Q131.32 95.2377 129.376 93.5016 Q127.455 91.7655 124.353 91.7655 Q122.154 91.7655 119.7 92.5294 Q117.269 93.2933 114.492 94.8442 L114.492 90.122 Q117.316 88.9878 119.769 88.4091 Q122.223 87.8304 124.26 87.8304 Q129.63 87.8304 132.825 90.5155 Q136.019 93.2007 136.019 97.6914 Q136.019 99.821 135.209 101.742 Q134.422 103.64 132.316 106.233 Q131.737 106.904 128.635 110.122 Q125.533 113.316 119.885 119.08 Z\" fill=\"#000000\" fill-rule=\"evenodd\" fill-opacity=\"1\" /><path clip-path=\"url(#clip200)\" d=\"M156.019 91.534 Q152.408 91.534 150.579 95.0988 Q148.774 98.6405 148.774 105.77 Q148.774 112.877 150.579 116.441 Q152.408 119.983 156.019 119.983 Q159.653 119.983 161.459 116.441 Q163.288 112.877 163.288 105.77 Q163.288 98.6405 161.459 95.0988 Q159.653 91.534 156.019 91.534 M156.019 87.8304 Q161.829 87.8304 164.885 92.4368 Q167.964 97.0201 167.964 105.77 Q167.964 114.497 164.885 119.103 Q161.829 123.687 156.019 123.687 Q150.209 123.687 147.13 119.103 Q144.075 114.497 144.075 105.77 Q144.075 97.0201 147.13 92.4368 Q150.209 87.8304 156.019 87.8304 Z\" fill=\"#000000\" fill-rule=\"evenodd\" fill-opacity=\"1\" /><path clip-path=\"url(#clip200)\" d=\"M35.1993 787.794 Q31.2526 785.598 29.3747 782.542 Q27.4968 779.487 27.4968 775.349 Q27.4968 769.779 31.4117 766.755 Q35.2948 763.732 42.4881 763.732 L64.0042 763.732 L64.0042 769.62 L42.679 769.62 Q37.5546 769.62 35.072 771.434 Q32.5894 773.248 32.5894 776.972 Q32.5894 781.524 35.6131 784.166 Q38.6368 786.807 43.8567 786.807 L64.0042 786.807 L64.0042 792.696 L42.679 792.696 Q37.5228 792.696 35.072 794.51 Q32.5894 796.324 32.5894 800.112 Q32.5894 804.599 35.6449 807.241 Q38.6686 809.883 43.8567 809.883 L64.0042 809.883 L64.0042 815.771 L28.3562 815.771 L28.3562 809.883 L33.8944 809.883 Q30.616 807.878 29.0564 805.077 Q27.4968 802.276 27.4968 798.425 Q27.4968 794.542 29.4702 791.836 Q31.4436 789.099 35.1993 787.794 Z\" fill=\"#000000\" fill-rule=\"evenodd\" fill-opacity=\"1\" /><path clip-path=\"url(#clip200)\" d=\"M44.7161 721.559 L47.5806 721.559 L47.5806 748.486 Q53.6281 748.104 56.8109 744.857 Q59.9619 741.579 59.9619 735.754 Q59.9619 732.381 59.1344 729.23 Q58.3069 726.047 56.6518 722.927 L62.1899 722.927 Q63.5267 726.078 64.227 729.389 Q64.9272 732.699 64.9272 736.104 Q64.9272 744.635 59.9619 749.632 Q54.9967 754.597 46.5303 754.597 Q37.7774 754.597 32.6531 749.886 Q27.4968 745.144 27.4968 737.123 Q27.4968 729.93 32.1438 725.76 Q36.7589 721.559 44.7161 721.559 M42.9973 727.415 Q38.1912 727.479 35.3266 730.121 Q32.4621 732.731 32.4621 737.059 Q32.4621 741.961 35.2312 744.921 Q38.0002 747.849 43.0292 748.295 L42.9973 727.415 Z\" fill=\"#000000\" fill-rule=\"evenodd\" fill-opacity=\"1\" /><path clip-path=\"url(#clip200)\" d=\"M46.0847 695.746 Q46.0847 702.844 47.7079 705.581 Q49.3312 708.318 53.2461 708.318 Q56.3653 708.318 58.2114 706.281 Q60.0256 704.212 60.0256 700.679 Q60.0256 695.81 56.5881 692.881 Q53.1188 689.921 47.3897 689.921 L46.0847 689.921 L46.0847 695.746 M43.6657 684.065 L64.0042 684.065 L64.0042 689.921 L58.5933 689.921 Q61.8398 691.926 63.3994 694.918 Q64.9272 697.91 64.9272 702.239 Q64.9272 707.713 61.8716 710.96 Q58.7843 714.175 53.6281 714.175 Q47.6125 714.175 44.5569 710.164 Q41.5014 706.122 41.5014 698.133 L41.5014 689.921 L40.9285 689.921 Q36.8862 689.921 34.6901 692.595 Q32.4621 695.237 32.4621 700.043 Q32.4621 703.098 33.1941 705.995 Q33.9262 708.891 35.3903 711.565 L29.9795 711.565 Q28.7381 708.35 28.1334 705.326 Q27.4968 702.303 27.4968 699.438 Q27.4968 691.704 31.5072 687.884 Q35.5176 684.065 43.6657 684.065 Z\" fill=\"#000000\" fill-rule=\"evenodd\" fill-opacity=\"1\" /><path clip-path=\"url(#clip200)\" d=\"M42.4881 642.369 L64.0042 642.369 L64.0042 648.226 L42.679 648.226 Q37.6183 648.226 35.1038 650.199 Q32.5894 652.173 32.5894 656.119 Q32.5894 660.862 35.6131 663.599 Q38.6368 666.336 43.8567 666.336 L64.0042 666.336 L64.0042 672.225 L28.3562 672.225 L28.3562 666.336 L33.8944 666.336 Q30.6797 664.236 29.0883 661.403 Q27.4968 658.538 27.4968 654.814 Q27.4968 648.671 31.3163 645.52 Q35.1038 642.369 42.4881 642.369 Z\" fill=\"#000000\" fill-rule=\"evenodd\" fill-opacity=\"1\" /><polyline clip-path=\"url(#clip202)\" style=\"stroke:#009af9; stroke-linecap:butt; stroke-linejoin:round; stroke-width:4; stroke-opacity:1; fill:none\" points=\"\n",
       "  264.778,1372.3 264.782,1324.27 264.79,1263.9 264.806,1176.07 264.836,1116.38 264.898,1024.44 265.022,974.356 265.269,909.175 265.764,854.972 266.754,790.478 \n",
       "  268.734,690.305 272.693,633.357 280.612,548.965 296.449,489.959 328.124,433.012 391.472,349.992 518.17,308.139 771.566,221.689 1278.36,162.683 2291.94,85.838 \n",
       "  \n",
       "  \"/>\n",
       "<path clip-path=\"url(#clip202)\" d=\"M264.778 1356.3 L248.778 1372.3 L264.778 1388.3 L280.778 1372.3 L264.778 1356.3 Z\" fill=\"#009af9\" fill-rule=\"evenodd\" fill-opacity=\"1\" stroke=\"#000000\" stroke-opacity=\"1\" stroke-width=\"3.2\"/>\n",
       "<path clip-path=\"url(#clip202)\" d=\"M264.782 1308.27 L248.782 1324.27 L264.782 1340.27 L280.782 1324.27 L264.782 1308.27 Z\" fill=\"#009af9\" fill-rule=\"evenodd\" fill-opacity=\"1\" stroke=\"#000000\" stroke-opacity=\"1\" stroke-width=\"3.2\"/>\n",
       "<path clip-path=\"url(#clip202)\" d=\"M264.79 1247.9 L248.79 1263.9 L264.79 1279.9 L280.79 1263.9 L264.79 1247.9 Z\" fill=\"#009af9\" fill-rule=\"evenodd\" fill-opacity=\"1\" stroke=\"#000000\" stroke-opacity=\"1\" stroke-width=\"3.2\"/>\n",
       "<path clip-path=\"url(#clip202)\" d=\"M264.806 1160.07 L248.806 1176.07 L264.806 1192.07 L280.806 1176.07 L264.806 1160.07 Z\" fill=\"#009af9\" fill-rule=\"evenodd\" fill-opacity=\"1\" stroke=\"#000000\" stroke-opacity=\"1\" stroke-width=\"3.2\"/>\n",
       "<path clip-path=\"url(#clip202)\" d=\"M264.836 1100.38 L248.836 1116.38 L264.836 1132.38 L280.836 1116.38 L264.836 1100.38 Z\" fill=\"#009af9\" fill-rule=\"evenodd\" fill-opacity=\"1\" stroke=\"#000000\" stroke-opacity=\"1\" stroke-width=\"3.2\"/>\n",
       "<path clip-path=\"url(#clip202)\" d=\"M264.898 1008.44 L248.898 1024.44 L264.898 1040.44 L280.898 1024.44 L264.898 1008.44 Z\" fill=\"#009af9\" fill-rule=\"evenodd\" fill-opacity=\"1\" stroke=\"#000000\" stroke-opacity=\"1\" stroke-width=\"3.2\"/>\n",
       "<path clip-path=\"url(#clip202)\" d=\"M265.022 958.356 L249.022 974.356 L265.022 990.356 L281.022 974.356 L265.022 958.356 Z\" fill=\"#009af9\" fill-rule=\"evenodd\" fill-opacity=\"1\" stroke=\"#000000\" stroke-opacity=\"1\" stroke-width=\"3.2\"/>\n",
       "<path clip-path=\"url(#clip202)\" d=\"M265.269 893.175 L249.269 909.175 L265.269 925.175 L281.269 909.175 L265.269 893.175 Z\" fill=\"#009af9\" fill-rule=\"evenodd\" fill-opacity=\"1\" stroke=\"#000000\" stroke-opacity=\"1\" stroke-width=\"3.2\"/>\n",
       "<path clip-path=\"url(#clip202)\" d=\"M265.764 838.972 L249.764 854.972 L265.764 870.972 L281.764 854.972 L265.764 838.972 Z\" fill=\"#009af9\" fill-rule=\"evenodd\" fill-opacity=\"1\" stroke=\"#000000\" stroke-opacity=\"1\" stroke-width=\"3.2\"/>\n",
       "<path clip-path=\"url(#clip202)\" d=\"M266.754 774.478 L250.754 790.478 L266.754 806.478 L282.754 790.478 L266.754 774.478 Z\" fill=\"#009af9\" fill-rule=\"evenodd\" fill-opacity=\"1\" stroke=\"#000000\" stroke-opacity=\"1\" stroke-width=\"3.2\"/>\n",
       "<path clip-path=\"url(#clip202)\" d=\"M268.734 674.305 L252.734 690.305 L268.734 706.305 L284.734 690.305 L268.734 674.305 Z\" fill=\"#009af9\" fill-rule=\"evenodd\" fill-opacity=\"1\" stroke=\"#000000\" stroke-opacity=\"1\" stroke-width=\"3.2\"/>\n",
       "<path clip-path=\"url(#clip202)\" d=\"M272.693 617.357 L256.693 633.357 L272.693 649.357 L288.693 633.357 L272.693 617.357 Z\" fill=\"#009af9\" fill-rule=\"evenodd\" fill-opacity=\"1\" stroke=\"#000000\" stroke-opacity=\"1\" stroke-width=\"3.2\"/>\n",
       "<path clip-path=\"url(#clip202)\" d=\"M280.612 532.965 L264.612 548.965 L280.612 564.965 L296.612 548.965 L280.612 532.965 Z\" fill=\"#009af9\" fill-rule=\"evenodd\" fill-opacity=\"1\" stroke=\"#000000\" stroke-opacity=\"1\" stroke-width=\"3.2\"/>\n",
       "<path clip-path=\"url(#clip202)\" d=\"M296.449 473.959 L280.449 489.959 L296.449 505.959 L312.449 489.959 L296.449 473.959 Z\" fill=\"#009af9\" fill-rule=\"evenodd\" fill-opacity=\"1\" stroke=\"#000000\" stroke-opacity=\"1\" stroke-width=\"3.2\"/>\n",
       "<path clip-path=\"url(#clip202)\" d=\"M328.124 417.012 L312.124 433.012 L328.124 449.012 L344.124 433.012 L328.124 417.012 Z\" fill=\"#009af9\" fill-rule=\"evenodd\" fill-opacity=\"1\" stroke=\"#000000\" stroke-opacity=\"1\" stroke-width=\"3.2\"/>\n",
       "<path clip-path=\"url(#clip202)\" d=\"M391.472 333.992 L375.472 349.992 L391.472 365.992 L407.472 349.992 L391.472 333.992 Z\" fill=\"#009af9\" fill-rule=\"evenodd\" fill-opacity=\"1\" stroke=\"#000000\" stroke-opacity=\"1\" stroke-width=\"3.2\"/>\n",
       "<path clip-path=\"url(#clip202)\" d=\"M518.17 292.139 L502.17 308.139 L518.17 324.139 L534.17 308.139 L518.17 292.139 Z\" fill=\"#009af9\" fill-rule=\"evenodd\" fill-opacity=\"1\" stroke=\"#000000\" stroke-opacity=\"1\" stroke-width=\"3.2\"/>\n",
       "<path clip-path=\"url(#clip202)\" d=\"M771.566 205.689 L755.566 221.689 L771.566 237.689 L787.566 221.689 L771.566 205.689 Z\" fill=\"#009af9\" fill-rule=\"evenodd\" fill-opacity=\"1\" stroke=\"#000000\" stroke-opacity=\"1\" stroke-width=\"3.2\"/>\n",
       "<path clip-path=\"url(#clip202)\" d=\"M1278.36 146.683 L1262.36 162.683 L1278.36 178.683 L1294.36 162.683 L1278.36 146.683 Z\" fill=\"#009af9\" fill-rule=\"evenodd\" fill-opacity=\"1\" stroke=\"#000000\" stroke-opacity=\"1\" stroke-width=\"3.2\"/>\n",
       "<path clip-path=\"url(#clip202)\" d=\"M2291.94 69.838 L2275.94 85.838 L2291.94 101.838 L2307.94 85.838 L2291.94 69.838 Z\" fill=\"#009af9\" fill-rule=\"evenodd\" fill-opacity=\"1\" stroke=\"#000000\" stroke-opacity=\"1\" stroke-width=\"3.2\"/>\n",
       "</svg>\n"
      ]
     },
     "execution_count": 49,
     "metadata": {},
     "output_type": "execute_result"
    }
   ],
   "source": [
    "means4 = [mean(results4[2^k]) for k in 1:length(results4) ];\n",
    "plot(2 .^(1:20), means4,label=false,xlabel=\"n\",ylabel=\"mean\",shape=:diamond)"
   ]
  },
  {
   "cell_type": "markdown",
   "metadata": {},
   "source": [
    "# Task 6: Now go to these slightly more advanced language features and see how each of them works (try to predict the output or explain it)."
   ]
  },
  {
   "cell_type": "markdown",
   "metadata": {},
   "source": [
    "### Task 6a:"
   ]
  },
  {
   "cell_type": "code",
   "execution_count": null,
   "metadata": {},
   "outputs": [],
   "source": [
    "s = 0\n",
    "for i in -20:20\n",
    "    s += i\n",
    "end\n",
    "s == 0.0, s === 0.0"
   ]
  },
  {
   "cell_type": "markdown",
   "metadata": {},
   "source": [
    "### Task 6b:"
   ]
  },
  {
   "cell_type": "code",
   "execution_count": null,
   "metadata": {},
   "outputs": [],
   "source": [
    "a = 1:5\n",
    "b = collect(a)\n",
    "a == b, a === b"
   ]
  },
  {
   "cell_type": "markdown",
   "metadata": {},
   "source": [
    "### Task 6c:"
   ]
  },
  {
   "cell_type": "code",
   "execution_count": null,
   "metadata": {},
   "outputs": [],
   "source": [
    "x = 5\n",
    "y = 6\n",
    "function my_function()\n",
    "    x = 10\n",
    "    global y = 12\n",
    "end\n",
    "\n",
    "my_function()\n",
    "x, y"
   ]
  },
  {
   "cell_type": "markdown",
   "metadata": {},
   "source": [
    "### Task 6d:"
   ]
  },
  {
   "cell_type": "code",
   "execution_count": null,
   "metadata": {},
   "outputs": [],
   "source": [
    "x = 0\n",
    "while true\n",
    "    x += 1\n",
    "    (x == 15) && break\n",
    "    (x % 5 == 0) && continue\n",
    "    !(x % 4 == 0) || println(\"---\")\n",
    "    println(x)\n",
    "end"
   ]
  },
  {
   "cell_type": "markdown",
   "metadata": {},
   "source": [
    "### Task 6e:"
   ]
  },
  {
   "cell_type": "code",
   "execution_count": null,
   "metadata": {},
   "outputs": [],
   "source": [
    "n = 5\n",
    "function f(x)\n",
    "    if x == n\n",
    "        return 0\n",
    "    else\n",
    "        return f(x+1) + 1\n",
    "    end\n",
    "end\n",
    "\n",
    "f(0)"
   ]
  },
  {
   "cell_type": "markdown",
   "metadata": {},
   "source": [
    "### Task 6f:"
   ]
  },
  {
   "cell_type": "code",
   "execution_count": null,
   "metadata": {},
   "outputs": [],
   "source": [
    "function f(x)\n",
    "    x[2] = \"two\"\n",
    "end\n",
    "\n",
    "a = [\"hello\",2,[2,3],:my_symbol,2.5]\n",
    "f(a)\n",
    "a"
   ]
  }
 ],
 "metadata": {
  "kernelspec": {
   "display_name": "Julia 1.11.6",
   "language": "julia",
   "name": "julia-1.11"
  },
  "language_info": {
   "file_extension": ".jl",
   "mimetype": "application/julia",
   "name": "julia",
   "version": "1.11.6"
  }
 },
 "nbformat": 4,
 "nbformat_minor": 4
}
