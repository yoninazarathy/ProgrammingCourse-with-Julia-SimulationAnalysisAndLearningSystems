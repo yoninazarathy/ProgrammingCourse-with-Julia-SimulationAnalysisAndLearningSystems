{
 "cells": [
  {
   "cell_type": "markdown",
   "metadata": {},
   "source": [
    "# [MATH2504 Programming of Simulation, Analysis, and Learning Systems at The University of Queensland](https://courses.smp.uq.edu.au/MATH2504/)\n",
    "\n",
    "## Semester 2, 2024\n",
    "\n",
    "# Practical E: Towards project 1"
   ]
  },
  {
   "cell_type": "markdown",
   "metadata": {},
   "source": [
    "Note that we use the [GitHub repo](https://github.com/yoninazarathy/2504_2024_project1) for the base [project](https://courses.smp.uq.edu.au/MATH2504/assessment_html/project1.html)."
   ]
  },
  {
   "cell_type": "code",
   "execution_count": 1,
   "metadata": {},
   "outputs": [
    {
     "name": "stderr",
     "output_type": "stream",
     "text": [
      "\u001b[32m\u001b[1m  Activating\u001b[22m\u001b[39m project at `~/git/2504_2024_project1`\n"
     ]
    }
   ],
   "source": [
    "using Pkg;\n",
    "# To be able to run this, have the project repository \"next to\" the course materials repository\n",
    "cd(\"../../2504_2024_project1\");\n",
    "Pkg.activate(\".\");\n",
    "# Pkg.instantiate();\n",
    "include(\"poly_factorization_project.jl\");"
   ]
  },
  {
   "cell_type": "markdown",
   "metadata": {},
   "source": [
    "# We'll create a rational function type which is a ratio of two polynomials.\n",
    "\n",
    "$$\n",
    "r(x) = \\frac{p(x)}{q(x)}.\n",
    "$$\n",
    "\n",
    "Ideally such a functon would allow a representation where any joint factors are cancelled out. However we won't get to this. \n",
    "\n",
    "The purpuse of creating such a type is to get a feel for what it is like to create another type that uses the `Polynomial` type."
   ]
  },
  {
   "cell_type": "code",
   "execution_count": 2,
   "metadata": {},
   "outputs": [],
   "source": [
    "struct RationalFunction\n",
    "    numerator::Polynomial\n",
    "    denominator::Polynomial\n",
    "end"
   ]
  },
  {
   "cell_type": "code",
   "execution_count": 3,
   "metadata": {},
   "outputs": [
    {
     "name": "stdout",
     "output_type": "stream",
     "text": [
      "r1 = RationalFunction(4⋅x^0 + -3⋅x^1 + 5⋅x^2, 5⋅x^0 + -2⋅x^1 + 6⋅x^4)\n",
      "r2 = RationalFunction(4⋅x^0 + -3⋅x^1, 5⋅x^0 + -2⋅x^1 + 2⋅x^2)\n"
     ]
    }
   ],
   "source": [
    "x = x_poly()\n",
    "r1 = RationalFunction(5x^2-3x+4, 6x^4-2x+5)\n",
    "r2 = RationalFunction(-3x+4, 2x^2-2x+5)\n",
    "\n",
    "@show r1\n",
    "@show r2;"
   ]
  },
  {
   "cell_type": "markdown",
   "metadata": {},
   "source": [
    "# We can create a `show` method"
   ]
  },
  {
   "cell_type": "code",
   "execution_count": 4,
   "metadata": {},
   "outputs": [],
   "source": [
    "import Base: show"
   ]
  },
  {
   "cell_type": "code",
   "execution_count": 5,
   "metadata": {},
   "outputs": [
    {
     "data": {
      "text/plain": [
       "show (generic function with 369 methods)"
      ]
     },
     "execution_count": 5,
     "metadata": {},
     "output_type": "execute_result"
    }
   ],
   "source": [
    "function show(io::IO, r::RationalFunction) \n",
    "    println(io, r.numerator)\n",
    "    num_chars = max(length(string(r.numerator)),length(string(r.denominator)))\n",
    "    println(io,\"-\"^num_chars)\n",
    "    println(io,r.denominator)\n",
    "end"
   ]
  },
  {
   "cell_type": "code",
   "execution_count": 6,
   "metadata": {},
   "outputs": [
    {
     "data": {
      "text/plain": [
       "4⋅x^0 + -3⋅x^1 + 5⋅x^2\n",
       "----------------------\n",
       "5⋅x^0 + -2⋅x^1 + 6⋅x^4\n"
      ]
     },
     "execution_count": 6,
     "metadata": {},
     "output_type": "execute_result"
    }
   ],
   "source": [
    "r1"
   ]
  },
  {
   "cell_type": "code",
   "execution_count": 7,
   "metadata": {},
   "outputs": [
    {
     "data": {
      "text/plain": [
       "4⋅x^0 + -3⋅x^1\n",
       "----------------------\n",
       "5⋅x^0 + -2⋅x^1 + 2⋅x^2\n"
      ]
     },
     "execution_count": 7,
     "metadata": {},
     "output_type": "execute_result"
    }
   ],
   "source": [
    "r2"
   ]
  },
  {
   "cell_type": "markdown",
   "metadata": {},
   "source": [
    "# We can allow multiplication"
   ]
  },
  {
   "cell_type": "code",
   "execution_count": 8,
   "metadata": {},
   "outputs": [],
   "source": [
    "import Base: *"
   ]
  },
  {
   "cell_type": "code",
   "execution_count": 9,
   "metadata": {},
   "outputs": [
    {
     "data": {
      "text/plain": [
       "* (generic function with 384 methods)"
      ]
     },
     "execution_count": 9,
     "metadata": {},
     "output_type": "execute_result"
    }
   ],
   "source": [
    "*(rf1::RationalFunction, rf2::RationalFunction) =\n",
    "         RationalFunction(rf1.numerator * rf2.numerator, rf1.denominator * rf2.denominator)"
   ]
  },
  {
   "cell_type": "code",
   "execution_count": 10,
   "metadata": {},
   "outputs": [
    {
     "data": {
      "text/plain": [
       "16⋅x^0 + -24⋅x^1 + 29⋅x^2 + -15⋅x^3\n",
       "--------------------------------------------------------------\n",
       "25⋅x^0 + -20⋅x^1 + 14⋅x^2 + -4⋅x^3 + 30⋅x^4 + -12⋅x^5 + 12⋅x^6\n"
      ]
     },
     "execution_count": 10,
     "metadata": {},
     "output_type": "execute_result"
    }
   ],
   "source": [
    "r1*r2"
   ]
  },
  {
   "cell_type": "markdown",
   "metadata": {},
   "source": [
    "# We can create a derivative function"
   ]
  },
  {
   "cell_type": "code",
   "execution_count": 11,
   "metadata": {},
   "outputs": [
    {
     "data": {
      "text/plain": [
       "derivative (generic function with 3 methods)"
      ]
     },
     "execution_count": 11,
     "metadata": {},
     "output_type": "execute_result"
    }
   ],
   "source": [
    "function derivative(r::RationalFunction)\n",
    "    n = r.numerator\n",
    "    d = r.denominator\n",
    "    \n",
    "    #The quoutient rule for derivative\n",
    "    RationalFunction(derivative(n)*d - n*derivative(d) , d^2)\n",
    "end"
   ]
  },
  {
   "cell_type": "code",
   "execution_count": 12,
   "metadata": {},
   "outputs": [
    {
     "data": {
      "text/plain": [
       "-7⋅x^0 + 50⋅x^1 + -10⋅x^2 + -96⋅x^3 + 54⋅x^4 + -60⋅x^5\n",
       "------------------------------------------------------\n",
       "25⋅x^0 + -20⋅x^1 + 4⋅x^2 + 60⋅x^4 + -24⋅x^5 + 36⋅x^8\n"
      ]
     },
     "execution_count": 12,
     "metadata": {},
     "output_type": "execute_result"
    }
   ],
   "source": [
    "derivative(r1)"
   ]
  },
  {
   "cell_type": "markdown",
   "metadata": {},
   "source": [
    "# Adding two rational types"
   ]
  },
  {
   "cell_type": "code",
   "execution_count": 13,
   "metadata": {},
   "outputs": [],
   "source": [
    "import Base: +"
   ]
  },
  {
   "cell_type": "code",
   "execution_count": 14,
   "metadata": {},
   "outputs": [
    {
     "data": {
      "text/plain": [
       "+ (generic function with 268 methods)"
      ]
     },
     "execution_count": 14,
     "metadata": {},
     "output_type": "execute_result"
    }
   ],
   "source": [
    "function +(rf1::RationalFunction, rf2::RationalFunction)\n",
    "    # a/b + c/d\n",
    "    a, b = rf1.numerator, rf1.denominator\n",
    "    c, d = rf2.numerator, rf2.denominator\n",
    "    common = b*d\n",
    "    return RationalFunction(a*d + c*b, common)\n",
    "end"
   ]
  },
  {
   "cell_type": "code",
   "execution_count": 15,
   "metadata": {},
   "outputs": [
    {
     "data": {
      "text/plain": [
       "40⋅x^0 + -46⋅x^1 + 45⋅x^2 + -16⋅x^3 + 34⋅x^4 + -18⋅x^5\n",
       "--------------------------------------------------------------\n",
       "25⋅x^0 + -20⋅x^1 + 14⋅x^2 + -4⋅x^3 + 30⋅x^4 + -12⋅x^5 + 12⋅x^6\n"
      ]
     },
     "execution_count": 15,
     "metadata": {},
     "output_type": "execute_result"
    }
   ],
   "source": [
    "r1+r2"
   ]
  },
  {
   "cell_type": "code",
   "execution_count": 16,
   "metadata": {},
   "outputs": [
    {
     "data": {
      "text/plain": [
       "1⋅x^1 + 4⋅x^2\n",
       "-------------\n",
       "1⋅x^3\n"
      ]
     },
     "execution_count": 16,
     "metadata": {},
     "output_type": "execute_result"
    }
   ],
   "source": [
    "RationalFunction(1+x,x^2) + RationalFunction(3*one(Polynomial),x)"
   ]
  },
  {
   "cell_type": "markdown",
   "metadata": {},
   "source": [
    "# Some sanity check"
   ]
  },
  {
   "cell_type": "code",
   "execution_count": 17,
   "metadata": {},
   "outputs": [
    {
     "data": {
      "text/plain": [
       "-280⋅x^0 + 1002⋅x^1 + -1177⋅x^2 + -1512⋅x^3 + 3026⋅x^4 + -4044⋅x^5 + 2934⋅x^6 + -1752⋅x^7 + 540⋅x^8\n",
       "-----------------------------------------------------------------------------------------------------------------------------------------------\n",
       "625⋅x^0 + -1000⋅x^1 + 1100⋅x^2 + -760⋅x^3 + 1856⋅x^4 + -1912⋅x^5 + 1936⋅x^6 + -1056⋅x^7 + 1332⋅x^8 + -816⋅x^9 + 864⋅x^10 + -288⋅x^11 + 144⋅x^12\n"
      ]
     },
     "execution_count": 17,
     "metadata": {},
     "output_type": "execute_result"
    }
   ],
   "source": [
    "prod_der_A = derivative(r1*r2)"
   ]
  },
  {
   "cell_type": "code",
   "execution_count": 18,
   "metadata": {},
   "outputs": [
    {
     "data": {
      "text/plain": [
       "-7000⋅x^0 + 30650⋅x^1 + -53385⋅x^2 + 888⋅x^3 + 77004⋅x^4 + -144660⋅x^5 + 151948⋅x^6 + -190412⋅x^7 + 200592⋅x^8 + -222840⋅x^9 + 187428⋅x^10 + -138456⋅x^11 + 72432⋅x^12 + -27504⋅x^13 + 6480⋅x^14\n",
       "---------------------------------------------------------------------------------------------------------------------------------------------------------------------------------------------------------------------------------------------------------\n",
       "15625⋅x^0 + -37500⋅x^1 + 56250⋅x^2 + -57500⋅x^3 + 99750⋅x^4 + -137460⋅x^5 + 168164⋅x^6 + -147312⋅x^7 + 167172⋅x^8 + -158320⋅x^9 + 164088⋅x^10 + -119088⋅x^11 + 100584⋅x^12 + -63504⋅x^13 + 54864⋅x^14 + -29376⋅x^15 + 18144⋅x^16 + -5184⋅x^17 + 1728⋅x^18\n"
      ]
     },
     "execution_count": 18,
     "metadata": {},
     "output_type": "execute_result"
    }
   ],
   "source": [
    "prod_der_B = r1*derivative(r2) + derivative(r1)*r2"
   ]
  },
  {
   "cell_type": "markdown",
   "metadata": {},
   "source": [
    "Why are these different?"
   ]
  },
  {
   "cell_type": "code",
   "execution_count": 19,
   "metadata": {},
   "outputs": [
    {
     "data": {
      "text/plain": [
       "evaluate (generic function with 3 methods)"
      ]
     },
     "execution_count": 19,
     "metadata": {},
     "output_type": "execute_result"
    }
   ],
   "source": [
    "function evaluate(r::RationalFunction, x::T) where T <: Number\n",
    "    evaluate(r.numerator,x) // evaluate(r.denominator,x)\n",
    "end"
   ]
  },
  {
   "cell_type": "markdown",
   "metadata": {},
   "source": [
    "As you can see... they aren't different:"
   ]
  },
  {
   "cell_type": "code",
   "execution_count": 23,
   "metadata": {},
   "outputs": [
    {
     "data": {
      "text/plain": [
       "(632//84681, 632//84681)"
      ]
     },
     "execution_count": 23,
     "metadata": {},
     "output_type": "execute_result"
    }
   ],
   "source": [
    "evaluate(prod_der_A, 2), evaluate(prod_der_B, 2)"
   ]
  },
  {
   "cell_type": "markdown",
   "metadata": {},
   "source": [
    "# Some operations that modify the polynomials"
   ]
  },
  {
   "cell_type": "markdown",
   "metadata": {},
   "source": [
    "Say we wanted (for some obscure reason) to only have the polynomials with even absolute coefficients. That is, whenever there is a coefficient of the form $n$ for $nx^k$ then we must transform $n4 to be `abs(2*(n ÷ 2))`."
   ]
  },
  {
   "cell_type": "code",
   "execution_count": 24,
   "metadata": {},
   "outputs": [
    {
     "data": {
      "text/plain": [
       "clean (generic function with 1 method)"
      ]
     },
     "execution_count": 24,
     "metadata": {},
     "output_type": "execute_result"
    }
   ],
   "source": [
    "clean(n::Int) = abs(2*(n÷2)) #\\div + [TAB]"
   ]
  },
  {
   "cell_type": "code",
   "execution_count": 25,
   "metadata": {},
   "outputs": [
    {
     "name": "stdout",
     "output_type": "stream",
     "text": [
      "[(-5, 4), (-4, 4), (-3, 2), (-2, 2), (-1, 0), (0, 0), (1, 0), (2, 2), (3, 2), (4, 4), (5, 4)]\n"
     ]
    }
   ],
   "source": [
    "[(n, clean(n)) for n=-5:5] |> println"
   ]
  },
  {
   "cell_type": "code",
   "execution_count": 26,
   "metadata": {},
   "outputs": [
    {
     "data": {
      "text/plain": [
       "clean (generic function with 2 methods)"
      ]
     },
     "execution_count": 26,
     "metadata": {},
     "output_type": "execute_result"
    }
   ],
   "source": [
    "clean(t::Term) = Term(clean(t.coeff),t.degree)"
   ]
  },
  {
   "cell_type": "code",
   "execution_count": 27,
   "metadata": {},
   "outputs": [
    {
     "data": {
      "text/plain": [
       "1⋅x^3"
      ]
     },
     "execution_count": 27,
     "metadata": {},
     "output_type": "execute_result"
    }
   ],
   "source": [
    "Term(1,3)"
   ]
  },
  {
   "cell_type": "code",
   "execution_count": 28,
   "metadata": {},
   "outputs": [
    {
     "data": {
      "text/plain": [
       "0⋅x^0"
      ]
     },
     "execution_count": 28,
     "metadata": {},
     "output_type": "execute_result"
    }
   ],
   "source": [
    "clean(ans)"
   ]
  },
  {
   "cell_type": "code",
   "execution_count": 28,
   "metadata": {},
   "outputs": [
    {
     "data": {
      "text/plain": [
       "true"
      ]
     },
     "execution_count": 28,
     "metadata": {},
     "output_type": "execute_result"
    }
   ],
   "source": [
    "iszero(ans)"
   ]
  },
  {
   "cell_type": "code",
   "execution_count": 29,
   "metadata": {},
   "outputs": [
    {
     "data": {
      "text/plain": [
       "clean (generic function with 3 methods)"
      ]
     },
     "execution_count": 29,
     "metadata": {},
     "output_type": "execute_result"
    }
   ],
   "source": [
    "function clean(p::Polynomial)\n",
    "    p_out = Polynomial()\n",
    "    terms = deepcopy(p).terms\n",
    "    for t in terms\n",
    "        clean_t = clean(t)\n",
    "        !iszero(clean_t) && push!(p_out,clean(t))\n",
    "    end\n",
    "    return p_out\n",
    "end"
   ]
  },
  {
   "cell_type": "code",
   "execution_count": 30,
   "metadata": {},
   "outputs": [
    {
     "data": {
      "text/plain": [
       "2⋅x^2 + 5⋅x^3"
      ]
     },
     "execution_count": 30,
     "metadata": {},
     "output_type": "execute_result"
    }
   ],
   "source": [
    "Polynomial([Term(5,3),Term(2,2)])"
   ]
  },
  {
   "cell_type": "code",
   "execution_count": 31,
   "metadata": {},
   "outputs": [
    {
     "data": {
      "text/plain": [
       "2⋅x^2 + 4⋅x^3"
      ]
     },
     "execution_count": 31,
     "metadata": {},
     "output_type": "execute_result"
    }
   ],
   "source": [
    "clean(Polynomial([Term(5,3),Term(2,2)]))"
   ]
  },
  {
   "cell_type": "code",
   "execution_count": 32,
   "metadata": {},
   "outputs": [
    {
     "data": {
      "text/plain": [
       "64⋅x^0 + 9⋅x^2 + 43⋅x^3 + 58⋅x^4 + 45⋅x^6 + 63⋅x^7 + 87⋅x^8 + 52⋅x^9 + 77⋅x^10 + 1⋅x^50"
      ]
     },
     "execution_count": 32,
     "metadata": {},
     "output_type": "execute_result"
    }
   ],
   "source": [
    "using Random; Random.seed!(0)\n",
    "p = rand(Polynomial) + 1x^50"
   ]
  },
  {
   "cell_type": "code",
   "execution_count": 33,
   "metadata": {},
   "outputs": [
    {
     "data": {
      "text/plain": [
       "64⋅x^0 + 8⋅x^2 + 42⋅x^3 + 58⋅x^4 + 44⋅x^6 + 62⋅x^7 + 86⋅x^8 + 52⋅x^9 + 76⋅x^10"
      ]
     },
     "execution_count": 33,
     "metadata": {},
     "output_type": "execute_result"
    }
   ],
   "source": [
    "clean(p)"
   ]
  },
  {
   "cell_type": "markdown",
   "metadata": {},
   "source": [
    "Say now we wanted to do this to the `RationalFunction` type:"
   ]
  },
  {
   "cell_type": "code",
   "execution_count": 34,
   "metadata": {},
   "outputs": [
    {
     "data": {
      "text/plain": [
       "clean (generic function with 4 methods)"
      ]
     },
     "execution_count": 34,
     "metadata": {},
     "output_type": "execute_result"
    }
   ],
   "source": [
    "clean(r::RationalFunction) = RationalFunction(clean(r.numerator), clean(r.denominator))"
   ]
  },
  {
   "cell_type": "code",
   "execution_count": 35,
   "metadata": {},
   "outputs": [
    {
     "data": {
      "text/plain": [
       "4⋅x^0 + -3⋅x^1 + 5⋅x^2\n",
       "----------------------\n",
       "5⋅x^0 + -2⋅x^1 + 6⋅x^4\n"
      ]
     },
     "execution_count": 35,
     "metadata": {},
     "output_type": "execute_result"
    }
   ],
   "source": [
    "r1"
   ]
  },
  {
   "cell_type": "code",
   "execution_count": 36,
   "metadata": {},
   "outputs": [
    {
     "data": {
      "text/plain": [
       "4⋅x^0 + 2⋅x^1 + 4⋅x^2\n",
       "---------------------\n",
       "4⋅x^0 + 2⋅x^1 + 6⋅x^4\n"
      ]
     },
     "execution_count": 36,
     "metadata": {},
     "output_type": "execute_result"
    }
   ],
   "source": [
    "clean(r1)"
   ]
  }
 ],
 "metadata": {
  "kernelspec": {
   "display_name": "Julia 1.11.6",
   "language": "julia",
   "name": "julia-1.11"
  },
  "language_info": {
   "file_extension": ".jl",
   "mimetype": "application/julia",
   "name": "julia",
   "version": "1.11.6"
  }
 },
 "nbformat": 4,
 "nbformat_minor": 4
}
