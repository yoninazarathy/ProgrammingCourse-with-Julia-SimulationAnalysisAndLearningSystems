{
 "cells": [
  {
   "cell_type": "markdown",
   "metadata": {},
   "source": [
    "# [MATH2504 Programming of Simulation, Analysis, and Learning Systems at The University of Queensland](https://courses.smp.uq.edu.au/MATH2504/)\n",
    "\n",
    "## Semester 2, 2024\n",
    "\n",
    "# Practical E: Towards project 1"
   ]
  },
  {
   "cell_type": "markdown",
   "metadata": {},
   "source": [
    "Note that we use the [GitHub repo](https://github.com/yoninazarathy/2504_2024_project1) for the base [project](https://courses.smp.uq.edu.au/MATH2504/assessment_html/project1.html)."
   ]
  },
  {
   "cell_type": "code",
   "execution_count": null,
   "metadata": {},
   "outputs": [],
   "source": [
    "using Pkg;\n",
    "# To be able to run this, have the worksheet inside the project repository, it should not be part of your assignment submission. \n",
    "Pkg.activate(\".\");\n",
    "# Pkg.instantiate(); #This should be uncommented when the project is first run\n",
    "include(\"poly_factorization_project.jl\");"
   ]
  },
  {
   "cell_type": "markdown",
   "metadata": {},
   "source": [
    "# We'll create a rational function type which is a ratio of two polynomials.\n",
    "\n",
    "$$\n",
    "r(x) = \\frac{p(x)}{q(x)}.\n",
    "$$\n",
    "\n",
    "Ideally such a function would allow a representation where any joint factors are cancelled out. However we won't get to this. \n",
    "\n",
    "The purpose of creating such a type is to get a feel for what it is like to create another type that uses the `Polynomial` type."
   ]
  },
  {
   "cell_type": "code",
   "execution_count": null,
   "metadata": {},
   "outputs": [],
   "source": [
    "struct RationalFunction\n",
    "    numerator::Polynomial\n",
    "    denominator::Polynomial\n",
    "end"
   ]
  },
  {
   "cell_type": "markdown",
   "metadata": {},
   "source": [
    "To create `x` we specify the type `PolynomialDense`. To find where this type is defined press command/control+t, and type PolynomialDense. This can be done with any object defined in the project."
   ]
  },
  {
   "cell_type": "code",
   "execution_count": null,
   "metadata": {},
   "outputs": [],
   "source": [
    "x = x_poly(PolynomialDense)\n",
    "r1 = RationalFunction(5x^2-3x+4, 6x^4-2x+5)\n",
    "r2 = RationalFunction(-3x+4, 2x^2-2x+5)\n",
    "\n",
    "@show r1\n",
    "@show r2;"
   ]
  },
  {
   "cell_type": "markdown",
   "metadata": {},
   "source": [
    "# We can create a `show` method"
   ]
  },
  {
   "cell_type": "code",
   "execution_count": null,
   "metadata": {},
   "outputs": [],
   "source": [
    "import Base: show"
   ]
  },
  {
   "cell_type": "markdown",
   "metadata": {},
   "source": [
    "The IO argument in `show` ensures that this function is called whenever a `RationalFunction` object is displayed."
   ]
  },
  {
   "cell_type": "code",
   "execution_count": null,
   "metadata": {},
   "outputs": [],
   "source": [
    "function show(io::IO, r::RationalFunction) \n",
    "    println(io, r.numerator)\n",
    "    num_chars = max(length(string(r.numerator)),length(string(r.denominator)))\n",
    "    println(io,\"-\"^num_chars)\n",
    "    println(io,r.denominator)\n",
    "end"
   ]
  },
  {
   "cell_type": "code",
   "execution_count": null,
   "metadata": {},
   "outputs": [],
   "source": [
    "r1"
   ]
  },
  {
   "cell_type": "code",
   "execution_count": null,
   "metadata": {},
   "outputs": [],
   "source": [
    "r2"
   ]
  },
  {
   "cell_type": "markdown",
   "metadata": {},
   "source": [
    "# We can allow multiplication"
   ]
  },
  {
   "cell_type": "code",
   "execution_count": null,
   "metadata": {},
   "outputs": [],
   "source": [
    "import Base: *"
   ]
  },
  {
   "cell_type": "code",
   "execution_count": null,
   "metadata": {},
   "outputs": [],
   "source": [
    "*(rf1::RationalFunction, rf2::RationalFunction) =\n",
    "         RationalFunction(rf1.numerator * rf2.numerator, rf1.denominator * rf2.denominator)"
   ]
  },
  {
   "cell_type": "code",
   "execution_count": null,
   "metadata": {},
   "outputs": [],
   "source": [
    "r1*r2"
   ]
  },
  {
   "cell_type": "markdown",
   "metadata": {},
   "source": [
    "# We can create a derivative function"
   ]
  },
  {
   "cell_type": "code",
   "execution_count": null,
   "metadata": {},
   "outputs": [],
   "source": [
    "function derivative(r::RationalFunction)\n",
    "    n = r.numerator\n",
    "    d = r.denominator\n",
    "    \n",
    "    #The quoutient rule for derivative\n",
    "    RationalFunction(derivative(n)*d - n*derivative(d) , d^2)\n",
    "end"
   ]
  },
  {
   "cell_type": "code",
   "execution_count": null,
   "metadata": {},
   "outputs": [],
   "source": [
    "derivative(r1)"
   ]
  },
  {
   "cell_type": "markdown",
   "metadata": {},
   "source": [
    "# Adding two rational types"
   ]
  },
  {
   "cell_type": "code",
   "execution_count": null,
   "metadata": {},
   "outputs": [],
   "source": [
    "import Base: +"
   ]
  },
  {
   "cell_type": "code",
   "execution_count": null,
   "metadata": {},
   "outputs": [],
   "source": [
    "function +(rf1::RationalFunction, rf2::RationalFunction)\n",
    "    # a/b + c/d\n",
    "    a, b = rf1.numerator, rf1.denominator\n",
    "    c, d = rf2.numerator, rf2.denominator\n",
    "    common = b*d\n",
    "    return RationalFunction(a*d + c*b, common)\n",
    "end"
   ]
  },
  {
   "cell_type": "code",
   "execution_count": null,
   "metadata": {},
   "outputs": [],
   "source": [
    "r1+r2"
   ]
  },
  {
   "cell_type": "code",
   "execution_count": null,
   "metadata": {},
   "outputs": [],
   "source": [
    "RationalFunction(1+x,x^2) + RationalFunction(3*one(PolynomialDense),x)"
   ]
  },
  {
   "cell_type": "markdown",
   "metadata": {},
   "source": [
    "# Some sanity check"
   ]
  },
  {
   "cell_type": "code",
   "execution_count": null,
   "metadata": {},
   "outputs": [],
   "source": [
    "prod_der_A = derivative(r1*r2)"
   ]
  },
  {
   "cell_type": "code",
   "execution_count": null,
   "metadata": {},
   "outputs": [],
   "source": [
    "prod_der_B = r1*derivative(r2) + derivative(r1)*r2"
   ]
  },
  {
   "cell_type": "markdown",
   "metadata": {},
   "source": [
    "Why are these different?"
   ]
  },
  {
   "cell_type": "code",
   "execution_count": null,
   "metadata": {},
   "outputs": [],
   "source": [
    "function evaluate(r::RationalFunction, x::T) where T <: Number\n",
    "    evaluate(r.numerator,x) // evaluate(r.denominator,x)\n",
    "end"
   ]
  },
  {
   "cell_type": "markdown",
   "metadata": {},
   "source": [
    "As you can see... they aren't different:"
   ]
  },
  {
   "cell_type": "code",
   "execution_count": null,
   "metadata": {},
   "outputs": [],
   "source": [
    "evaluate(prod_der_A, 2), evaluate(prod_der_B, 2)"
   ]
  },
  {
   "cell_type": "markdown",
   "metadata": {},
   "source": [
    "# Some operations that modify the polynomials"
   ]
  },
  {
   "cell_type": "markdown",
   "metadata": {},
   "source": [
    "Say we wanted (for some obscure reason) to only have the polynomials with even absolute coefficients. That is, whenever there is a coefficient of the form $n$ for $nx^k$ then we must transform $n$ to be `abs(2*(n ÷ 2))`."
   ]
  },
  {
   "cell_type": "code",
   "execution_count": null,
   "metadata": {},
   "outputs": [],
   "source": [
    "clean(n::Int) = abs(2*(n÷2)) #\\div + [TAB]"
   ]
  },
  {
   "cell_type": "code",
   "execution_count": null,
   "metadata": {},
   "outputs": [],
   "source": [
    "[(n, clean(n)) for n=-5:5] |> println"
   ]
  },
  {
   "cell_type": "code",
   "execution_count": null,
   "metadata": {},
   "outputs": [],
   "source": [
    "clean(t::Term) = Term(clean(t.coeff),t.degree)"
   ]
  },
  {
   "cell_type": "code",
   "execution_count": null,
   "metadata": {},
   "outputs": [],
   "source": [
    "Term(1,3)"
   ]
  },
  {
   "cell_type": "code",
   "execution_count": null,
   "metadata": {},
   "outputs": [],
   "source": [
    "cleaned = clean(Term(1,3))"
   ]
  },
  {
   "cell_type": "code",
   "execution_count": null,
   "metadata": {},
   "outputs": [],
   "source": [
    "iszero(cleaned)"
   ]
  },
  {
   "cell_type": "code",
   "execution_count": null,
   "metadata": {},
   "outputs": [],
   "source": [
    "function clean(p::PolynomialDense)\n",
    "    p_out = PolynomialDense()\n",
    "    terms = deepcopy(p).terms\n",
    "    for t in terms\n",
    "        clean_t = clean(t)\n",
    "        !iszero(clean_t) && push!(p_out,clean(t))\n",
    "    end\n",
    "    return p_out\n",
    "end"
   ]
  },
  {
   "cell_type": "code",
   "execution_count": null,
   "metadata": {},
   "outputs": [],
   "source": [
    "PolynomialDense([Term(5,3),Term(2,2)])"
   ]
  },
  {
   "cell_type": "code",
   "execution_count": null,
   "metadata": {},
   "outputs": [],
   "source": [
    "clean(PolynomialDense([Term(5,3),Term(2,2)]))"
   ]
  },
  {
   "cell_type": "code",
   "execution_count": null,
   "metadata": {},
   "outputs": [],
   "source": [
    "using Random; Random.seed!(0)\n",
    "p = rand(PolynomialDense) + 1x^50"
   ]
  },
  {
   "cell_type": "code",
   "execution_count": null,
   "metadata": {},
   "outputs": [],
   "source": [
    "clean(p)"
   ]
  },
  {
   "cell_type": "markdown",
   "metadata": {},
   "source": [
    "Say now we wanted to do this to the `RationalFunction` type:"
   ]
  },
  {
   "cell_type": "code",
   "execution_count": null,
   "metadata": {},
   "outputs": [],
   "source": [
    "clean(r::RationalFunction) = RationalFunction(clean(r.numerator), clean(r.denominator))"
   ]
  },
  {
   "cell_type": "code",
   "execution_count": null,
   "metadata": {},
   "outputs": [],
   "source": [
    "r1"
   ]
  },
  {
   "cell_type": "code",
   "execution_count": null,
   "metadata": {},
   "outputs": [],
   "source": [
    "clean(r1)"
   ]
  },
  {
   "cell_type": "markdown",
   "metadata": {},
   "source": [
    "## Abstract Types and Dispatch\n",
    "Every object (number, variable, function, ...) in Julia has a concrete type, which can be found by querying `typeof`"
   ]
  },
  {
   "cell_type": "code",
   "execution_count": null,
   "metadata": {},
   "outputs": [],
   "source": [
    "@show typeof(1.0)\n",
    "@show typeof(1)\n",
    "@show typeof(1//1)"
   ]
  },
  {
   "cell_type": "markdown",
   "metadata": {},
   "source": [
    "These types are organised into collections known as Abstract types. We can recognise if a concrete type belongs to an Abstract type by using `<:` "
   ]
  },
  {
   "cell_type": "code",
   "execution_count": null,
   "metadata": {},
   "outputs": [],
   "source": [
    "@show Float64 <: Number #Float64 is a subtype of Number\n",
    "@show Int <: Integer <: Number #Int is a shorthand (alias) for Int64, Int64 is a subtype of Integer which is a subtype of Number\n",
    "@show Float64 <: Integer #Float64 is not a subtype of Integer"
   ]
  },
  {
   "cell_type": "markdown",
   "metadata": {},
   "source": [
    "We can create our own concrete and abstract types. Consider a project involving points in 2D, we have two types of points, some are Integer valued, others are decimals. We can create two concrete types to store them. "
   ]
  },
  {
   "cell_type": "code",
   "execution_count": null,
   "metadata": {},
   "outputs": [],
   "source": [
    "struct PointFloat_attempt1\n",
    "    x::Float64\n",
    "    y::Float64\n",
    "end\n",
    "\n",
    "struct PointInt_attempt1\n",
    "    x::Int\n",
    "    y::Int\n",
    "end\n",
    "\n",
    "FloatPoints = [PointFloat_attempt1(3rand(), 3rand()) for _ in 1:10] #10 random floating points in [0,3]×[0,3]\n",
    "IntPoints = [PointInt_attempt1(i,j) for i in 1:3 for j in 1:3] #9 integer points at x=(1,2,3), y=(1,2,3)"
   ]
  },
  {
   "cell_type": "markdown",
   "metadata": {},
   "source": [
    "We can then define methods that accept these new types as arguments."
   ]
  },
  {
   "cell_type": "code",
   "execution_count": null,
   "metadata": {},
   "outputs": [],
   "source": [
    "function norm(point::PointFloat_attempt1)\n",
    "    return sqrt(point.x^2 + point.y^2)\n",
    "end\n",
    "\n",
    "function norm(point::PointInt_attempt1)\n",
    "    return sqrt(point.x^2 + point.y^2)\n",
    "end\n",
    "\n",
    "@show norm.(FloatPoints)\n",
    "@show norm.(IntPoints)"
   ]
  },
  {
   "cell_type": "markdown",
   "metadata": {},
   "source": [
    "Notice the actual code in the two methods is identical, we just needed to create two to handle both types. We could have instead used a shorthand to define both simultaneously. "
   ]
  },
  {
   "cell_type": "code",
   "execution_count": null,
   "metadata": {},
   "outputs": [],
   "source": [
    "function norm2(point::T) where {T <: Union{PointFloat_attempt1, PointInt_attempt1}} #the type T can be either PointFloat_attempt1 or PointInt_attempt1\n",
    "    return sqrt(point.x^2 + point.y^2)\n",
    "end\n",
    "\n",
    "@show norm2.(FloatPoints)\n",
    "@show norm2.(IntPoints)"
   ]
  },
  {
   "cell_type": "markdown",
   "metadata": {},
   "source": [
    "# Making out own abstract types\n",
    "We can simplify this by introducing an abstract type  "
   ]
  },
  {
   "cell_type": "code",
   "execution_count": null,
   "metadata": {},
   "outputs": [],
   "source": [
    "\n",
    "abstract type Point2 end"
   ]
  },
  {
   "cell_type": "markdown",
   "metadata": {},
   "source": [
    "Note we get an error if we try to redefine the existing types, either by declaring them as a subtype of trying to change the fields, which you can see by uncommenting the below. To make these changes we'd have to reboot the kernel before running the new definitions. We'll instead use a new name. "
   ]
  },
  {
   "cell_type": "code",
   "execution_count": null,
   "metadata": {},
   "outputs": [],
   "source": [
    "\n",
    "# struct PointFloat_attempt1 <: Point2 #error because we're changing the type structure\n",
    "#     x::Float64\n",
    "#     y::Float64\n",
    "# end\n",
    "\n",
    "# struct PointFloat_attempt1  \n",
    "#     x::Float64\n",
    "#     y::Float64\n",
    "#     z::Float64 #error because we're changing the fields\n",
    "# end"
   ]
  },
  {
   "cell_type": "code",
   "execution_count": null,
   "metadata": {},
   "outputs": [],
   "source": [
    "struct PointFloat_attempt2 <: Point2 #the new concrete type PointFloat_attempt2 is declared as a subtype of the abstract type Point2\n",
    "    x::Float64\n",
    "    y::Float64\n",
    "end\n",
    "\n",
    "struct PointInt_attempt2 <: Point2\n",
    "    x::Int\n",
    "    y::Int\n",
    "end\n",
    "\n",
    "FloatPoints2 = [PointFloat_attempt2(3rand(), 3rand()) for _ in 1:10] #10 random floating points in [0,3]×[0,3]\n",
    "IntPoints2 = [PointInt_attempt2(i,j) for i in 1:3 for j in 1:3] #9 integer points at x=(1,2,3), y=(1,2,3)"
   ]
  },
  {
   "cell_type": "code",
   "execution_count": null,
   "metadata": {},
   "outputs": [],
   "source": [
    "norm(point::Point2) = sqrt(point.x^2 + point.y^2)\n",
    "\n",
    "@show norm.(FloatPoints2)\n",
    "@show norm.(IntPoints2);"
   ]
  },
  {
   "cell_type": "markdown",
   "metadata": {},
   "source": [
    "If we want we can create a function specifically for a concrete type. This will be important in the project because `PolynomialDense` and `PolynomialSparse` will have different structures, and many functions will need to be specific to type. "
   ]
  },
  {
   "cell_type": "code",
   "execution_count": null,
   "metadata": {},
   "outputs": [],
   "source": [
    "function norm(point::PointInt_attempt2)\n",
    "    println(\"Finding norm of an integer point\")\n",
    "    return sqrt(point.x^2 + point.y^2)\n",
    "end\n",
    "\n",
    "norm(IntPoints2[1])\n"
   ]
  },
  {
   "cell_type": "markdown",
   "metadata": {},
   "source": [
    "When a function is called, it will dispatch to the most specific type it can find. Right now, `PointInt_attempt2` has 2 methods defined - one on its concrete type, and another on the abstract type `Point2` - the one on the concrete type is more specific (`PointInt_attempt2 <: Point2`), so will be used. The other concrete type `PointFloat_attempt2` still uses the norm defined on the abstract type, and therefore doesn't print any text. "
   ]
  },
  {
   "cell_type": "code",
   "execution_count": null,
   "metadata": {},
   "outputs": [],
   "source": [
    "norm(FloatPoints2[1])"
   ]
  },
  {
   "cell_type": "markdown",
   "metadata": {},
   "source": [
    "We can see all the methods associated with a function name by using the `methods` function below, for any function that comes with Julia (+,-,*,...) or any packages being used you can expect very many methods"
   ]
  },
  {
   "cell_type": "code",
   "execution_count": null,
   "metadata": {},
   "outputs": [],
   "source": [
    "methods(norm)"
   ]
  },
  {
   "cell_type": "markdown",
   "metadata": {},
   "source": [
    "We can even reference the type of our arguments in the body of the function - here we use it to determine the colour when plotting the points. "
   ]
  },
  {
   "cell_type": "code",
   "execution_count": null,
   "metadata": {},
   "outputs": [],
   "source": [
    "using Plots\n",
    "## This function inputs a vector containing elements of type T, where T is a subtype of Point2. This means T will be either PointInt_attempt2 or PointFloat_attempt2. If they are integer points they're plotted in blue, otherwise they are plotted in orange. \n",
    "function plotpoints(points::Vector{T}; plt=plot()) where {T <: Point2}\n",
    "    plot!(plt, xlabel=\"x\", ylabel=\"y\", legend=:none)\n",
    "    scatter!(\n",
    "        [p.x for p in points], #unpack all x values from points\n",
    "        [p.y for p in points], #unpack all y values from points\n",
    "        color = (T==PointInt_attempt2) ? :lightblue : :orange  #check the type T, which is used to determine the colour\n",
    "    )\n",
    "end\n",
    "plt = plotpoints(FloatPoints2)\n",
    "plt = plotpoints(IntPoints2; plt=plt)"
   ]
  },
  {
   "cell_type": "markdown",
   "metadata": {},
   "source": [
    "This feature is used in the project - for example consider this function from `src/polynomial_definitions/polynomial.jl` - it accepts an argument of type `P`, which must be a subtype of `Polynomial`. The first line of the function then creates an empty polynomial of type `P`. Currently the only subtype of `Polynomial` is `PolynomialDense`, but you'll create another in Task 3. "
   ]
  },
  {
   "cell_type": "code",
   "execution_count": null,
   "metadata": {},
   "outputs": [],
   "source": [
    "\"\"\"\n",
    "Create a new polynomial which is the derivative of the polynomial.\n",
    "\"\"\"\n",
    "function derivative(p::P)::P where {P <: Polynomial} \n",
    "    der_p = P()\n",
    "    for term in p\n",
    "        der_term = derivative(term)\n",
    "        !iszero(der_term) && push!(der_p, der_term)\n",
    "    end\n",
    "    return trim!(der_p)\n",
    "end"
   ]
  },
  {
   "cell_type": "markdown",
   "metadata": {},
   "source": [
    "We can combine these syntaxes to quickly generate many concrete types simultaneously, these are named [parametric types](https://docs.julialang.org/en/v1/manual/types/#Parametric-Types)."
   ]
  },
  {
   "cell_type": "code",
   "execution_count": null,
   "metadata": {},
   "outputs": [],
   "source": [
    "struct Point_attempt3{T <: Real} <: Point2 #With this signature we're creating a new concrete type Point_attempt3{T} for every subtype of Real. All the new concrete types will be subtypes of Point2\n",
    "    x::T\n",
    "    y::T\n",
    "end\n",
    "\n",
    "\n",
    "\n",
    "FloatPoints3 = [Point_attempt3{Float64}(3rand(), 3rand()) for _ in 1:10] #10 random floating points in [0,3]×[0,3]\n",
    "IntPoints3 = [Point_attempt3{Int}(i,j) for i in 1:3 for j in 1:3] #9 integer points at x=(1,2,3), y=(1,2,3)"
   ]
  },
  {
   "cell_type": "code",
   "execution_count": null,
   "metadata": {},
   "outputs": [],
   "source": [
    "Point_attempt3{Int} <: Point_attempt3"
   ]
  },
  {
   "cell_type": "markdown",
   "metadata": {},
   "source": [
    "These are declared as subtypes of the abstract type `Point2`, so any method defined on `Point2` will already work. "
   ]
  },
  {
   "cell_type": "code",
   "execution_count": null,
   "metadata": {},
   "outputs": [],
   "source": [
    "@show norm.(FloatPoints3)\n",
    "@show norm.(IntPoints3)\n",
    "\n",
    "plt = plotpoints(FloatPoints3)\n",
    "plotpoints(IntPoints3; plt=plt)"
   ]
  },
  {
   "cell_type": "markdown",
   "metadata": {},
   "source": [
    "Now our integers are orange rather than blue (why?), we can fix this by defining a new method on `Point_attempt3{Int}` alone."
   ]
  },
  {
   "cell_type": "code",
   "execution_count": null,
   "metadata": {},
   "outputs": [],
   "source": [
    "function plotpoints(points::Point_attempt3{Int}; plt=plot())\n",
    "    plot!(plt, xlabel=\"x\", ylabel=\"y\", legend=:none)\n",
    "    scatter!(\n",
    "        [p.x for p in points], #unpack all x values from points\n",
    "        [p.y for p in points], #unpack all y values from points\n",
    "        color = :lightblue \n",
    "    )\n",
    "end\n",
    "\n",
    "plt = plotpoints(FloatPoints3)\n",
    "plotpoints(IntPoints3; plt=plt) "
   ]
  },
  {
   "cell_type": "markdown",
   "metadata": {},
   "source": [
    "This still hasn't worked, where's the bug in the code cell above?"
   ]
  },
  {
   "cell_type": "code",
   "execution_count": null,
   "metadata": {},
   "outputs": [],
   "source": [
    "methods(plotpoints)"
   ]
  },
  {
   "cell_type": "markdown",
   "metadata": {},
   "source": [
    "There are now two (or more, depending on your changes) methods named `plotpoints`, which one is used when we call `plotpoints(FloatPoints3)`? How about when we call `plotpoints(IntPoints3; plt=plt)`?"
   ]
  },
  {
   "cell_type": "markdown",
   "metadata": {},
   "source": [
    "Parametric typing like this is used extensively in `src\\term.jl`, and you're asked to implement it yourself in task 2. "
   ]
  },
  {
   "cell_type": "markdown",
   "metadata": {},
   "source": [
    "## The Max Heap\n",
    "The project includes a Max heap in `src/utils/heap.jl`, which you asked to use when implementing `PolynomialSparse` in Task 3. In the rest of this document we'll summarise how to generate and query these heaps. There are more details in the documentation written withen `heap.jl`. "
   ]
  },
  {
   "cell_type": "code",
   "execution_count": null,
   "metadata": {},
   "outputs": [],
   "source": [
    "methods(Heap)"
   ]
  },
  {
   "cell_type": "markdown",
   "metadata": {},
   "source": [
    "We have two ways to generate a heap, the first inputs a type and generates an empty heap of that type, the second generates a heap based on an inputted vector. "
   ]
  },
  {
   "cell_type": "code",
   "execution_count": null,
   "metadata": {},
   "outputs": [],
   "source": [
    "@show Heap(Float64) #empty heap with Floats\n",
    "@show Heap([5,19,21,1,7]) #heap with integers"
   ]
  },
  {
   "cell_type": "markdown",
   "metadata": {},
   "source": [
    "The function `pop!` removes the largest element from the heap and returns it. Note that when displayed the heap may look unsorted, but `pop!` finds the largest value. "
   ]
  },
  {
   "cell_type": "code",
   "execution_count": null,
   "metadata": {},
   "outputs": [],
   "source": [
    "@show h1 = Heap([1,5,3,7,2])\n",
    "@show pop!(h1)\n",
    "@show h1 \n",
    "@show pop!(h1)\n",
    "@show h1"
   ]
  },
  {
   "cell_type": "markdown",
   "metadata": {},
   "source": [
    "We can also add new elements to the heap using `push!`."
   ]
  },
  {
   "cell_type": "code",
   "execution_count": null,
   "metadata": {},
   "outputs": [],
   "source": [
    "h2 = Heap([11,2,31,9])\n",
    "push!(h2, 31)\n",
    "@show h2"
   ]
  },
  {
   "cell_type": "code",
   "execution_count": null,
   "metadata": {},
   "outputs": [],
   "source": [
    "@show pop!(h2)\n",
    "@show pop!(h2)\n",
    "h2"
   ]
  },
  {
   "cell_type": "markdown",
   "metadata": {},
   "source": [
    "We may also use `peek` to return the largest value without modifying the heap.  "
   ]
  },
  {
   "cell_type": "code",
   "execution_count": null,
   "metadata": {},
   "outputs": [],
   "source": [
    "@show h2\n",
    "@show peek(h2)\n",
    "@show h2"
   ]
  },
  {
   "cell_type": "markdown",
   "metadata": {},
   "source": [
    "We may also apply an operation to an entire heap using `map_heap` (or `map_heap!` to do so in-place), this may be useful when multiplying a sparse polynomial."
   ]
  },
  {
   "cell_type": "code",
   "execution_count": null,
   "metadata": {},
   "outputs": [],
   "source": [
    "h1 = Heap([1,5,3,7,2])\n",
    "h2 = map_heap(h1, x->x^2) #square all elements in h1"
   ]
  },
  {
   "cell_type": "code",
   "execution_count": null,
   "metadata": {},
   "outputs": [],
   "source": [
    "peek(h2)"
   ]
  },
  {
   "cell_type": "markdown",
   "metadata": {},
   "source": [
    "This assumes that the function $f$ being mapped is order-preserving, meaning that $x>y$ implies $f(x)>f(y)$. Let's see what happens when our function isn't order-preserving. "
   ]
  },
  {
   "cell_type": "code",
   "execution_count": null,
   "metadata": {},
   "outputs": [],
   "source": [
    "f(x) = -x\n",
    "h1 = Heap([1,5,3,7,2])\n",
    "h2 = map_heap(h1, f) #negate all elements in h1"
   ]
  },
  {
   "cell_type": "code",
   "execution_count": null,
   "metadata": {},
   "outputs": [],
   "source": [
    "peek(h2)"
   ]
  },
  {
   "cell_type": "markdown",
   "metadata": {},
   "source": [
    "The order has now been broken, so now `pop!` and `peek` behave unpredictably, returning the smallest value, rather than the largest. \n",
    "\n",
    "We may also use `popall` to find the entire (sorted) vector associated with the heap (`popall!` to do so destructively)"
   ]
  },
  {
   "cell_type": "code",
   "execution_count": null,
   "metadata": {},
   "outputs": [],
   "source": [
    "h1 = Heap([1,5,3,7,2])\n",
    "h2 = map_heap(h1, x->x^2) #square all elements in h1\n",
    "@show popall(h2)\n",
    "@show isempty(h2)\n",
    "@show h2\n",
    "println() #print an empty line\n",
    "\n",
    "h3 = Heap([1,5,3,7,2])\n",
    "h4 = map_heap(h1, x->x^2) #square all elements in h1\n",
    "@show popall!(h4)\n",
    "@show isempty(h4)\n",
    "@show h4;"
   ]
  },
  {
   "cell_type": "markdown",
   "metadata": {},
   "source": [
    "Note the `isempty` function used above which, predictably, queries whether the heap is empty. Looking into `heap.jl` we can see that this uses our last convenience function, `length`, which measures the number of elements stored in a heap. "
   ]
  },
  {
   "cell_type": "code",
   "execution_count": null,
   "metadata": {},
   "outputs": [],
   "source": [
    "h1 = Heap(rand(10))\n",
    "@show length(h1)\n",
    "pop!(h1)\n",
    "@show length(h1);"
   ]
  }
 ],
 "metadata": {
  "kernelspec": {
   "display_name": "Julia 1.11.6",
   "language": "julia",
   "name": "julia-1.11"
  },
  "language_info": {
   "file_extension": ".jl",
   "mimetype": "application/julia",
   "name": "julia",
   "version": "1.11.6"
  }
 },
 "nbformat": 4,
 "nbformat_minor": 4
}
