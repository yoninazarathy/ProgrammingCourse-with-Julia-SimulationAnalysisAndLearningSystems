{
 "cells": [
  {
   "cell_type": "markdown",
   "id": "d37f6ce7",
   "metadata": {},
   "source": [
    "# Practise quiz (MATH2504, 2025)"
   ]
  },
  {
   "cell_type": "markdown",
   "id": "dbeff195",
   "metadata": {},
   "source": [
    "### Question 1:  \n",
    "What is the output of the following code?"
   ]
  },
  {
   "cell_type": "code",
   "execution_count": null,
   "id": "3d6fe782",
   "metadata": {},
   "outputs": [],
   "source": [
    "i=94\n",
    "while i>1\n",
    "    i=i ÷ 3\n",
    "    println(i)\n",
    "    if i<20\n",
    "        break\n",
    "    end\n",
    "end\n"
   ]
  },
  {
   "cell_type": "markdown",
   "id": "8cd51ca2",
   "metadata": {},
   "source": [
    "### Question 2: \n",
    "\n",
    "What is the output of the following code?\n"
   ]
  },
  {
   "cell_type": "code",
   "execution_count": null,
   "id": "d3fc1c59",
   "metadata": {},
   "outputs": [],
   "source": [
    "booleanoperator(cond1::Bool, cond2::Bool)=(cond1 || cond2) && (cond1 != cond2)\n",
    "count=0\n",
    "for i=1:100\n",
    "    if booleanoperator(i<50, i<80)\n",
    "        count += 1  # this is the same as count=count+1\n",
    "    end\n",
    "end\n",
    "@show count"
   ]
  },
  {
   "cell_type": "markdown",
   "id": "2b24215c",
   "metadata": {},
   "source": [
    "### Question 3:  \n",
    "Fix the bug in the following code"
   ]
  },
  {
   "cell_type": "code",
   "execution_count": 19,
   "id": "20462e93",
   "metadata": {},
   "outputs": [
    {
     "name": "stdout",
     "output_type": "stream",
     "text": [
      "Vector v before normalisation:\t\t\tFloat16[-0.2676, 0.5986, -0.06537, -1.937, -0.295, -0.2942]\n",
      "After normalisation (max norm equal to 1):\tFloat16[-0.2676, 0.5986, -0.06537, -1.937, -0.295, -0.2942]\n"
     ]
    }
   ],
   "source": [
    "function normalisevec!(vec::Vector{Float16})\n",
    "    maxnorm=maximum(abs, vec)\n",
    "    vec=vec/maxnorm\n",
    "    \n",
    "    \n",
    "     \n",
    "end\n",
    "v=randn(Float16, 6)  #vector of normally distributed random numbers\n",
    "println(\"Vector v before normalisation:\\t\\t\\t\", v)\n",
    "normalisevec!(v)\n",
    "println(\"After normalisation (max norm equal to 1):\\t\", v)"
   ]
  },
  {
   "cell_type": "markdown",
   "id": "7d3f5d7c",
   "metadata": {},
   "source": [
    "### Question 4: \n",
    "\n",
    "Formulate a function which finds the position of the first and the last occurance of a given letter in a given string. Distinguish between upper and lower case letters. Add the missing two lines in the code."
   ]
  },
  {
   "cell_type": "code",
   "execution_count": null,
   "id": "cb87d37a",
   "metadata": {},
   "outputs": [],
   "source": [
    "function findletters(str::String, c::Char)\n",
    "    posfirst=0\n",
    "    poslast=0\n",
    "    for i in 1:length(str)\n",
    "        if str[i]==c\n",
    "\n",
    "            ...................................\n",
    "                posfirst = i\n",
    "\n",
    "            .....................................\n",
    "            poslast = i\n",
    "        end\n",
    "    end\n",
    "    return (posfirst, poslast)\n",
    "end\n",
    "findletters(\"Partial Differential Equations\", 'a')"
   ]
  },
  {
   "cell_type": "markdown",
   "id": "ac9e0f9a",
   "metadata": {},
   "source": [
    "### Question 5: \n",
    "\n",
    "Now, add the missing lines in a function which computes the number of occurances of a given letter in a string."
   ]
  },
  {
   "cell_type": "code",
   "execution_count": null,
   "id": "ff79996a",
   "metadata": {},
   "outputs": [],
   "source": [
    "function countletters(str::String, c::Char)\n",
    "\n",
    "    .......................\n",
    "    for i in 1:length(str)\n",
    "        if str[i]==c\n",
    "\n",
    "            ...................................\n",
    "            \n",
    "        end\n",
    "    end\n",
    "\n",
    "    ............................\n",
    "end\n",
    "countletters(\"Partial Differential Equations\", 'a')"
   ]
  },
  {
   "cell_type": "markdown",
   "id": "092d1e40",
   "metadata": {},
   "source": [
    "### Question 6: \n",
    "\n",
    "The following function is meant to find all the prime numbes between 1 and n. However, the function has 3 bugs. Find and fix them all."
   ]
  },
  {
   "cell_type": "code",
   "execution_count": null,
   "id": "85d918bb",
   "metadata": {
    "scrolled": true
   },
   "outputs": [],
   "source": [
    "function findprimes(n::Int)\n",
    "    isprime=fill(false, n)\n",
    "    for testnum=2 : n\n",
    "        if isprime[testnum]\n",
    "            for j = 2 : (n ÷ testnum)\n",
    "                isprime[testnum]=false\n",
    "            end\n",
    "        end\n",
    "    end\n",
    "    primes=Int[]\n",
    "    for i=2:n\n",
    "        if isprime(i)\n",
    "            push!(primes, i)\n",
    "        end\n",
    "    end\n",
    "    return primes\n",
    "end\n",
    "findprimes(44)"
   ]
  }
 ],
 "metadata": {
  "kernelspec": {
   "display_name": "Julia 1.11.5",
   "language": "julia",
   "name": "julia-1.11"
  },
  "language_info": {
   "file_extension": ".jl",
   "mimetype": "application/julia",
   "name": "julia",
   "version": "1.11.5"
  }
 },
 "nbformat": 4,
 "nbformat_minor": 5
}
